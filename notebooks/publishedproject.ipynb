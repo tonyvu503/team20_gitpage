{
 "cells": [
  {
   "cell_type": "markdown",
   "id": "73c145cf",
   "metadata": {},
   "source": [
    "# 0-Importing libraries"
   ]
  },
  {
   "cell_type": "code",
   "execution_count": 1,
   "id": "88a2dcd5",
   "metadata": {
    "execution": {
     "iopub.execute_input": "2023-02-09T18:20:39.657670Z",
     "iopub.status.busy": "2023-02-09T18:20:39.657022Z",
     "iopub.status.idle": "2023-02-09T18:20:47.844101Z",
     "shell.execute_reply": "2023-02-09T18:20:47.843025Z",
     "shell.execute_reply.started": "2023-02-09T18:20:39.657283Z"
    }
   },
   "outputs": [
    {
     "name": "stderr",
     "output_type": "stream",
     "text": [
      "[nltk_data] Downloading package stopwords to\n",
      "[nltk_data]     C:\\Users\\PC\\AppData\\Roaming\\nltk_data...\n",
      "[nltk_data]   Package stopwords is already up-to-date!\n"
     ]
    },
    {
     "data": {
      "text/plain": [
       "True"
      ]
     },
     "execution_count": 1,
     "metadata": {},
     "output_type": "execute_result"
    }
   ],
   "source": [
    "import numpy as np\n",
    "import pandas as pd\n",
    "from sklearn.model_selection import train_test_split\n",
    "import seaborn as sns\n",
    "import nltk\n",
    "import re\n",
    "import tensorflow as tf\n",
    "from tensorflow.keras import Sequential,Model\n",
    "from tensorflow.keras import initializers\n",
    "from tensorflow.keras.layers import Dense,MaxPool1D,Dropout,Embedding,Activation,Convolution1D,add,BatchNormalization,Flatten,Reshape,Concatenate,LSTM,GRU\n",
    "from tensorflow.keras.callbacks import ModelCheckpoint,ReduceLROnPlateau,EarlyStopping,Callback\n",
    "from tensorflow.keras.optimizers import Adam,SGD,Adamax,RMSprop\n",
    "from tensorflow.keras import regularizers\n",
    "from tensorflow.keras.utils import plot_model\n",
    "from nltk.stem import WordNetLemmatizer\n",
    "import string\n",
    "from nltk.corpus import stopwords\n",
    "import matplotlib.pyplot as plt\n",
    "from tensorflow.keras.preprocessing.sequence import pad_sequences\n",
    "from keras.preprocessing.text import Tokenizer\n",
    "nltk.download('stopwords')"
   ]
  },
  {
   "cell_type": "markdown",
   "id": "c1e59222",
   "metadata": {},
   "source": [
    "# 1-Reading the dataset\n",
    "Data source : https://www.kaggle.com/datasets/mfaaris/spotify-app-reviews-2022\n",
    "This dataset contains reviews of Spotify App from 1/1/2022 - 7/9/2022 collected from Google Play Store. The dataset contains 5 collums which are as following:\n",
    "* **Time_submitted**: the timestamp when the review was submitted\n",
    "* **Review**: Customers review about the application\n",
    "* **Rating**: Given rating for the application\n",
    "* **Total_thumsup**: How many people found the review helpful\n",
    "* **Reply**: Reply to customer review \n"
   ]
  },
  {
   "cell_type": "code",
   "execution_count": 2,
   "id": "b396d359",
   "metadata": {
    "execution": {
     "iopub.execute_input": "2023-02-09T18:20:47.846665Z",
     "iopub.status.busy": "2023-02-09T18:20:47.845999Z",
     "iopub.status.idle": "2023-02-09T18:20:48.210925Z",
     "shell.execute_reply": "2023-02-09T18:20:48.209988Z",
     "shell.execute_reply.started": "2023-02-09T18:20:47.846628Z"
    }
   },
   "outputs": [],
   "source": [
    "df = pd.read_csv('reviews.csv')"
   ]
  },
  {
   "cell_type": "code",
   "execution_count": 3,
   "id": "b761bb59",
   "metadata": {
    "execution": {
     "iopub.execute_input": "2023-02-09T18:20:48.212730Z",
     "iopub.status.busy": "2023-02-09T18:20:48.212349Z",
     "iopub.status.idle": "2023-02-09T18:20:48.231474Z",
     "shell.execute_reply": "2023-02-09T18:20:48.230464Z",
     "shell.execute_reply.started": "2023-02-09T18:20:48.212688Z"
    }
   },
   "outputs": [
    {
     "data": {
      "text/html": [
       "<div>\n",
       "<style scoped>\n",
       "    .dataframe tbody tr th:only-of-type {\n",
       "        vertical-align: middle;\n",
       "    }\n",
       "\n",
       "    .dataframe tbody tr th {\n",
       "        vertical-align: top;\n",
       "    }\n",
       "\n",
       "    .dataframe thead th {\n",
       "        text-align: right;\n",
       "    }\n",
       "</style>\n",
       "<table border=\"1\" class=\"dataframe\">\n",
       "  <thead>\n",
       "    <tr style=\"text-align: right;\">\n",
       "      <th></th>\n",
       "      <th>Time_submitted</th>\n",
       "      <th>Review</th>\n",
       "      <th>Rating</th>\n",
       "      <th>Total_thumbsup</th>\n",
       "      <th>Reply</th>\n",
       "    </tr>\n",
       "  </thead>\n",
       "  <tbody>\n",
       "    <tr>\n",
       "      <th>0</th>\n",
       "      <td>2022-07-09 15:00:00</td>\n",
       "      <td>Great music service, the audio is high quality...</td>\n",
       "      <td>5</td>\n",
       "      <td>2</td>\n",
       "      <td>NaN</td>\n",
       "    </tr>\n",
       "    <tr>\n",
       "      <th>1</th>\n",
       "      <td>2022-07-09 14:21:22</td>\n",
       "      <td>Please ignore previous negative rating. This a...</td>\n",
       "      <td>5</td>\n",
       "      <td>1</td>\n",
       "      <td>NaN</td>\n",
       "    </tr>\n",
       "    <tr>\n",
       "      <th>2</th>\n",
       "      <td>2022-07-09 13:27:32</td>\n",
       "      <td>This pop-up \"Get the best Spotify experience o...</td>\n",
       "      <td>4</td>\n",
       "      <td>0</td>\n",
       "      <td>NaN</td>\n",
       "    </tr>\n",
       "    <tr>\n",
       "      <th>3</th>\n",
       "      <td>2022-07-09 13:26:45</td>\n",
       "      <td>Really buggy and terrible to use as of recently</td>\n",
       "      <td>1</td>\n",
       "      <td>1</td>\n",
       "      <td>NaN</td>\n",
       "    </tr>\n",
       "    <tr>\n",
       "      <th>4</th>\n",
       "      <td>2022-07-09 13:20:49</td>\n",
       "      <td>Dear Spotify why do I get songs that I didn't ...</td>\n",
       "      <td>1</td>\n",
       "      <td>1</td>\n",
       "      <td>NaN</td>\n",
       "    </tr>\n",
       "  </tbody>\n",
       "</table>\n",
       "</div>"
      ],
      "text/plain": [
       "        Time_submitted                                             Review  \\\n",
       "0  2022-07-09 15:00:00  Great music service, the audio is high quality...   \n",
       "1  2022-07-09 14:21:22  Please ignore previous negative rating. This a...   \n",
       "2  2022-07-09 13:27:32  This pop-up \"Get the best Spotify experience o...   \n",
       "3  2022-07-09 13:26:45    Really buggy and terrible to use as of recently   \n",
       "4  2022-07-09 13:20:49  Dear Spotify why do I get songs that I didn't ...   \n",
       "\n",
       "   Rating  Total_thumbsup Reply  \n",
       "0       5               2   NaN  \n",
       "1       5               1   NaN  \n",
       "2       4               0   NaN  \n",
       "3       1               1   NaN  \n",
       "4       1               1   NaN  "
      ]
     },
     "execution_count": 3,
     "metadata": {},
     "output_type": "execute_result"
    }
   ],
   "source": [
    "df.head()"
   ]
  },
  {
   "cell_type": "code",
   "execution_count": 4,
   "id": "f451ce23",
   "metadata": {
    "execution": {
     "iopub.execute_input": "2023-02-09T18:20:48.234473Z",
     "iopub.status.busy": "2023-02-09T18:20:48.234046Z",
     "iopub.status.idle": "2023-02-09T18:20:48.240633Z",
     "shell.execute_reply": "2023-02-09T18:20:48.239649Z",
     "shell.execute_reply.started": "2023-02-09T18:20:48.234438Z"
    }
   },
   "outputs": [
    {
     "data": {
      "text/plain": [
       "(61594, 5)"
      ]
     },
     "execution_count": 4,
     "metadata": {},
     "output_type": "execute_result"
    }
   ],
   "source": [
    "df.shape"
   ]
  },
  {
   "cell_type": "markdown",
   "id": "1e9bbe6b",
   "metadata": {},
   "source": [
    "# 2-Data Exploration"
   ]
  },
  {
   "cell_type": "code",
   "execution_count": 5,
   "id": "1920b19e",
   "metadata": {
    "execution": {
     "iopub.execute_input": "2023-02-09T18:20:48.243053Z",
     "iopub.status.busy": "2023-02-09T18:20:48.242306Z",
     "iopub.status.idle": "2023-02-09T18:20:48.275186Z",
     "shell.execute_reply": "2023-02-09T18:20:48.274177Z",
     "shell.execute_reply.started": "2023-02-09T18:20:48.243015Z"
    }
   },
   "outputs": [
    {
     "name": "stdout",
     "output_type": "stream",
     "text": [
      "<class 'pandas.core.frame.DataFrame'>\n",
      "RangeIndex: 61594 entries, 0 to 61593\n",
      "Data columns (total 5 columns):\n",
      " #   Column          Non-Null Count  Dtype \n",
      "---  ------          --------------  ----- \n",
      " 0   Time_submitted  61594 non-null  object\n",
      " 1   Review          61594 non-null  object\n",
      " 2   Rating          61594 non-null  int64 \n",
      " 3   Total_thumbsup  61594 non-null  int64 \n",
      " 4   Reply           216 non-null    object\n",
      "dtypes: int64(2), object(3)\n",
      "memory usage: 2.3+ MB\n"
     ]
    }
   ],
   "source": [
    "df.info()"
   ]
  },
  {
   "cell_type": "markdown",
   "id": "34bc8ace",
   "metadata": {},
   "source": [
    "2-1- Dropping unused columns\n"
   ]
  },
  {
   "cell_type": "markdown",
   "id": "54e9011b",
   "metadata": {},
   "source": [
    "For our project, we will use only 2 columns from the dataset, which are the \"Review\" and \"Rating\". While \"Review\" will be used as feature, \"Rating\" will be our target label with 5 different class of (1,2,3,4,5)"
   ]
  },
  {
   "cell_type": "code",
   "execution_count": 6,
   "id": "0c5f24a8",
   "metadata": {
    "execution": {
     "iopub.execute_input": "2023-02-09T18:20:48.276807Z",
     "iopub.status.busy": "2023-02-09T18:20:48.276483Z",
     "iopub.status.idle": "2023-02-09T18:20:48.289940Z",
     "shell.execute_reply": "2023-02-09T18:20:48.288923Z",
     "shell.execute_reply.started": "2023-02-09T18:20:48.276769Z"
    }
   },
   "outputs": [
    {
     "data": {
      "text/html": [
       "<div>\n",
       "<style scoped>\n",
       "    .dataframe tbody tr th:only-of-type {\n",
       "        vertical-align: middle;\n",
       "    }\n",
       "\n",
       "    .dataframe tbody tr th {\n",
       "        vertical-align: top;\n",
       "    }\n",
       "\n",
       "    .dataframe thead th {\n",
       "        text-align: right;\n",
       "    }\n",
       "</style>\n",
       "<table border=\"1\" class=\"dataframe\">\n",
       "  <thead>\n",
       "    <tr style=\"text-align: right;\">\n",
       "      <th></th>\n",
       "      <th>Review</th>\n",
       "      <th>Rating</th>\n",
       "    </tr>\n",
       "  </thead>\n",
       "  <tbody>\n",
       "    <tr>\n",
       "      <th>0</th>\n",
       "      <td>Great music service, the audio is high quality...</td>\n",
       "      <td>5</td>\n",
       "    </tr>\n",
       "    <tr>\n",
       "      <th>1</th>\n",
       "      <td>Please ignore previous negative rating. This a...</td>\n",
       "      <td>5</td>\n",
       "    </tr>\n",
       "    <tr>\n",
       "      <th>2</th>\n",
       "      <td>This pop-up \"Get the best Spotify experience o...</td>\n",
       "      <td>4</td>\n",
       "    </tr>\n",
       "    <tr>\n",
       "      <th>3</th>\n",
       "      <td>Really buggy and terrible to use as of recently</td>\n",
       "      <td>1</td>\n",
       "    </tr>\n",
       "    <tr>\n",
       "      <th>4</th>\n",
       "      <td>Dear Spotify why do I get songs that I didn't ...</td>\n",
       "      <td>1</td>\n",
       "    </tr>\n",
       "    <tr>\n",
       "      <th>...</th>\n",
       "      <td>...</td>\n",
       "      <td>...</td>\n",
       "    </tr>\n",
       "    <tr>\n",
       "      <th>61589</th>\n",
       "      <td>Even though it was communicated that lyrics fe...</td>\n",
       "      <td>1</td>\n",
       "    </tr>\n",
       "    <tr>\n",
       "      <th>61590</th>\n",
       "      <td>Use to be sooo good back when I had it, and wh...</td>\n",
       "      <td>1</td>\n",
       "    </tr>\n",
       "    <tr>\n",
       "      <th>61591</th>\n",
       "      <td>This app would be good if not for it taking ov...</td>\n",
       "      <td>2</td>\n",
       "    </tr>\n",
       "    <tr>\n",
       "      <th>61592</th>\n",
       "      <td>The app is good hard to navigate and won't jus...</td>\n",
       "      <td>2</td>\n",
       "    </tr>\n",
       "    <tr>\n",
       "      <th>61593</th>\n",
       "      <td>Its good but sometimes it doesnt load the musi...</td>\n",
       "      <td>4</td>\n",
       "    </tr>\n",
       "  </tbody>\n",
       "</table>\n",
       "<p>61594 rows × 2 columns</p>\n",
       "</div>"
      ],
      "text/plain": [
       "                                                  Review  Rating\n",
       "0      Great music service, the audio is high quality...       5\n",
       "1      Please ignore previous negative rating. This a...       5\n",
       "2      This pop-up \"Get the best Spotify experience o...       4\n",
       "3        Really buggy and terrible to use as of recently       1\n",
       "4      Dear Spotify why do I get songs that I didn't ...       1\n",
       "...                                                  ...     ...\n",
       "61589  Even though it was communicated that lyrics fe...       1\n",
       "61590  Use to be sooo good back when I had it, and wh...       1\n",
       "61591  This app would be good if not for it taking ov...       2\n",
       "61592  The app is good hard to navigate and won't jus...       2\n",
       "61593  Its good but sometimes it doesnt load the musi...       4\n",
       "\n",
       "[61594 rows x 2 columns]"
      ]
     },
     "execution_count": 6,
     "metadata": {},
     "output_type": "execute_result"
    }
   ],
   "source": [
    "spotify = df.drop(['Time_submitted', 'Total_thumbsup','Reply'], axis =1)\n",
    "spotify"
   ]
  },
  {
   "cell_type": "markdown",
   "id": "38bfe9a7",
   "metadata": {},
   "source": [
    " 2-2- Finding the class number"
   ]
  },
  {
   "cell_type": "code",
   "execution_count": 7,
   "id": "4e5e57ec",
   "metadata": {
    "execution": {
     "iopub.execute_input": "2023-02-09T18:20:48.292131Z",
     "iopub.status.busy": "2023-02-09T18:20:48.291482Z",
     "iopub.status.idle": "2023-02-09T18:20:48.303624Z",
     "shell.execute_reply": "2023-02-09T18:20:48.302518Z",
     "shell.execute_reply.started": "2023-02-09T18:20:48.292095Z"
    }
   },
   "outputs": [
    {
     "data": {
      "text/plain": [
       "5"
      ]
     },
     "execution_count": 7,
     "metadata": {},
     "output_type": "execute_result"
    }
   ],
   "source": [
    "spotify['Rating'].nunique()"
   ]
  },
  {
   "cell_type": "markdown",
   "id": "1098b876",
   "metadata": {},
   "source": [
    " 2-3- Finding and eliminating the duplicate rows"
   ]
  },
  {
   "cell_type": "code",
   "execution_count": 8,
   "id": "8874866b",
   "metadata": {
    "execution": {
     "iopub.execute_input": "2023-02-09T18:20:48.305776Z",
     "iopub.status.busy": "2023-02-09T18:20:48.305414Z",
     "iopub.status.idle": "2023-02-09T18:20:48.353364Z",
     "shell.execute_reply": "2023-02-09T18:20:48.352370Z",
     "shell.execute_reply.started": "2023-02-09T18:20:48.305742Z"
    }
   },
   "outputs": [
    {
     "data": {
      "text/plain": [
       "201"
      ]
     },
     "execution_count": 8,
     "metadata": {},
     "output_type": "execute_result"
    }
   ],
   "source": [
    "spotify.duplicated().sum()"
   ]
  },
  {
   "cell_type": "code",
   "execution_count": 9,
   "id": "0ed373c9",
   "metadata": {
    "execution": {
     "iopub.execute_input": "2023-02-09T18:20:48.356771Z",
     "iopub.status.busy": "2023-02-09T18:20:48.356499Z",
     "iopub.status.idle": "2023-02-09T18:20:48.394023Z",
     "shell.execute_reply": "2023-02-09T18:20:48.393154Z",
     "shell.execute_reply.started": "2023-02-09T18:20:48.356746Z"
    }
   },
   "outputs": [],
   "source": [
    "spotify = spotify.drop_duplicates(keep=\"first\")"
   ]
  },
  {
   "cell_type": "code",
   "execution_count": 10,
   "id": "d2d9ed54",
   "metadata": {
    "execution": {
     "iopub.execute_input": "2023-02-09T18:20:48.398589Z",
     "iopub.status.busy": "2023-02-09T18:20:48.398312Z",
     "iopub.status.idle": "2023-02-09T18:20:48.405168Z",
     "shell.execute_reply": "2023-02-09T18:20:48.404169Z",
     "shell.execute_reply.started": "2023-02-09T18:20:48.398565Z"
    }
   },
   "outputs": [
    {
     "data": {
      "text/plain": [
       "(61393, 2)"
      ]
     },
     "execution_count": 10,
     "metadata": {},
     "output_type": "execute_result"
    }
   ],
   "source": [
    "spotify.shape"
   ]
  },
  {
   "cell_type": "markdown",
   "id": "024ceec7",
   "metadata": {},
   "source": [
    "2-4 Checking null values"
   ]
  },
  {
   "cell_type": "code",
   "execution_count": 11,
   "id": "f42def58",
   "metadata": {
    "execution": {
     "iopub.execute_input": "2023-02-09T18:20:48.407372Z",
     "iopub.status.busy": "2023-02-09T18:20:48.406710Z",
     "iopub.status.idle": "2023-02-09T18:20:48.928607Z",
     "shell.execute_reply": "2023-02-09T18:20:48.927545Z",
     "shell.execute_reply.started": "2023-02-09T18:20:48.407334Z"
    }
   },
   "outputs": [
    {
     "data": {
      "text/plain": [
       "<AxesSubplot:>"
      ]
     },
     "execution_count": 11,
     "metadata": {},
     "output_type": "execute_result"
    },
    {
     "data": {
      "image/png": "[encoded data removed]",
      "text/plain": [
       "<Figure size 864x576 with 1 Axes>"
      ]
     },
     "metadata": {
      "needs_background": "light"
     },
     "output_type": "display_data"
    }
   ],
   "source": [
    "plt.figure(figsize=(12,8))\n",
    "sns.heatmap(spotify.isnull(),cbar=False)"
   ]
  },
  {
   "cell_type": "code",
   "execution_count": 12,
   "id": "79c8212c",
   "metadata": {
    "execution": {
     "iopub.execute_input": "2023-02-09T18:20:48.930928Z",
     "iopub.status.busy": "2023-02-09T18:20:48.930277Z",
     "iopub.status.idle": "2023-02-09T18:20:48.945264Z",
     "shell.execute_reply": "2023-02-09T18:20:48.943356Z",
     "shell.execute_reply.started": "2023-02-09T18:20:48.930884Z"
    }
   },
   "outputs": [
    {
     "data": {
      "text/plain": [
       "False"
      ]
     },
     "execution_count": 12,
     "metadata": {},
     "output_type": "execute_result"
    }
   ],
   "source": [
    "spotify.isnull().values.any() "
   ]
  },
  {
   "cell_type": "markdown",
   "id": "4e6c0c87",
   "metadata": {},
   "source": [
    " 2-5- Distribution of classes"
   ]
  },
  {
   "cell_type": "code",
   "execution_count": 13,
   "id": "aef542f5",
   "metadata": {
    "execution": {
     "iopub.execute_input": "2023-02-09T18:20:48.947211Z",
     "iopub.status.busy": "2023-02-09T18:20:48.946802Z",
     "iopub.status.idle": "2023-02-09T18:20:48.958282Z",
     "shell.execute_reply": "2023-02-09T18:20:48.957203Z",
     "shell.execute_reply.started": "2023-02-09T18:20:48.947176Z"
    }
   },
   "outputs": [
    {
     "data": {
      "text/plain": [
       "5    21950\n",
       "1    17617\n",
       "4     7831\n",
       "2     7114\n",
       "3     6881\n",
       "Name: Rating, dtype: int64"
      ]
     },
     "execution_count": 13,
     "metadata": {},
     "output_type": "execute_result"
    }
   ],
   "source": [
    "spotify.Rating.value_counts()"
   ]
  },
  {
   "cell_type": "code",
   "execution_count": 14,
   "id": "e5d99e36",
   "metadata": {
    "execution": {
     "iopub.execute_input": "2023-02-09T18:20:48.960376Z",
     "iopub.status.busy": "2023-02-09T18:20:48.959908Z",
     "iopub.status.idle": "2023-02-09T18:20:49.146026Z",
     "shell.execute_reply": "2023-02-09T18:20:49.145107Z",
     "shell.execute_reply.started": "2023-02-09T18:20:48.960294Z"
    }
   },
   "outputs": [
    {
     "data": {
      "text/plain": [
       "<AxesSubplot:xlabel='Rating', ylabel='count'>"
      ]
     },
     "execution_count": 14,
     "metadata": {},
     "output_type": "execute_result"
    },
    {
     "data": {
      "image/png": "[encoded data removed]",
      "text/plain": [
       "<Figure size 432x288 with 1 Axes>"
      ]
     },
     "metadata": {
      "needs_background": "light"
     },
     "output_type": "display_data"
    }
   ],
   "source": [
    "sns.countplot(x='Rating', data=spotify)"
   ]
  },
  {
   "cell_type": "code",
   "execution_count": 15,
   "id": "917dd10c",
   "metadata": {
    "execution": {
     "iopub.execute_input": "2023-02-09T18:20:49.147818Z",
     "iopub.status.busy": "2023-02-09T18:20:49.147480Z",
     "iopub.status.idle": "2023-02-09T18:20:49.154896Z",
     "shell.execute_reply": "2023-02-09T18:20:49.153877Z",
     "shell.execute_reply.started": "2023-02-09T18:20:49.147783Z"
    }
   },
   "outputs": [
    {
     "data": {
      "text/plain": [
       "'Great music service, the audio is high quality and the app is easy to use. Also very quick and friendly support.'"
      ]
     },
     "execution_count": 15,
     "metadata": {},
     "output_type": "execute_result"
    }
   ],
   "source": [
    "spotify['Review'][0]"
   ]
  },
  {
   "cell_type": "markdown",
   "id": "a2ec3db1",
   "metadata": {},
   "source": [
    "# 3-Data Preprocessing"
   ]
  },
  {
   "cell_type": "markdown",
   "id": "99afadea",
   "metadata": {},
   "source": [
    " 3-1 Text(Review) cleaning"
   ]
  },
  {
   "cell_type": "markdown",
   "id": "6b41b6a7",
   "metadata": {},
   "source": [
    "In this part, we cleaned the text of each review by defining a function with the help of Re library (lower case, removing punctuation, removing URLs, removing next line character, transforming some informal words to the formal ones, removng stopwords and lemmitization)"
   ]
  },
  {
   "cell_type": "code",
   "execution_count": 16,
   "id": "44d8cf49",
   "metadata": {
    "execution": {
     "iopub.execute_input": "2023-02-09T18:20:49.157022Z",
     "iopub.status.busy": "2023-02-09T18:20:49.156662Z",
     "iopub.status.idle": "2023-02-09T18:20:49.171722Z",
     "shell.execute_reply": "2023-02-09T18:20:49.171066Z",
     "shell.execute_reply.started": "2023-02-09T18:20:49.156986Z"
    }
   },
   "outputs": [],
   "source": [
    "stop_words = stopwords.words('english')\n",
    "lemmetizer = WordNetLemmatizer()\n",
    "\n",
    "def textpreprocess(s):\n",
    "    \"\"\"This function cleans the text\n",
    "    Input: string to be cleaned\n",
    "    Return: string after cleaning\n",
    "    \"\"\"\n",
    "    words = [] # empty list\n",
    "    \n",
    "    s = s.strip().lower() # lower the string\n",
    "    s = re.sub(r\"won't\", \"will not\", s)\n",
    "    s = re.sub(r\"can\\'t\", \"can not\", s)    \n",
    "    s = re.sub(r\"n\\'t\", \" not\", s)\n",
    "    s = re.sub(r\"\\'re\", \" are\", s)\n",
    "    s = re.sub(r\"\\'s\", \" is\", s)\n",
    "    s = re.sub(r\"\\'d\", \" would\", s)\n",
    "    s = re.sub(r\"\\'ll\", \" will\", s)\n",
    "    s = re.sub(r\"\\'t\", \" not\", s)\n",
    "    s = re.sub(r\"\\'ve\", \" have\", s)\n",
    "    s = re.sub(r\"\\'m\", \" am\", s)\n",
    "    s = re.sub('\\[.*?\\]', '', s) # removes symbols (.*?\\)\n",
    "    s = re.sub('https?://\\S+|www\\.\\S+', '', s) # remove URLS\n",
    "    s = re.sub('<.*?>+', '', s)\n",
    "    s = re.sub('[%s]' % re.escape(string.punctuation), '', s) # remove punctuations\n",
    "    s = re.sub('\\n', '', s) # remove next line character\n",
    "    s = re.sub('\\w*\\d\\w*', '', s)\n",
    "   \n",
    "    words = s.split() # split the string into list of words\n",
    "    words = [lemmetizer.lemmatize(word) for word in words if word not in stop_words] # removing stop words\n",
    "    s = ' '.join(words) # converting list to string\n",
    "    return s"
   ]
  },
  {
   "cell_type": "markdown",
   "id": "5d4eb04e",
   "metadata": {},
   "source": [
    "Applying the defined function on the reviews and adding a Cleaned_Review column"
   ]
  },
  {
   "cell_type": "code",
   "execution_count": 17,
   "id": "e7dd0bb1",
   "metadata": {
    "execution": {
     "iopub.execute_input": "2023-02-09T18:20:49.173622Z",
     "iopub.status.busy": "2023-02-09T18:20:49.172844Z",
     "iopub.status.idle": "2023-02-09T18:21:02.340746Z",
     "shell.execute_reply": "2023-02-09T18:21:02.339786Z",
     "shell.execute_reply.started": "2023-02-09T18:20:49.173587Z"
    }
   },
   "outputs": [],
   "source": [
    "Cleaned_Review = []\n",
    "sentences = list(spotify['Review'])\n",
    "for i in sentences:\n",
    "    Cleaned_Review.append(textpreprocess(i))"
   ]
  },
  {
   "cell_type": "code",
   "execution_count": 18,
   "id": "b7259942",
   "metadata": {
    "execution": {
     "iopub.execute_input": "2023-02-09T18:21:02.343064Z",
     "iopub.status.busy": "2023-02-09T18:21:02.342184Z",
     "iopub.status.idle": "2023-02-09T18:21:02.364568Z",
     "shell.execute_reply": "2023-02-09T18:21:02.363630Z",
     "shell.execute_reply.started": "2023-02-09T18:21:02.343024Z"
    }
   },
   "outputs": [
    {
     "name": "stderr",
     "output_type": "stream",
     "text": [
      "C:\\Users\\PC\\AppData\\Local\\Temp\\ipykernel_9236\\30757753.py:1: SettingWithCopyWarning: \n",
      "A value is trying to be set on a copy of a slice from a DataFrame.\n",
      "Try using .loc[row_indexer,col_indexer] = value instead\n",
      "\n",
      "See the caveats in the documentation: https://pandas.pydata.org/pandas-docs/stable/user_guide/indexing.html#returning-a-view-versus-a-copy\n",
      "  spotify['Cleaned_Review'] = Cleaned_Review\n"
     ]
    },
    {
     "data": {
      "text/html": [
       "<div>\n",
       "<style scoped>\n",
       "    .dataframe tbody tr th:only-of-type {\n",
       "        vertical-align: middle;\n",
       "    }\n",
       "\n",
       "    .dataframe tbody tr th {\n",
       "        vertical-align: top;\n",
       "    }\n",
       "\n",
       "    .dataframe thead th {\n",
       "        text-align: right;\n",
       "    }\n",
       "</style>\n",
       "<table border=\"1\" class=\"dataframe\">\n",
       "  <thead>\n",
       "    <tr style=\"text-align: right;\">\n",
       "      <th></th>\n",
       "      <th>Review</th>\n",
       "      <th>Rating</th>\n",
       "      <th>Cleaned_Review</th>\n",
       "    </tr>\n",
       "  </thead>\n",
       "  <tbody>\n",
       "    <tr>\n",
       "      <th>0</th>\n",
       "      <td>Great music service, the audio is high quality...</td>\n",
       "      <td>5</td>\n",
       "      <td>great music service audio high quality app eas...</td>\n",
       "    </tr>\n",
       "    <tr>\n",
       "      <th>1</th>\n",
       "      <td>Please ignore previous negative rating. This a...</td>\n",
       "      <td>5</td>\n",
       "      <td>please ignore previous negative rating app sup...</td>\n",
       "    </tr>\n",
       "    <tr>\n",
       "      <th>2</th>\n",
       "      <td>This pop-up \"Get the best Spotify experience o...</td>\n",
       "      <td>4</td>\n",
       "      <td>popup get best spotify experience android anno...</td>\n",
       "    </tr>\n",
       "    <tr>\n",
       "      <th>3</th>\n",
       "      <td>Really buggy and terrible to use as of recently</td>\n",
       "      <td>1</td>\n",
       "      <td>really buggy terrible use recently</td>\n",
       "    </tr>\n",
       "    <tr>\n",
       "      <th>4</th>\n",
       "      <td>Dear Spotify why do I get songs that I didn't ...</td>\n",
       "      <td>1</td>\n",
       "      <td>dear spotify get song put playlist shuffle play</td>\n",
       "    </tr>\n",
       "    <tr>\n",
       "      <th>...</th>\n",
       "      <td>...</td>\n",
       "      <td>...</td>\n",
       "      <td>...</td>\n",
       "    </tr>\n",
       "    <tr>\n",
       "      <th>61589</th>\n",
       "      <td>Even though it was communicated that lyrics fe...</td>\n",
       "      <td>1</td>\n",
       "      <td>even though communicated lyric feature availab...</td>\n",
       "    </tr>\n",
       "    <tr>\n",
       "      <th>61590</th>\n",
       "      <td>Use to be sooo good back when I had it, and wh...</td>\n",
       "      <td>1</td>\n",
       "      <td>use sooo good back downloaded free version cou...</td>\n",
       "    </tr>\n",
       "    <tr>\n",
       "      <th>61591</th>\n",
       "      <td>This app would be good if not for it taking ov...</td>\n",
       "      <td>2</td>\n",
       "      <td>app would good taking device start comp spotif...</td>\n",
       "    </tr>\n",
       "    <tr>\n",
       "      <th>61592</th>\n",
       "      <td>The app is good hard to navigate and won't jus...</td>\n",
       "      <td>2</td>\n",
       "      <td>app good hard navigate let play song click pla...</td>\n",
       "    </tr>\n",
       "    <tr>\n",
       "      <th>61593</th>\n",
       "      <td>Its good but sometimes it doesnt load the musi...</td>\n",
       "      <td>4</td>\n",
       "      <td>good sometimes doesnt load music play like sec...</td>\n",
       "    </tr>\n",
       "  </tbody>\n",
       "</table>\n",
       "<p>61393 rows × 3 columns</p>\n",
       "</div>"
      ],
      "text/plain": [
       "                                                  Review  Rating  \\\n",
       "0      Great music service, the audio is high quality...       5   \n",
       "1      Please ignore previous negative rating. This a...       5   \n",
       "2      This pop-up \"Get the best Spotify experience o...       4   \n",
       "3        Really buggy and terrible to use as of recently       1   \n",
       "4      Dear Spotify why do I get songs that I didn't ...       1   \n",
       "...                                                  ...     ...   \n",
       "61589  Even though it was communicated that lyrics fe...       1   \n",
       "61590  Use to be sooo good back when I had it, and wh...       1   \n",
       "61591  This app would be good if not for it taking ov...       2   \n",
       "61592  The app is good hard to navigate and won't jus...       2   \n",
       "61593  Its good but sometimes it doesnt load the musi...       4   \n",
       "\n",
       "                                          Cleaned_Review  \n",
       "0      great music service audio high quality app eas...  \n",
       "1      please ignore previous negative rating app sup...  \n",
       "2      popup get best spotify experience android anno...  \n",
       "3                     really buggy terrible use recently  \n",
       "4        dear spotify get song put playlist shuffle play  \n",
       "...                                                  ...  \n",
       "61589  even though communicated lyric feature availab...  \n",
       "61590  use sooo good back downloaded free version cou...  \n",
       "61591  app would good taking device start comp spotif...  \n",
       "61592  app good hard navigate let play song click pla...  \n",
       "61593  good sometimes doesnt load music play like sec...  \n",
       "\n",
       "[61393 rows x 3 columns]"
      ]
     },
     "execution_count": 18,
     "metadata": {},
     "output_type": "execute_result"
    }
   ],
   "source": [
    "spotify['Cleaned_Review'] = Cleaned_Review\n",
    "spotify"
   ]
  },
  {
   "cell_type": "markdown",
   "id": "83c74c1b",
   "metadata": {},
   "source": [
    "3-2- Calculating the length of each review "
   ]
  },
  {
   "cell_type": "code",
   "execution_count": 19,
   "id": "5c08de0d",
   "metadata": {
    "execution": {
     "iopub.execute_input": "2023-02-09T18:21:02.366683Z",
     "iopub.status.busy": "2023-02-09T18:21:02.366058Z",
     "iopub.status.idle": "2023-02-09T18:21:02.406263Z",
     "shell.execute_reply": "2023-02-09T18:21:02.405188Z",
     "shell.execute_reply.started": "2023-02-09T18:21:02.366648Z"
    }
   },
   "outputs": [
    {
     "name": "stderr",
     "output_type": "stream",
     "text": [
      "C:\\Users\\PC\\AppData\\Local\\Temp\\ipykernel_9236\\1305701456.py:1: SettingWithCopyWarning: \n",
      "A value is trying to be set on a copy of a slice from a DataFrame.\n",
      "Try using .loc[row_indexer,col_indexer] = value instead\n",
      "\n",
      "See the caveats in the documentation: https://pandas.pydata.org/pandas-docs/stable/user_guide/indexing.html#returning-a-view-versus-a-copy\n",
      "  spotify['Length'] = spotify.Cleaned_Review.apply(lambda x:len(x))\n"
     ]
    },
    {
     "data": {
      "text/html": [
       "<div>\n",
       "<style scoped>\n",
       "    .dataframe tbody tr th:only-of-type {\n",
       "        vertical-align: middle;\n",
       "    }\n",
       "\n",
       "    .dataframe tbody tr th {\n",
       "        vertical-align: top;\n",
       "    }\n",
       "\n",
       "    .dataframe thead th {\n",
       "        text-align: right;\n",
       "    }\n",
       "</style>\n",
       "<table border=\"1\" class=\"dataframe\">\n",
       "  <thead>\n",
       "    <tr style=\"text-align: right;\">\n",
       "      <th></th>\n",
       "      <th>Review</th>\n",
       "      <th>Rating</th>\n",
       "      <th>Cleaned_Review</th>\n",
       "      <th>Length</th>\n",
       "    </tr>\n",
       "  </thead>\n",
       "  <tbody>\n",
       "    <tr>\n",
       "      <th>0</th>\n",
       "      <td>Great music service, the audio is high quality...</td>\n",
       "      <td>5</td>\n",
       "      <td>great music service audio high quality app eas...</td>\n",
       "      <td>79</td>\n",
       "    </tr>\n",
       "    <tr>\n",
       "      <th>1</th>\n",
       "      <td>Please ignore previous negative rating. This a...</td>\n",
       "      <td>5</td>\n",
       "      <td>please ignore previous negative rating app sup...</td>\n",
       "      <td>69</td>\n",
       "    </tr>\n",
       "    <tr>\n",
       "      <th>2</th>\n",
       "      <td>This pop-up \"Get the best Spotify experience o...</td>\n",
       "      <td>4</td>\n",
       "      <td>popup get best spotify experience android anno...</td>\n",
       "      <td>69</td>\n",
       "    </tr>\n",
       "    <tr>\n",
       "      <th>3</th>\n",
       "      <td>Really buggy and terrible to use as of recently</td>\n",
       "      <td>1</td>\n",
       "      <td>really buggy terrible use recently</td>\n",
       "      <td>34</td>\n",
       "    </tr>\n",
       "    <tr>\n",
       "      <th>4</th>\n",
       "      <td>Dear Spotify why do I get songs that I didn't ...</td>\n",
       "      <td>1</td>\n",
       "      <td>dear spotify get song put playlist shuffle play</td>\n",
       "      <td>47</td>\n",
       "    </tr>\n",
       "    <tr>\n",
       "      <th>...</th>\n",
       "      <td>...</td>\n",
       "      <td>...</td>\n",
       "      <td>...</td>\n",
       "      <td>...</td>\n",
       "    </tr>\n",
       "    <tr>\n",
       "      <th>61589</th>\n",
       "      <td>Even though it was communicated that lyrics fe...</td>\n",
       "      <td>1</td>\n",
       "      <td>even though communicated lyric feature availab...</td>\n",
       "      <td>170</td>\n",
       "    </tr>\n",
       "    <tr>\n",
       "      <th>61590</th>\n",
       "      <td>Use to be sooo good back when I had it, and wh...</td>\n",
       "      <td>1</td>\n",
       "      <td>use sooo good back downloaded free version cou...</td>\n",
       "      <td>156</td>\n",
       "    </tr>\n",
       "    <tr>\n",
       "      <th>61591</th>\n",
       "      <td>This app would be good if not for it taking ov...</td>\n",
       "      <td>2</td>\n",
       "      <td>app would good taking device start comp spotif...</td>\n",
       "      <td>284</td>\n",
       "    </tr>\n",
       "    <tr>\n",
       "      <th>61592</th>\n",
       "      <td>The app is good hard to navigate and won't jus...</td>\n",
       "      <td>2</td>\n",
       "      <td>app good hard navigate let play song click pla...</td>\n",
       "      <td>135</td>\n",
       "    </tr>\n",
       "    <tr>\n",
       "      <th>61593</th>\n",
       "      <td>Its good but sometimes it doesnt load the musi...</td>\n",
       "      <td>4</td>\n",
       "      <td>good sometimes doesnt load music play like sec...</td>\n",
       "      <td>115</td>\n",
       "    </tr>\n",
       "  </tbody>\n",
       "</table>\n",
       "<p>61393 rows × 4 columns</p>\n",
       "</div>"
      ],
      "text/plain": [
       "                                                  Review  Rating  \\\n",
       "0      Great music service, the audio is high quality...       5   \n",
       "1      Please ignore previous negative rating. This a...       5   \n",
       "2      This pop-up \"Get the best Spotify experience o...       4   \n",
       "3        Really buggy and terrible to use as of recently       1   \n",
       "4      Dear Spotify why do I get songs that I didn't ...       1   \n",
       "...                                                  ...     ...   \n",
       "61589  Even though it was communicated that lyrics fe...       1   \n",
       "61590  Use to be sooo good back when I had it, and wh...       1   \n",
       "61591  This app would be good if not for it taking ov...       2   \n",
       "61592  The app is good hard to navigate and won't jus...       2   \n",
       "61593  Its good but sometimes it doesnt load the musi...       4   \n",
       "\n",
       "                                          Cleaned_Review  Length  \n",
       "0      great music service audio high quality app eas...      79  \n",
       "1      please ignore previous negative rating app sup...      69  \n",
       "2      popup get best spotify experience android anno...      69  \n",
       "3                     really buggy terrible use recently      34  \n",
       "4        dear spotify get song put playlist shuffle play      47  \n",
       "...                                                  ...     ...  \n",
       "61589  even though communicated lyric feature availab...     170  \n",
       "61590  use sooo good back downloaded free version cou...     156  \n",
       "61591  app would good taking device start comp spotif...     284  \n",
       "61592  app good hard navigate let play song click pla...     135  \n",
       "61593  good sometimes doesnt load music play like sec...     115  \n",
       "\n",
       "[61393 rows x 4 columns]"
      ]
     },
     "execution_count": 19,
     "metadata": {},
     "output_type": "execute_result"
    }
   ],
   "source": [
    "spotify['Length'] = spotify.Cleaned_Review.apply(lambda x:len(x))\n",
    "spotify\n"
   ]
  },
  {
   "cell_type": "code",
   "execution_count": 20,
   "id": "f7f43794",
   "metadata": {
    "execution": {
     "iopub.execute_input": "2023-02-09T18:21:02.408260Z",
     "iopub.status.busy": "2023-02-09T18:21:02.407879Z",
     "iopub.status.idle": "2023-02-09T18:21:02.416629Z",
     "shell.execute_reply": "2023-02-09T18:21:02.415621Z",
     "shell.execute_reply.started": "2023-02-09T18:21:02.408225Z"
    }
   },
   "outputs": [
    {
     "data": {
      "text/plain": [
       "2207"
      ]
     },
     "execution_count": 20,
     "metadata": {},
     "output_type": "execute_result"
    }
   ],
   "source": [
    "spotify.Length.max()"
   ]
  },
  {
   "cell_type": "code",
   "execution_count": 21,
   "id": "43ad1b91",
   "metadata": {
    "execution": {
     "iopub.execute_input": "2023-02-09T18:21:02.418543Z",
     "iopub.status.busy": "2023-02-09T18:21:02.417870Z",
     "iopub.status.idle": "2023-02-09T18:21:02.428328Z",
     "shell.execute_reply": "2023-02-09T18:21:02.427259Z",
     "shell.execute_reply.started": "2023-02-09T18:21:02.418507Z"
    }
   },
   "outputs": [
    {
     "data": {
      "text/plain": [
       "2"
      ]
     },
     "execution_count": 21,
     "metadata": {},
     "output_type": "execute_result"
    }
   ],
   "source": [
    "spotify.Length.min()"
   ]
  },
  {
   "cell_type": "code",
   "execution_count": 22,
   "id": "6579795f",
   "metadata": {
    "execution": {
     "iopub.execute_input": "2023-02-09T18:21:02.430224Z",
     "iopub.status.busy": "2023-02-09T18:21:02.429767Z",
     "iopub.status.idle": "2023-02-09T18:21:02.440854Z",
     "shell.execute_reply": "2023-02-09T18:21:02.440116Z",
     "shell.execute_reply.started": "2023-02-09T18:21:02.430189Z"
    }
   },
   "outputs": [
    {
     "data": {
      "text/plain": [
       "99.9702083299399"
      ]
     },
     "execution_count": 22,
     "metadata": {},
     "output_type": "execute_result"
    }
   ],
   "source": [
    "spotify.Length.mean()"
   ]
  },
  {
   "cell_type": "code",
   "execution_count": 23,
   "id": "0718b2a7",
   "metadata": {
    "execution": {
     "iopub.execute_input": "2023-02-09T19:21:52.820053Z",
     "iopub.status.busy": "2023-02-09T19:21:52.819588Z",
     "iopub.status.idle": "2023-02-09T19:21:52.830270Z",
     "shell.execute_reply": "2023-02-09T19:21:52.828894Z",
     "shell.execute_reply.started": "2023-02-09T19:21:52.820007Z"
    }
   },
   "outputs": [
    {
     "data": {
      "text/plain": [
       "0    44\n",
       "Name: Length, dtype: int64"
      ]
     },
     "execution_count": 23,
     "metadata": {},
     "output_type": "execute_result"
    }
   ],
   "source": [
    "spotify.Length.mode()"
   ]
  },
  {
   "cell_type": "code",
   "execution_count": 24,
   "id": "a2dc1fde",
   "metadata": {
    "execution": {
     "iopub.execute_input": "2023-02-09T18:21:02.442901Z",
     "iopub.status.busy": "2023-02-09T18:21:02.442027Z",
     "iopub.status.idle": "2023-02-09T18:21:02.453083Z",
     "shell.execute_reply": "2023-02-09T18:21:02.452146Z",
     "shell.execute_reply.started": "2023-02-09T18:21:02.442867Z"
    }
   },
   "outputs": [
    {
     "data": {
      "text/plain": [
       "'Great music service, the audio is high quality and the app is easy to use. Also very quick and friendly support.'"
      ]
     },
     "execution_count": 24,
     "metadata": {},
     "output_type": "execute_result"
    }
   ],
   "source": [
    "spotify['Review'][0]"
   ]
  },
  {
   "cell_type": "code",
   "execution_count": 25,
   "id": "5c613226",
   "metadata": {
    "execution": {
     "iopub.execute_input": "2023-02-09T18:21:02.455976Z",
     "iopub.status.busy": "2023-02-09T18:21:02.455696Z",
     "iopub.status.idle": "2023-02-09T18:21:02.465136Z",
     "shell.execute_reply": "2023-02-09T18:21:02.464126Z",
     "shell.execute_reply.started": "2023-02-09T18:21:02.455920Z"
    }
   },
   "outputs": [
    {
     "data": {
      "text/plain": [
       "'great music service audio high quality app easy use also quick friendly support'"
      ]
     },
     "execution_count": 25,
     "metadata": {},
     "output_type": "execute_result"
    }
   ],
   "source": [
    "spotify['Cleaned_Review'][0]"
   ]
  },
  {
   "cell_type": "markdown",
   "id": "c7546b9c",
   "metadata": {},
   "source": [
    " 3-3- Defining the features and labels"
   ]
  },
  {
   "cell_type": "code",
   "execution_count": 30,
   "id": "b333b322",
   "metadata": {
    "execution": {
     "iopub.execute_input": "2023-02-09T18:21:02.467289Z",
     "iopub.status.busy": "2023-02-09T18:21:02.466287Z",
     "iopub.status.idle": "2023-02-09T18:21:02.481229Z",
     "shell.execute_reply": "2023-02-09T18:21:02.480354Z",
     "shell.execute_reply.started": "2023-02-09T18:21:02.467262Z"
    }
   },
   "outputs": [],
   "source": [
    "X = list(spotify['Cleaned_Review'])\n",
    "y = spotify['Rating']"
   ]
  },
  {
   "cell_type": "markdown",
   "id": "e80992da",
   "metadata": {},
   "source": [
    " 3-4- Splitting the dataset for train and test"
   ]
  },
  {
   "cell_type": "code",
   "execution_count": 26,
   "id": "676c0d6d",
   "metadata": {
    "execution": {
     "iopub.execute_input": "2023-02-09T18:21:02.483421Z",
     "iopub.status.busy": "2023-02-09T18:21:02.482424Z",
     "iopub.status.idle": "2023-02-09T18:21:02.507420Z",
     "shell.execute_reply": "2023-02-09T18:21:02.506601Z",
     "shell.execute_reply.started": "2023-02-09T18:21:02.483387Z"
    }
   },
   "outputs": [],
   "source": [
    "X_train, X_test, y_train, y_test = train_test_split(X, y, test_size=0.20, random_state=42)"
   ]
  },
  {
   "cell_type": "code",
   "execution_count": 27,
   "id": "d4cb5b4a",
   "metadata": {
    "execution": {
     "iopub.execute_input": "2023-02-09T18:21:02.510512Z",
     "iopub.status.busy": "2023-02-09T18:21:02.510221Z",
     "iopub.status.idle": "2023-02-09T18:21:02.515975Z",
     "shell.execute_reply": "2023-02-09T18:21:02.515013Z",
     "shell.execute_reply.started": "2023-02-09T18:21:02.510488Z"
    }
   },
   "outputs": [
    {
     "data": {
      "text/plain": [
       "49114"
      ]
     },
     "execution_count": 27,
     "metadata": {},
     "output_type": "execute_result"
    }
   ],
   "source": [
    "len(X_train)"
   ]
  },
  {
   "cell_type": "markdown",
   "id": "85c62448",
   "metadata": {},
   "source": [
    " 3-5-Tokenization of reviews"
   ]
  },
  {
   "cell_type": "code",
   "execution_count": 28,
   "id": "9ab24765",
   "metadata": {
    "execution": {
     "iopub.execute_input": "2023-02-09T18:21:02.528913Z",
     "iopub.status.busy": "2023-02-09T18:21:02.528162Z",
     "iopub.status.idle": "2023-02-09T18:21:04.660876Z",
     "shell.execute_reply": "2023-02-09T18:21:04.659917Z",
     "shell.execute_reply.started": "2023-02-09T18:21:02.528878Z"
    }
   },
   "outputs": [],
   "source": [
    "num_words_ = 5000\n",
    "oov_tok = \"<OOV>\"\n",
    "\n",
    "tokenizer = Tokenizer(num_words=num_words_, oov_token=oov_tok)\n",
    "tokenizer.fit_on_texts(X_train)\n",
    "\n",
    "X_train = tokenizer.texts_to_sequences(X_train)\n",
    "X_test = tokenizer.texts_to_sequences(X_test)"
   ]
  },
  {
   "cell_type": "code",
   "execution_count": 29,
   "id": "03c23a0d",
   "metadata": {
    "execution": {
     "iopub.execute_input": "2023-02-09T18:21:04.663260Z",
     "iopub.status.busy": "2023-02-09T18:21:04.662253Z",
     "iopub.status.idle": "2023-02-09T18:21:04.667616Z",
     "shell.execute_reply": "2023-02-09T18:21:04.666458Z",
     "shell.execute_reply.started": "2023-02-09T18:21:04.663222Z"
    }
   },
   "outputs": [],
   "source": [
    "tokenizer.word_index"
   ]
  },
  {
   "cell_type": "markdown",
   "id": "21a0da45",
   "metadata": {},
   "source": [
    " 3-6- Applying pad sequence on X_train and X_test for equality of the review's length"
   ]
  },
  {
   "cell_type": "code",
   "execution_count": 30,
   "id": "f7779951",
   "metadata": {
    "execution": {
     "iopub.execute_input": "2023-02-09T18:21:04.670143Z",
     "iopub.status.busy": "2023-02-09T18:21:04.669376Z",
     "iopub.status.idle": "2023-02-09T18:21:04.875410Z",
     "shell.execute_reply": "2023-02-09T18:21:04.874457Z",
     "shell.execute_reply.started": "2023-02-09T18:21:04.670107Z"
    }
   },
   "outputs": [],
   "source": [
    "vocab_size = len(tokenizer.word_index) + 1\n",
    "\n",
    "maxlen = 300\n",
    "trunc_type='post'\n",
    "padding_type='post'\n",
    "\n",
    "X_train = pad_sequences(X_train, maxlen=maxlen, truncating= trunc_type, padding=padding_type)\n",
    "X_test = pad_sequences(X_test, padding=padding_type, maxlen=maxlen, truncating= trunc_type)"
   ]
  },
  {
   "cell_type": "code",
   "execution_count": 31,
   "id": "a2d0c8e8",
   "metadata": {
    "execution": {
     "iopub.execute_input": "2023-02-09T18:21:04.877183Z",
     "iopub.status.busy": "2023-02-09T18:21:04.876807Z",
     "iopub.status.idle": "2023-02-09T18:21:04.886171Z",
     "shell.execute_reply": "2023-02-09T18:21:04.885206Z",
     "shell.execute_reply.started": "2023-02-09T18:21:04.877149Z"
    }
   },
   "outputs": [
    {
     "data": {
      "text/plain": [
       "array([ 98, 456, 269, 399,   0,   0,   0,   0,   0,   0,   0,   0,   0,\n",
       "         0,   0,   0,   0,   0,   0,   0,   0,   0,   0,   0,   0,   0,\n",
       "         0,   0,   0,   0,   0,   0,   0,   0,   0,   0,   0,   0,   0,\n",
       "         0,   0,   0,   0,   0,   0,   0,   0,   0,   0,   0,   0,   0,\n",
       "         0,   0,   0,   0,   0,   0,   0,   0,   0,   0,   0,   0,   0,\n",
       "         0,   0,   0,   0,   0,   0,   0,   0,   0,   0,   0,   0,   0,\n",
       "         0,   0,   0,   0,   0,   0,   0,   0,   0,   0,   0,   0,   0,\n",
       "         0,   0,   0,   0,   0,   0,   0,   0,   0,   0,   0,   0,   0,\n",
       "         0,   0,   0,   0,   0,   0,   0,   0,   0,   0,   0,   0,   0,\n",
       "         0,   0,   0,   0,   0,   0,   0,   0,   0,   0,   0,   0,   0,\n",
       "         0,   0,   0,   0,   0,   0,   0,   0,   0,   0,   0,   0,   0,\n",
       "         0,   0,   0,   0,   0,   0,   0,   0,   0,   0,   0,   0,   0,\n",
       "         0,   0,   0,   0,   0,   0,   0,   0,   0,   0,   0,   0,   0,\n",
       "         0,   0,   0,   0,   0,   0,   0,   0,   0,   0,   0,   0,   0,\n",
       "         0,   0,   0,   0,   0,   0,   0,   0,   0,   0,   0,   0,   0,\n",
       "         0,   0,   0,   0,   0,   0,   0,   0,   0,   0,   0,   0,   0,\n",
       "         0,   0,   0,   0,   0,   0,   0,   0,   0,   0,   0,   0,   0,\n",
       "         0,   0,   0,   0,   0,   0,   0,   0,   0,   0,   0,   0,   0,\n",
       "         0,   0,   0,   0,   0,   0,   0,   0,   0,   0,   0,   0,   0,\n",
       "         0,   0,   0,   0,   0,   0,   0,   0,   0,   0,   0,   0,   0,\n",
       "         0,   0,   0,   0,   0,   0,   0,   0,   0,   0,   0,   0,   0,\n",
       "         0,   0,   0,   0,   0,   0,   0,   0,   0,   0,   0,   0,   0,\n",
       "         0,   0,   0,   0,   0,   0,   0,   0,   0,   0,   0,   0,   0,\n",
       "         0], dtype=int32)"
      ]
     },
     "execution_count": 31,
     "metadata": {},
     "output_type": "execute_result"
    }
   ],
   "source": [
    "X_train[0]"
   ]
  },
  {
   "cell_type": "code",
   "execution_count": 32,
   "id": "83635bda",
   "metadata": {
    "execution": {
     "iopub.execute_input": "2023-02-09T18:21:04.888272Z",
     "iopub.status.busy": "2023-02-09T18:21:04.887659Z",
     "iopub.status.idle": "2023-02-09T18:21:04.899767Z",
     "shell.execute_reply": "2023-02-09T18:21:04.898680Z",
     "shell.execute_reply.started": "2023-02-09T18:21:04.888235Z"
    }
   },
   "outputs": [
    {
     "data": {
      "text/plain": [
       "5"
      ]
     },
     "execution_count": 32,
     "metadata": {},
     "output_type": "execute_result"
    }
   ],
   "source": [
    "y_train[0]"
   ]
  },
  {
   "attachments": {},
   "cell_type": "markdown",
   "id": "dde0c602",
   "metadata": {},
   "source": [
    " 3-7- Changing the range of labels from [1,5) to [0,4]"
   ]
  },
  {
   "cell_type": "code",
   "execution_count": 33,
   "id": "256da07e",
   "metadata": {
    "execution": {
     "iopub.execute_input": "2023-02-09T18:21:04.901728Z",
     "iopub.status.busy": "2023-02-09T18:21:04.901355Z",
     "iopub.status.idle": "2023-02-09T18:21:04.912727Z",
     "shell.execute_reply": "2023-02-09T18:21:04.911835Z",
     "shell.execute_reply.started": "2023-02-09T18:21:04.901689Z"
    }
   },
   "outputs": [],
   "source": [
    "y_test = y_test.map(lambda x: x % 5)"
   ]
  },
  {
   "cell_type": "code",
   "execution_count": 34,
   "id": "34c44305",
   "metadata": {
    "execution": {
     "iopub.execute_input": "2023-02-09T18:21:04.914689Z",
     "iopub.status.busy": "2023-02-09T18:21:04.914347Z",
     "iopub.status.idle": "2023-02-09T18:21:04.937854Z",
     "shell.execute_reply": "2023-02-09T18:21:04.937068Z",
     "shell.execute_reply.started": "2023-02-09T18:21:04.914655Z"
    }
   },
   "outputs": [],
   "source": [
    "y_train = y_train.map(lambda x: x % 5)"
   ]
  },
  {
   "attachments": {},
   "cell_type": "markdown",
   "id": "46f90411",
   "metadata": {},
   "source": [
    "3-8-Loading pretrained 50 dimension Glove embedding"
   ]
  },
  {
   "cell_type": "code",
   "execution_count": 35,
   "id": "414feb5a",
   "metadata": {
    "execution": {
     "iopub.execute_input": "2023-02-09T18:21:04.939669Z",
     "iopub.status.busy": "2023-02-09T18:21:04.939302Z",
     "iopub.status.idle": "2023-02-09T18:21:10.475438Z",
     "shell.execute_reply": "2023-02-09T18:21:10.474465Z",
     "shell.execute_reply.started": "2023-02-09T18:21:04.939636Z"
    }
   },
   "outputs": [],
   "source": [
    "from numpy import array\n",
    "from numpy import asarray\n",
    "from numpy import zeros\n",
    "\n",
    "embeddings_dictionary = dict()\n",
    "glove_file = open('/kaggle/input/glove6b50dtxt/glove.6B.50d.txt', encoding=\"utf8\")\n",
    "\n",
    "for line in glove_file:\n",
    "    records = line.split()\n",
    "    word = records[0]\n",
    "    vector_dimensions = asarray(records[1:], dtype='float32')\n",
    "    embeddings_dictionary [word] = vector_dimensions\n",
    "glove_file.close()"
   ]
  },
  {
   "cell_type": "code",
   "execution_count": 36,
   "id": "e4628a51",
   "metadata": {
    "execution": {
     "iopub.execute_input": "2023-02-09T18:21:10.477203Z",
     "iopub.status.busy": "2023-02-09T18:21:10.476796Z",
     "iopub.status.idle": "2023-02-09T18:21:10.482021Z",
     "shell.execute_reply": "2023-02-09T18:21:10.481034Z",
     "shell.execute_reply.started": "2023-02-09T18:21:10.477165Z"
    }
   },
   "outputs": [],
   "source": [
    "embeddings_dictionary"
   ]
  },
  {
   "cell_type": "markdown",
   "id": "3389480d",
   "metadata": {},
   "source": [
    " 3-9- Creating embedding matrix"
   ]
  },
  {
   "cell_type": "code",
   "execution_count": 37,
   "id": "b6359717",
   "metadata": {
    "execution": {
     "iopub.execute_input": "2023-02-09T18:21:10.483963Z",
     "iopub.status.busy": "2023-02-09T18:21:10.483326Z",
     "iopub.status.idle": "2023-02-09T18:21:10.530063Z",
     "shell.execute_reply": "2023-02-09T18:21:10.529191Z",
     "shell.execute_reply.started": "2023-02-09T18:21:10.483792Z"
    }
   },
   "outputs": [],
   "source": [
    "embedding_matrix = zeros((vocab_size, 50))\n",
    "for word, index in tokenizer.word_index.items():\n",
    "    embedding_vector = embeddings_dictionary.get(word)\n",
    "    if embedding_vector is not None:\n",
    "        embedding_matrix[index] = embedding_vector"
   ]
  },
  {
   "cell_type": "code",
   "execution_count": 38,
   "id": "03fa93b6",
   "metadata": {
    "execution": {
     "iopub.execute_input": "2023-02-09T18:21:10.531857Z",
     "iopub.status.busy": "2023-02-09T18:21:10.531478Z",
     "iopub.status.idle": "2023-02-09T18:21:10.538136Z",
     "shell.execute_reply": "2023-02-09T18:21:10.537222Z",
     "shell.execute_reply.started": "2023-02-09T18:21:10.531824Z"
    }
   },
   "outputs": [
    {
     "data": {
      "text/plain": [
       "(25539, 50)"
      ]
     },
     "execution_count": 38,
     "metadata": {},
     "output_type": "execute_result"
    }
   ],
   "source": [
    "embedding_matrix.shape"
   ]
  },
  {
   "cell_type": "markdown",
   "id": "ecc357de",
   "metadata": {},
   "source": [
    "# 4- Data Modeling and Optimization"
   ]
  },
  {
   "attachments": {},
   "cell_type": "markdown",
   "id": "65c74106",
   "metadata": {},
   "source": [
    " * Firstly, we define a base model for our dataset(model_1) using fully connected (dense) layer. Here, for the model metric, we are using the accuracy score since this is a multi-classification problem \n",
    " * Next, we manually tweak our model by changing the number of layers and number of nodes in each layer to improve the model accuracy.\n",
    " * In the next step, we replace one of the dense layer with LSTM/GRU model to benchmark the model performance\n",
    " * Following that, we pick the best model architecture and perform manually hyperparameter tunning by examining different type of optimizers on the model.\n",
    " * Finally we apply keras random search tuner as another hyperparameter tunner for benchmarking"
   ]
  },
  {
   "cell_type": "markdown",
   "id": "4f608e1e",
   "metadata": {},
   "source": [
    " 4-1- Base model"
   ]
  },
  {
   "cell_type": "code",
   "execution_count": 128,
   "id": "985197c4",
   "metadata": {},
   "outputs": [],
   "source": [
    "model_1 = Sequential()\n",
    "embedding_layer = Embedding(vocab_size, 50, weights=[embedding_matrix], input_length=maxlen , trainable=False)\n",
    "\n",
    "model_1.add(embedding_layer)\n",
    "model_1.add(Dense(16, activation='relu', kernel_initializer=\"he_normal\" ))\n",
    "model_1.add(Flatten())\n",
    "model_1.add(Dense(5, activation='softmax'))\n",
    "\n",
    "optimizer = tf.keras.optimizers.SGD(learning_rate=0.001)\n",
    "model_1.compile(optimizer = optimizer, loss = 'sparse_categorical_crossentropy', metrics = ['accuracy'])"
   ]
  },
  {
   "cell_type": "code",
   "execution_count": 129,
   "id": "c461f57f",
   "metadata": {
    "execution": {
     "iopub.execute_input": "2023-02-09T20:31:09.055192Z",
     "iopub.status.busy": "2023-02-09T20:31:09.054821Z",
     "iopub.status.idle": "2023-02-09T20:32:04.694974Z",
     "shell.execute_reply": "2023-02-09T20:32:04.693734Z",
     "shell.execute_reply.started": "2023-02-09T20:31:09.055162Z"
    }
   },
   "outputs": [
    {
     "name": "stdout",
     "output_type": "stream",
     "text": [
      "Epoch 1/15\n",
      "1228/1228 [==============================] - 4s 3ms/step - loss: 1.4458 - accuracy: 0.4280 - val_loss: 1.3779 - val_accuracy: 0.4662\n",
      "Epoch 2/15\n",
      "1228/1228 [==============================] - 4s 3ms/step - loss: 1.3710 - accuracy: 0.4683 - val_loss: 1.3403 - val_accuracy: 0.4880\n",
      "Epoch 3/15\n",
      "1228/1228 [==============================] - 3s 3ms/step - loss: 1.3350 - accuracy: 0.4885 - val_loss: 1.3098 - val_accuracy: 0.5039\n",
      "Epoch 4/15\n",
      "1228/1228 [==============================] - 4s 3ms/step - loss: 1.3028 - accuracy: 0.5037 - val_loss: 1.2833 - val_accuracy: 0.5200\n",
      "Epoch 5/15\n",
      "1228/1228 [==============================] - 4s 3ms/step - loss: 1.2760 - accuracy: 0.5155 - val_loss: 1.2621 - val_accuracy: 0.5264\n",
      "Epoch 6/15\n",
      "1228/1228 [==============================] - 4s 3ms/step - loss: 1.2545 - accuracy: 0.5240 - val_loss: 1.2456 - val_accuracy: 0.5327\n",
      "Epoch 7/15\n",
      "1228/1228 [==============================] - 4s 3ms/step - loss: 1.2374 - accuracy: 0.5306 - val_loss: 1.2329 - val_accuracy: 0.5369\n",
      "Epoch 8/15\n",
      "1228/1228 [==============================] - 4s 3ms/step - loss: 1.2237 - accuracy: 0.5359 - val_loss: 1.2219 - val_accuracy: 0.5408\n",
      "Epoch 9/15\n",
      "1228/1228 [==============================] - 3s 3ms/step - loss: 1.2119 - accuracy: 0.5406 - val_loss: 1.2133 - val_accuracy: 0.5427\n",
      "Epoch 10/15\n",
      "1228/1228 [==============================] - 3s 3ms/step - loss: 1.2019 - accuracy: 0.5444 - val_loss: 1.2050 - val_accuracy: 0.5453\n",
      "Epoch 11/15\n",
      "1228/1228 [==============================] - 4s 3ms/step - loss: 1.1933 - accuracy: 0.5468 - val_loss: 1.1991 - val_accuracy: 0.5493\n",
      "Epoch 12/15\n",
      "1228/1228 [==============================] - 3s 3ms/step - loss: 1.1859 - accuracy: 0.5496 - val_loss: 1.1931 - val_accuracy: 0.5523\n",
      "Epoch 13/15\n",
      "1228/1228 [==============================] - 3s 3ms/step - loss: 1.1790 - accuracy: 0.5515 - val_loss: 1.1882 - val_accuracy: 0.5521\n",
      "Epoch 14/15\n",
      "1228/1228 [==============================] - 4s 3ms/step - loss: 1.1733 - accuracy: 0.5537 - val_loss: 1.1832 - val_accuracy: 0.5547\n",
      "Epoch 15/15\n",
      "1228/1228 [==============================] - 4s 3ms/step - loss: 1.1677 - accuracy: 0.5557 - val_loss: 1.1799 - val_accuracy: 0.5566\n"
     ]
    }
   ],
   "source": [
    "history = model_1.fit(X_train, y_train, validation_split=0.2, batch_size = 32, epochs = 15)"
   ]
  },
  {
   "cell_type": "code",
   "execution_count": 126,
   "id": "d53b9e25",
   "metadata": {
    "execution": {
     "iopub.execute_input": "2023-02-09T20:30:17.277302Z",
     "iopub.status.busy": "2023-02-09T20:30:17.276865Z",
     "iopub.status.idle": "2023-02-09T20:30:17.281836Z",
     "shell.execute_reply": "2023-02-09T20:30:17.280812Z",
     "shell.execute_reply.started": "2023-02-09T20:30:17.277268Z"
    }
   },
   "outputs": [],
   "source": [
    "# plt.plot(history.history['loss'])\n",
    "# plt.plot(history.history['val_loss'])\n",
    "\n",
    "# plt.title('model 1 loss')\n",
    "# plt.ylabel('loss')\n",
    "# plt.xlabel('epoch')\n",
    "# plt.legend(['train','valid'], loc='upper left')\n",
    "# plt.show()"
   ]
  },
  {
   "cell_type": "code",
   "execution_count": 130,
   "id": "83a29227",
   "metadata": {
    "execution": {
     "iopub.execute_input": "2023-02-09T20:32:09.141567Z",
     "iopub.status.busy": "2023-02-09T20:32:09.140854Z",
     "iopub.status.idle": "2023-02-09T20:32:09.354224Z",
     "shell.execute_reply": "2023-02-09T20:32:09.353334Z",
     "shell.execute_reply.started": "2023-02-09T20:32:09.141533Z"
    }
   },
   "outputs": [
    {
     "data": {
      "image/png": "[encoded data removed]",
      "text/plain": [
       "<Figure size 432x288 with 1 Axes>"
      ]
     },
     "metadata": {
      "needs_background": "light"
     },
     "output_type": "display_data"
    }
   ],
   "source": [
    "plt.plot(history.history['accuracy'])\n",
    "plt.plot(history.history['val_accuracy'])\n",
    "\n",
    "plt.title('model 1 accuracy')\n",
    "plt.ylabel('Accuracy')\n",
    "plt.xlabel('epoch')\n",
    "plt.legend(['train','valid'], loc='upper left')\n",
    "plt.show()"
   ]
  },
  {
   "attachments": {},
   "cell_type": "markdown",
   "id": "df44c2ce",
   "metadata": {},
   "source": [
    "Here, the val_accuracy is higher than the train_accuracy, suggesting that the model is underfitting. Also,both learning curves converge toward the last epoch and on the increasing trend, suggesting that there is still a room to increase the accuracy score when increasing the number of epochs."
   ]
  },
  {
   "cell_type": "code",
   "execution_count": 131,
   "id": "67bf5a17",
   "metadata": {
    "execution": {
     "iopub.execute_input": "2023-02-09T20:32:18.269495Z",
     "iopub.status.busy": "2023-02-09T20:32:18.269126Z",
     "iopub.status.idle": "2023-02-09T20:32:19.154043Z",
     "shell.execute_reply": "2023-02-09T20:32:19.153130Z",
     "shell.execute_reply.started": "2023-02-09T20:32:18.269465Z"
    }
   },
   "outputs": [
    {
     "name": "stdout",
     "output_type": "stream",
     "text": [
      "384/384 [==============================] - 1s 2ms/step - loss: 1.1736 - accuracy: 0.5617\n"
     ]
    }
   ],
   "source": [
    " test_loss, test_acc = model_1.evaluate(X_test, y_test)"
   ]
  },
  {
   "cell_type": "code",
   "execution_count": 132,
   "id": "2e6e4f5d",
   "metadata": {},
   "outputs": [],
   "source": [
    "#4-3- adding another dense layer with 8 nodes\n",
    "# model_2 = Sequential()\n",
    "# embedding_layer = Embedding(vocab_size, 50, weights=[embedding_matrix], input_length=maxlen , trainable=False)\n",
    "\n",
    "# model_2.add(embedding_layer)\n",
    "# model_2.add(Dense(16, activation='relu', kernel_initializer=\"he_normal\" ))\n",
    "# model_2.add(Dense(8, activation='relu', kernel_initializer=\"he_normal\" ))\n",
    "# model_2.add(Flatten())\n",
    "# model_2.add(Dense(5, activation='softmax'))\n",
    "\n",
    "# optimizer = tf.keras.optimizers.SGD(learning_rate=0.001)\n",
    "# model_2.compile(optimizer = optimizer, loss = 'sparse_categorical_crossentropy', metrics = ['accuracy'])"
   ]
  },
  {
   "cell_type": "code",
   "execution_count": 133,
   "id": "b2a18463",
   "metadata": {
    "execution": {
     "iopub.execute_input": "2023-02-09T20:37:02.284403Z",
     "iopub.status.busy": "2023-02-09T20:37:02.284024Z",
     "iopub.status.idle": "2023-02-09T20:37:02.289565Z",
     "shell.execute_reply": "2023-02-09T20:37:02.288300Z",
     "shell.execute_reply.started": "2023-02-09T20:37:02.284375Z"
    }
   },
   "outputs": [],
   "source": [
    "# history = model_2.fit(X_train, y_train, validation_split=0.2, batch_size = 32, epochs = 20)"
   ]
  },
  {
   "cell_type": "code",
   "execution_count": 135,
   "id": "e0b42efb",
   "metadata": {
    "execution": {
     "iopub.execute_input": "2023-02-09T20:37:11.974264Z",
     "iopub.status.busy": "2023-02-09T20:37:11.973832Z",
     "iopub.status.idle": "2023-02-09T20:37:11.979411Z",
     "shell.execute_reply": "2023-02-09T20:37:11.978150Z",
     "shell.execute_reply.started": "2023-02-09T20:37:11.974229Z"
    }
   },
   "outputs": [],
   "source": [
    "# plt.plot(history.history['loss'])\n",
    "# plt.plot(history.history['val_loss'])\n",
    "\n",
    "# plt.title('model 2 loss')\n",
    "# plt.ylabel('loss')\n",
    "# plt.xlabel('epoch')\n",
    "# plt.legend(['train','valid'], loc='upper left')\n",
    "# plt.show()"
   ]
  },
  {
   "cell_type": "code",
   "execution_count": 137,
   "id": "2f2b81cf",
   "metadata": {
    "execution": {
     "iopub.execute_input": "2023-02-09T20:37:23.173399Z",
     "iopub.status.busy": "2023-02-09T20:37:23.173046Z",
     "iopub.status.idle": "2023-02-09T20:37:23.178423Z",
     "shell.execute_reply": "2023-02-09T20:37:23.177208Z",
     "shell.execute_reply.started": "2023-02-09T20:37:23.173369Z"
    }
   },
   "outputs": [],
   "source": [
    "# plt.plot(history.history['accuracy'])\n",
    "# plt.plot(history.history['val_accuracy'])\n",
    "\n",
    "# plt.title('model 2 accuracy')\n",
    "# plt.ylabel('Accuracy')\n",
    "# plt.xlabel('epoch')\n",
    "# plt.legend(['train','valid'], loc='upper left')\n",
    "# plt.show()"
   ]
  },
  {
   "cell_type": "code",
   "execution_count": 53,
   "id": "7503df77",
   "metadata": {
    "execution": {
     "iopub.execute_input": "2023-02-09T18:24:45.513782Z",
     "iopub.status.busy": "2023-02-09T18:24:45.513385Z",
     "iopub.status.idle": "2023-02-09T18:24:46.826653Z",
     "shell.execute_reply": "2023-02-09T18:24:46.825677Z",
     "shell.execute_reply.started": "2023-02-09T18:24:45.513744Z"
    }
   },
   "outputs": [
    {
     "name": "stdout",
     "output_type": "stream",
     "text": [
      "384/384 [==============================] - 1s 2ms/step - loss: 1.1600 - accuracy: 0.5657\n"
     ]
    }
   ],
   "source": [
    "# test_loss, test_acc = model_2.evaluate(X_test, y_test)"
   ]
  },
  {
   "cell_type": "code",
   "execution_count": 54,
   "id": "58d31dfa",
   "metadata": {
    "execution": {
     "iopub.execute_input": "2023-02-09T18:24:46.830006Z",
     "iopub.status.busy": "2023-02-09T18:24:46.828844Z",
     "iopub.status.idle": "2023-02-09T18:24:46.918608Z",
     "shell.execute_reply": "2023-02-09T18:24:46.917675Z",
     "shell.execute_reply.started": "2023-02-09T18:24:46.829950Z"
    }
   },
   "outputs": [],
   "source": [
    "#4-4- Adding another dense layer with 32 units\n",
    "# model_3 = Sequential()\n",
    "# embedding_layer = Embedding(vocab_size, 50, weights=[embedding_matrix], input_length=maxlen , trainable=False)\n",
    "\n",
    "# model_3.add(embedding_layer)\n",
    "# model_3.add(Dense(32, activation='relu', kernel_initializer=\"he_normal\" ))\n",
    "# model_3.add(Dense(16, activation='relu', kernel_initializer=\"he_normal\" ))\n",
    "# model_3.add(Dense(8, activation='relu', kernel_initializer=\"he_normal\" ))\n",
    "# model_3.add(Flatten())\n",
    "# model_3.add(Dense(5, activation='softmax'))\n",
    "\n",
    "# optimizer = tf.keras.optimizers.SGD(learning_rate=0.001)\n",
    "# model_3.compile(optimizer = optimizer, loss = 'sparse_categorical_crossentropy', metrics = ['accuracy'])"
   ]
  },
  {
   "cell_type": "code",
   "execution_count": 138,
   "id": "f11f8559",
   "metadata": {
    "execution": {
     "iopub.execute_input": "2023-02-09T20:37:45.459782Z",
     "iopub.status.busy": "2023-02-09T20:37:45.459415Z",
     "iopub.status.idle": "2023-02-09T20:37:45.464238Z",
     "shell.execute_reply": "2023-02-09T20:37:45.463181Z",
     "shell.execute_reply.started": "2023-02-09T20:37:45.459750Z"
    }
   },
   "outputs": [],
   "source": [
    "# history = model_3.fit(X_train, y_train, validation_split=0.2, batch_size = 32, epochs = 20)"
   ]
  },
  {
   "cell_type": "code",
   "execution_count": 140,
   "id": "e438c864",
   "metadata": {
    "execution": {
     "iopub.execute_input": "2023-02-09T20:37:52.960289Z",
     "iopub.status.busy": "2023-02-09T20:37:52.959917Z",
     "iopub.status.idle": "2023-02-09T20:37:52.964575Z",
     "shell.execute_reply": "2023-02-09T20:37:52.963544Z",
     "shell.execute_reply.started": "2023-02-09T20:37:52.960259Z"
    }
   },
   "outputs": [],
   "source": [
    "# plt.plot(history.history['loss'])\n",
    "# plt.plot(history.history['val_loss'])\n",
    "\n",
    "# plt.title('model 3 loss')\n",
    "# plt.ylabel('loss')\n",
    "# plt.xlabel('epoch')\n",
    "# plt.legend(['train','valid'], loc='upper left')\n",
    "# plt.show()"
   ]
  },
  {
   "cell_type": "code",
   "execution_count": 142,
   "id": "3e81b35e",
   "metadata": {
    "execution": {
     "iopub.execute_input": "2023-02-09T20:38:04.755356Z",
     "iopub.status.busy": "2023-02-09T20:38:04.754996Z",
     "iopub.status.idle": "2023-02-09T20:38:04.760026Z",
     "shell.execute_reply": "2023-02-09T20:38:04.759005Z",
     "shell.execute_reply.started": "2023-02-09T20:38:04.755328Z"
    }
   },
   "outputs": [],
   "source": [
    "# plt.plot(history.history['accuracy'])\n",
    "# plt.plot(history.history['val_accuracy'])\n",
    "\n",
    "# plt.title('model 3 accuracy')\n",
    "# plt.ylabel('Accuracy')\n",
    "# plt.xlabel('epoch')\n",
    "# plt.legend(['train','valid'], loc='upper left')\n",
    "# plt.show()"
   ]
  },
  {
   "cell_type": "code",
   "execution_count": 58,
   "id": "59bb927b",
   "metadata": {
    "execution": {
     "iopub.execute_input": "2023-02-09T18:26:37.735626Z",
     "iopub.status.busy": "2023-02-09T18:26:37.732656Z",
     "iopub.status.idle": "2023-02-09T18:26:38.998628Z",
     "shell.execute_reply": "2023-02-09T18:26:38.997711Z",
     "shell.execute_reply.started": "2023-02-09T18:26:37.735558Z"
    }
   },
   "outputs": [
    {
     "name": "stdout",
     "output_type": "stream",
     "text": [
      "384/384 [==============================] - 1s 3ms/step - loss: 1.1516 - accuracy: 0.5691\n"
     ]
    }
   ],
   "source": [
    "# test_loss, test_acc = model_3.evaluate(X_test, y_test)"
   ]
  },
  {
   "cell_type": "code",
   "execution_count": 143,
   "id": "01be35c7",
   "metadata": {},
   "outputs": [],
   "source": [
    "# 4-5- Adding another dense layer with 8 units\n",
    "# model_4 = Sequential()\n",
    "# embedding_layer = Embedding(vocab_size, 50, weights=[embedding_matrix], input_length=maxlen , trainable=False)\n",
    "\n",
    "# model_4.add(embedding_layer)\n",
    "# model_4.add(Dense(32, activation='relu', kernel_initializer=\"he_normal\" ))\n",
    "# model_4.add(Dense(16, activation='relu', kernel_initializer=\"he_normal\" ))\n",
    "# model_4.add(Dense(8, activation='relu', kernel_initializer=\"he_normal\" ))\n",
    "# model_4.add(Dense(8, activation='relu', kernel_initializer=\"he_normal\" ))\n",
    "# model_4.add(Flatten())\n",
    "# model_4.add(Dense(5, activation='softmax'))\n",
    "\n",
    "# optimizer = tf.keras.optimizers.SGD(learning_rate=0.001)\n",
    "# model_4.compile(optimizer = optimizer, loss = 'sparse_categorical_crossentropy', metrics = ['accuracy'])"
   ]
  },
  {
   "cell_type": "code",
   "execution_count": 149,
   "id": "6db42ba4",
   "metadata": {
    "execution": {
     "iopub.execute_input": "2023-02-09T20:43:05.901826Z",
     "iopub.status.busy": "2023-02-09T20:43:05.901446Z",
     "iopub.status.idle": "2023-02-09T20:43:05.906967Z",
     "shell.execute_reply": "2023-02-09T20:43:05.905739Z",
     "shell.execute_reply.started": "2023-02-09T20:43:05.901793Z"
    }
   },
   "outputs": [],
   "source": [
    "# history = model_4.fit(X_train, y_train, validation_split=0.2, batch_size = 32, epochs = 20)"
   ]
  },
  {
   "cell_type": "code",
   "execution_count": 147,
   "id": "1c305dcc",
   "metadata": {
    "execution": {
     "iopub.execute_input": "2023-02-09T20:38:34.878138Z",
     "iopub.status.busy": "2023-02-09T20:38:34.877461Z",
     "iopub.status.idle": "2023-02-09T20:38:34.882721Z",
     "shell.execute_reply": "2023-02-09T20:38:34.881329Z",
     "shell.execute_reply.started": "2023-02-09T20:38:34.878101Z"
    }
   },
   "outputs": [],
   "source": [
    "# plt.plot(history.history['loss'])\n",
    "# plt.plot(history.history['val_loss'])\n",
    "\n",
    "# plt.title('model 4 loss')\n",
    "# plt.ylabel('loss')\n",
    "# plt.xlabel('epoch')\n",
    "# plt.legend(['train','valid'], loc='upper left')\n",
    "# plt.show()"
   ]
  },
  {
   "cell_type": "code",
   "execution_count": 145,
   "id": "54d76812",
   "metadata": {
    "execution": {
     "iopub.execute_input": "2023-02-09T20:38:32.259002Z",
     "iopub.status.busy": "2023-02-09T20:38:32.258098Z",
     "iopub.status.idle": "2023-02-09T20:38:32.263496Z",
     "shell.execute_reply": "2023-02-09T20:38:32.262182Z",
     "shell.execute_reply.started": "2023-02-09T20:38:32.258959Z"
    }
   },
   "outputs": [],
   "source": [
    "# plt.plot(history.history['accuracy'])\n",
    "# plt.plot(history.history['val_accuracy'])\n",
    "\n",
    "# plt.title('model 4 accuracy')\n",
    "# plt.ylabel('Accuracy')\n",
    "# plt.xlabel('epoch')\n",
    "# plt.legend(['train','valid'], loc='upper left')\n",
    "# plt.show()"
   ]
  },
  {
   "cell_type": "code",
   "execution_count": 148,
   "id": "bc87bac4",
   "metadata": {
    "execution": {
     "iopub.execute_input": "2023-02-09T20:38:40.644600Z",
     "iopub.status.busy": "2023-02-09T20:38:40.644251Z",
     "iopub.status.idle": "2023-02-09T20:38:40.649289Z",
     "shell.execute_reply": "2023-02-09T20:38:40.648088Z",
     "shell.execute_reply.started": "2023-02-09T20:38:40.644571Z"
    }
   },
   "outputs": [],
   "source": [
    "# test_loss, test_acc = model_4.evaluate(X_test, y_test)"
   ]
  },
  {
   "cell_type": "markdown",
   "id": "28c6de5f",
   "metadata": {},
   "source": [
    "4-2 Adding more hidden layer"
   ]
  },
  {
   "cell_type": "markdown",
   "id": "535264cb",
   "metadata": {},
   "source": [
    "We start to increase the model complexity by adding dense layer to our model step-by-step to observe the change in the accuracy model. Below is the 2nd model we have after a few trial. We also increase the number of epochs as suggested above."
   ]
  },
  {
   "cell_type": "markdown",
   "id": "7c517923",
   "metadata": {},
   "source": [
    "*For easy following, all the step taken in model 2,3,4 are commented out as only a little improvement is made.*"
   ]
  },
  {
   "cell_type": "code",
   "execution_count": 150,
   "id": "af8da827",
   "metadata": {
    "execution": {
     "iopub.execute_input": "2023-02-09T20:44:16.023715Z",
     "iopub.status.busy": "2023-02-09T20:44:16.023351Z",
     "iopub.status.idle": "2023-02-09T20:44:16.136638Z",
     "shell.execute_reply": "2023-02-09T20:44:16.135735Z",
     "shell.execute_reply.started": "2023-02-09T20:44:16.023678Z"
    }
   },
   "outputs": [],
   "source": [
    "model_5 = Sequential()\n",
    "embedding_layer = Embedding(vocab_size, 50, weights=[embedding_matrix], input_length=maxlen , trainable=False)\n",
    "\n",
    "model_5.add(embedding_layer)\n",
    "model_5.add(Dense(32, activation='relu', kernel_initializer=\"he_normal\" ))\n",
    "model_5.add(Dense(16, activation='relu', kernel_initializer=\"he_normal\" ))\n",
    "model_5.add(Dense(16, activation='relu', kernel_initializer=\"he_normal\" ))\n",
    "model_5.add(Dense(8, activation='relu', kernel_initializer=\"he_normal\" ))\n",
    "model_5.add(Dense(8, activation='relu', kernel_initializer=\"he_normal\" ))\n",
    "model_5.add(Flatten())\n",
    "model_5.add(Dense(5, activation='softmax'))\n",
    "\n",
    "optimizer = tf.keras.optimizers.SGD(learning_rate=0.001)\n",
    "model_5.compile(optimizer = optimizer, loss = 'sparse_categorical_crossentropy', metrics = ['accuracy'])"
   ]
  },
  {
   "cell_type": "code",
   "execution_count": 151,
   "id": "eb0d58ac",
   "metadata": {
    "execution": {
     "iopub.execute_input": "2023-02-09T20:45:04.956344Z",
     "iopub.status.busy": "2023-02-09T20:45:04.955860Z",
     "iopub.status.idle": "2023-02-09T20:49:44.866131Z",
     "shell.execute_reply": "2023-02-09T20:49:44.865243Z",
     "shell.execute_reply.started": "2023-02-09T20:45:04.956305Z"
    }
   },
   "outputs": [
    {
     "name": "stdout",
     "output_type": "stream",
     "text": [
      "Epoch 1/40\n",
      "1228/1228 [==============================] - 9s 6ms/step - loss: 1.4448 - accuracy: 0.4219 - val_loss: 1.3971 - val_accuracy: 0.4483\n",
      "Epoch 2/40\n",
      "1228/1228 [==============================] - 7s 6ms/step - loss: 1.4044 - accuracy: 0.4424 - val_loss: 1.3772 - val_accuracy: 0.4610\n",
      "Epoch 3/40\n",
      "1228/1228 [==============================] - 7s 6ms/step - loss: 1.3817 - accuracy: 0.4554 - val_loss: 1.3528 - val_accuracy: 0.4755\n",
      "Epoch 4/40\n",
      "1228/1228 [==============================] - 8s 6ms/step - loss: 1.3541 - accuracy: 0.4747 - val_loss: 1.3260 - val_accuracy: 0.4942\n",
      "Epoch 5/40\n",
      "1228/1228 [==============================] - 7s 5ms/step - loss: 1.3279 - accuracy: 0.4936 - val_loss: 1.3046 - val_accuracy: 0.5046\n",
      "Epoch 6/40\n",
      "1228/1228 [==============================] - 7s 6ms/step - loss: 1.3059 - accuracy: 0.5031 - val_loss: 1.2894 - val_accuracy: 0.5133\n",
      "Epoch 7/40\n",
      "1228/1228 [==============================] - 7s 5ms/step - loss: 1.2853 - accuracy: 0.5119 - val_loss: 1.2673 - val_accuracy: 0.5210\n",
      "Epoch 8/40\n",
      "1228/1228 [==============================] - 8s 6ms/step - loss: 1.2653 - accuracy: 0.5204 - val_loss: 1.2476 - val_accuracy: 0.5280\n",
      "Epoch 9/40\n",
      "1228/1228 [==============================] - 7s 6ms/step - loss: 1.2433 - accuracy: 0.5299 - val_loss: 1.2299 - val_accuracy: 0.5366\n",
      "Epoch 10/40\n",
      "1228/1228 [==============================] - 7s 5ms/step - loss: 1.2230 - accuracy: 0.5383 - val_loss: 1.2117 - val_accuracy: 0.5434\n",
      "Epoch 11/40\n",
      "1228/1228 [==============================] - 7s 5ms/step - loss: 1.2048 - accuracy: 0.5464 - val_loss: 1.1955 - val_accuracy: 0.5496\n",
      "Epoch 12/40\n",
      "1228/1228 [==============================] - 7s 6ms/step - loss: 1.1896 - accuracy: 0.5523 - val_loss: 1.1855 - val_accuracy: 0.5537\n",
      "Epoch 13/40\n",
      "1228/1228 [==============================] - 7s 6ms/step - loss: 1.1773 - accuracy: 0.5564 - val_loss: 1.1755 - val_accuracy: 0.5554\n",
      "Epoch 14/40\n",
      "1228/1228 [==============================] - 7s 6ms/step - loss: 1.1680 - accuracy: 0.5602 - val_loss: 1.1655 - val_accuracy: 0.5601\n",
      "Epoch 15/40\n",
      "1228/1228 [==============================] - 7s 5ms/step - loss: 1.1600 - accuracy: 0.5630 - val_loss: 1.1594 - val_accuracy: 0.5635\n",
      "Epoch 16/40\n",
      "1228/1228 [==============================] - 6s 5ms/step - loss: 1.1533 - accuracy: 0.5650 - val_loss: 1.1541 - val_accuracy: 0.5643\n",
      "Epoch 17/40\n",
      "1228/1228 [==============================] - 8s 6ms/step - loss: 1.1470 - accuracy: 0.5668 - val_loss: 1.1519 - val_accuracy: 0.5662\n",
      "Epoch 18/40\n",
      "1228/1228 [==============================] - 7s 6ms/step - loss: 1.1427 - accuracy: 0.5674 - val_loss: 1.1478 - val_accuracy: 0.5652\n",
      "Epoch 19/40\n",
      "1228/1228 [==============================] - 7s 6ms/step - loss: 1.1378 - accuracy: 0.5696 - val_loss: 1.1451 - val_accuracy: 0.5679\n",
      "Epoch 20/40\n",
      "1228/1228 [==============================] - 7s 5ms/step - loss: 1.1339 - accuracy: 0.5698 - val_loss: 1.1426 - val_accuracy: 0.5669\n",
      "Epoch 21/40\n",
      "1228/1228 [==============================] - 7s 5ms/step - loss: 1.1306 - accuracy: 0.5722 - val_loss: 1.1368 - val_accuracy: 0.5701\n",
      "Epoch 22/40\n",
      "1228/1228 [==============================] - 8s 6ms/step - loss: 1.1265 - accuracy: 0.5737 - val_loss: 1.1479 - val_accuracy: 0.5681\n",
      "Epoch 23/40\n",
      "1228/1228 [==============================] - 7s 6ms/step - loss: 1.1237 - accuracy: 0.5738 - val_loss: 1.1350 - val_accuracy: 0.5692\n",
      "Epoch 24/40\n",
      "1228/1228 [==============================] - 7s 5ms/step - loss: 1.1209 - accuracy: 0.5757 - val_loss: 1.1317 - val_accuracy: 0.5710\n",
      "Epoch 25/40\n",
      "1228/1228 [==============================] - 7s 6ms/step - loss: 1.1181 - accuracy: 0.5762 - val_loss: 1.1340 - val_accuracy: 0.5706\n",
      "Epoch 26/40\n",
      "1228/1228 [==============================] - 7s 6ms/step - loss: 1.1151 - accuracy: 0.5763 - val_loss: 1.1264 - val_accuracy: 0.5744\n",
      "Epoch 27/40\n",
      "1228/1228 [==============================] - 7s 6ms/step - loss: 1.1129 - accuracy: 0.5775 - val_loss: 1.1242 - val_accuracy: 0.5726\n",
      "Epoch 28/40\n",
      "1228/1228 [==============================] - 7s 6ms/step - loss: 1.1108 - accuracy: 0.5781 - val_loss: 1.1261 - val_accuracy: 0.5740\n",
      "Epoch 29/40\n",
      "1228/1228 [==============================] - 7s 5ms/step - loss: 1.1092 - accuracy: 0.5791 - val_loss: 1.1227 - val_accuracy: 0.5752\n",
      "Epoch 30/40\n",
      "1228/1228 [==============================] - 7s 6ms/step - loss: 1.1072 - accuracy: 0.5787 - val_loss: 1.1227 - val_accuracy: 0.5755\n",
      "Epoch 31/40\n",
      "1228/1228 [==============================] - 8s 6ms/step - loss: 1.1059 - accuracy: 0.5808 - val_loss: 1.1162 - val_accuracy: 0.5750\n",
      "Epoch 32/40\n",
      "1228/1228 [==============================] - 7s 5ms/step - loss: 1.1037 - accuracy: 0.5816 - val_loss: 1.1179 - val_accuracy: 0.5750\n",
      "Epoch 33/40\n",
      "1228/1228 [==============================] - 7s 6ms/step - loss: 1.1020 - accuracy: 0.5813 - val_loss: 1.1174 - val_accuracy: 0.5776\n",
      "Epoch 34/40\n",
      "1228/1228 [==============================] - 7s 5ms/step - loss: 1.1006 - accuracy: 0.5823 - val_loss: 1.1122 - val_accuracy: 0.5793\n",
      "Epoch 35/40\n",
      "1228/1228 [==============================] - 7s 5ms/step - loss: 1.0992 - accuracy: 0.5817 - val_loss: 1.1116 - val_accuracy: 0.5771\n",
      "Epoch 36/40\n",
      "1228/1228 [==============================] - 8s 6ms/step - loss: 1.0976 - accuracy: 0.5832 - val_loss: 1.1105 - val_accuracy: 0.5781\n",
      "Epoch 37/40\n",
      "1228/1228 [==============================] - 7s 6ms/step - loss: 1.0960 - accuracy: 0.5837 - val_loss: 1.1106 - val_accuracy: 0.5764\n",
      "Epoch 38/40\n",
      "1228/1228 [==============================] - 7s 6ms/step - loss: 1.0948 - accuracy: 0.5844 - val_loss: 1.1094 - val_accuracy: 0.5783\n",
      "Epoch 39/40\n",
      "1228/1228 [==============================] - 7s 6ms/step - loss: 1.0932 - accuracy: 0.5836 - val_loss: 1.1084 - val_accuracy: 0.5808\n",
      "Epoch 40/40\n",
      "1228/1228 [==============================] - 7s 6ms/step - loss: 1.0924 - accuracy: 0.5847 - val_loss: 1.1139 - val_accuracy: 0.5762\n"
     ]
    }
   ],
   "source": [
    "history = model_5.fit(X_train, y_train, validation_split=0.2, batch_size = 32, epochs = 40)"
   ]
  },
  {
   "cell_type": "code",
   "execution_count": 152,
   "id": "5ebbe6d9",
   "metadata": {
    "execution": {
     "iopub.execute_input": "2023-02-09T20:56:46.123055Z",
     "iopub.status.busy": "2023-02-09T20:56:46.122674Z",
     "iopub.status.idle": "2023-02-09T20:56:46.128068Z",
     "shell.execute_reply": "2023-02-09T20:56:46.126875Z",
     "shell.execute_reply.started": "2023-02-09T20:56:46.123021Z"
    }
   },
   "outputs": [],
   "source": [
    "# plt.plot(history.history['loss'])\n",
    "# plt.plot(history.history['val_loss'])\n",
    "\n",
    "# plt.title('model 5 loss')\n",
    "# plt.ylabel('loss')\n",
    "# plt.xlabel('epoch')\n",
    "# plt.legend(['train','valid'], loc='upper left')\n",
    "# plt.show()"
   ]
  },
  {
   "cell_type": "code",
   "execution_count": 153,
   "id": "29842dea",
   "metadata": {
    "execution": {
     "iopub.execute_input": "2023-02-09T20:56:48.129490Z",
     "iopub.status.busy": "2023-02-09T20:56:48.128807Z",
     "iopub.status.idle": "2023-02-09T20:56:48.372036Z",
     "shell.execute_reply": "2023-02-09T20:56:48.370956Z",
     "shell.execute_reply.started": "2023-02-09T20:56:48.129455Z"
    }
   },
   "outputs": [
    {
     "data": {
      "image/png": "[encoded data removed]",
      "text/plain": [
       "<Figure size 432x288 with 1 Axes>"
      ]
     },
     "metadata": {
      "needs_background": "light"
     },
     "output_type": "display_data"
    }
   ],
   "source": [
    "plt.plot(history.history['accuracy'])\n",
    "plt.plot(history.history['val_accuracy'])\n",
    "\n",
    "plt.title('model 5 accuracy')\n",
    "plt.ylabel('Accuracy')\n",
    "plt.xlabel('epoch')\n",
    "plt.legend(['train','valid'], loc='upper left')\n",
    "plt.show()"
   ]
  },
  {
   "cell_type": "markdown",
   "id": "80996f0b",
   "metadata": {},
   "source": [
    "Train_accuracy is better than val_accurary after 10 epochs. Both learning curve continue increase toward last epoch,the test accuracy score is also slightly better in this second model"
   ]
  },
  {
   "cell_type": "code",
   "execution_count": 154,
   "id": "4b3b5e6e",
   "metadata": {
    "execution": {
     "iopub.execute_input": "2023-02-09T20:56:56.176248Z",
     "iopub.status.busy": "2023-02-09T20:56:56.175658Z",
     "iopub.status.idle": "2023-02-09T20:56:58.537571Z",
     "shell.execute_reply": "2023-02-09T20:56:58.536907Z",
     "shell.execute_reply.started": "2023-02-09T20:56:56.176206Z"
    }
   },
   "outputs": [
    {
     "name": "stdout",
     "output_type": "stream",
     "text": [
      "384/384 [==============================] - 2s 6ms/step - loss: 1.1102 - accuracy: 0.5781\n"
     ]
    }
   ],
   "source": [
    "test_loss, test_acc = model_5.evaluate(X_test, y_test)"
   ]
  },
  {
   "cell_type": "code",
   "execution_count": 156,
   "id": "0ccbbe83",
   "metadata": {
    "execution": {
     "iopub.execute_input": "2023-02-09T20:57:09.159747Z",
     "iopub.status.busy": "2023-02-09T20:57:09.159397Z",
     "iopub.status.idle": "2023-02-09T20:57:09.163977Z",
     "shell.execute_reply": "2023-02-09T20:57:09.163002Z",
     "shell.execute_reply.started": "2023-02-09T20:57:09.159718Z"
    }
   },
   "outputs": [],
   "source": [
    "#4-7- Adding some nodes randomly to the layers\n",
    "# model_6 = Sequential()\n",
    "# embedding_layer = Embedding(vocab_size, 50, weights=[embedding_matrix], input_length=maxlen , trainable=False)\n",
    "\n",
    "# model_6.add(embedding_layer)\n",
    "# model_6.add(Dense(64, activation='relu', kernel_initializer=\"he_normal\" ))\n",
    "# model_6.add(Dense(32, activation='relu', kernel_initializer=\"he_normal\" ))\n",
    "# model_6.add(Dense(16, activation='relu', kernel_initializer=\"he_normal\" ))\n",
    "# model_6.add(Dense(8, activation='relu', kernel_initializer=\"he_normal\" ))\n",
    "# model_6.add(Dense(8, activation='relu', kernel_initializer=\"he_normal\" ))\n",
    "# model_6.add(Flatten())\n",
    "# model_6.add(Dense(5, activation='softmax'))\n",
    "\n",
    "# optimizer = tf.keras.optimizers.SGD(learning_rate=0.001)\n",
    "# model_6.compile(optimizer = optimizer, loss = 'sparse_categorical_crossentropy', metrics = ['accuracy'])"
   ]
  },
  {
   "cell_type": "code",
   "execution_count": 155,
   "id": "2d8e5317",
   "metadata": {
    "execution": {
     "iopub.execute_input": "2023-02-09T20:57:03.784812Z",
     "iopub.status.busy": "2023-02-09T20:57:03.784454Z",
     "iopub.status.idle": "2023-02-09T20:57:03.789598Z",
     "shell.execute_reply": "2023-02-09T20:57:03.788440Z",
     "shell.execute_reply.started": "2023-02-09T20:57:03.784783Z"
    }
   },
   "outputs": [],
   "source": [
    "# history = model_6.fit(X_train, y_train, validation_split=0.2, batch_size = 32, epochs = 40)"
   ]
  },
  {
   "cell_type": "code",
   "execution_count": 157,
   "id": "a8c4b38e",
   "metadata": {
    "execution": {
     "iopub.execute_input": "2023-02-09T20:57:11.230992Z",
     "iopub.status.busy": "2023-02-09T20:57:11.230627Z",
     "iopub.status.idle": "2023-02-09T20:57:11.235718Z",
     "shell.execute_reply": "2023-02-09T20:57:11.234541Z",
     "shell.execute_reply.started": "2023-02-09T20:57:11.230959Z"
    }
   },
   "outputs": [],
   "source": [
    "# plt.plot(history.history['loss'])\n",
    "# plt.plot(history.history['val_loss'])\n",
    "\n",
    "# plt.title('model 6 loss')\n",
    "# plt.ylabel('loss')\n",
    "# plt.xlabel('epoch')\n",
    "# plt.legend(['train','valid'], loc='upper left')\n",
    "# plt.show()"
   ]
  },
  {
   "cell_type": "code",
   "execution_count": 158,
   "id": "014a6171",
   "metadata": {
    "execution": {
     "iopub.execute_input": "2023-02-09T20:57:13.184990Z",
     "iopub.status.busy": "2023-02-09T20:57:13.184612Z",
     "iopub.status.idle": "2023-02-09T20:57:13.190112Z",
     "shell.execute_reply": "2023-02-09T20:57:13.188999Z",
     "shell.execute_reply.started": "2023-02-09T20:57:13.184956Z"
    }
   },
   "outputs": [],
   "source": [
    "# plt.plot(history.history['accuracy'])\n",
    "# plt.plot(history.history['val_accuracy'])\n",
    "\n",
    "# plt.title('model 6 accuracy')\n",
    "# plt.ylabel('Accuracy')\n",
    "# plt.xlabel('epoch')\n",
    "# plt.legend(['train','valid'], loc='upper left')\n",
    "# plt.show()"
   ]
  },
  {
   "cell_type": "code",
   "execution_count": 159,
   "id": "3c07eb5d",
   "metadata": {
    "execution": {
     "iopub.execute_input": "2023-02-09T20:57:14.931833Z",
     "iopub.status.busy": "2023-02-09T20:57:14.930926Z",
     "iopub.status.idle": "2023-02-09T20:57:14.936496Z",
     "shell.execute_reply": "2023-02-09T20:57:14.935442Z",
     "shell.execute_reply.started": "2023-02-09T20:57:14.931793Z"
    }
   },
   "outputs": [],
   "source": [
    "# test_loss, test_acc = model_6.evaluate(X_test, y_test)"
   ]
  },
  {
   "cell_type": "markdown",
   "id": "39c034af",
   "metadata": {},
   "source": [
    "4-3 Adding more nodes"
   ]
  },
  {
   "cell_type": "markdown",
   "id": "f460d91e",
   "metadata": {},
   "source": [
    "We continue our process by adding some nodes to the hidden layer"
   ]
  },
  {
   "cell_type": "markdown",
   "id": "bb34eaf3",
   "metadata": {},
   "source": [
    "*For easy following, model 6 is also commented out*"
   ]
  },
  {
   "cell_type": "code",
   "execution_count": 160,
   "id": "b091af11",
   "metadata": {
    "execution": {
     "iopub.execute_input": "2023-02-09T21:00:59.548536Z",
     "iopub.status.busy": "2023-02-09T21:00:59.548118Z",
     "iopub.status.idle": "2023-02-09T21:00:59.663518Z",
     "shell.execute_reply": "2023-02-09T21:00:59.662509Z",
     "shell.execute_reply.started": "2023-02-09T21:00:59.548494Z"
    }
   },
   "outputs": [],
   "source": [
    "model_7 = Sequential()\n",
    "embedding_layer = Embedding(vocab_size, 50, weights=[embedding_matrix], input_length=maxlen , trainable=False)\n",
    "\n",
    "model_7.add(embedding_layer)\n",
    "model_7.add(Dense(128, activation='relu', kernel_initializer=\"he_normal\" ))\n",
    "model_7.add(Dense(64, activation='relu', kernel_initializer=\"he_normal\" ))\n",
    "model_7.add(Dense(32, activation='relu', kernel_initializer=\"he_normal\" ))\n",
    "model_7.add(Dense(16, activation='relu', kernel_initializer=\"he_normal\" ))\n",
    "model_7.add(Dense(8, activation='relu', kernel_initializer=\"he_normal\" ))\n",
    "model_7.add(Flatten())\n",
    "model_7.add(Dense(5, activation='softmax'))\n",
    "\n",
    "optimizer = tf.keras.optimizers.SGD(learning_rate=0.001)\n",
    "model_7.compile(optimizer = optimizer, loss = 'sparse_categorical_crossentropy', metrics = ['accuracy'])"
   ]
  },
  {
   "cell_type": "code",
   "execution_count": 161,
   "id": "fa271fed",
   "metadata": {
    "execution": {
     "iopub.execute_input": "2023-02-09T21:01:02.421930Z",
     "iopub.status.busy": "2023-02-09T21:01:02.420876Z",
     "iopub.status.idle": "2023-02-09T21:06:19.764275Z",
     "shell.execute_reply": "2023-02-09T21:06:19.763350Z",
     "shell.execute_reply.started": "2023-02-09T21:01:02.421890Z"
    }
   },
   "outputs": [
    {
     "name": "stdout",
     "output_type": "stream",
     "text": [
      "Epoch 1/40\n",
      "1228/1228 [==============================] - 9s 7ms/step - loss: 1.4228 - accuracy: 0.4454 - val_loss: 1.3335 - val_accuracy: 0.4894\n",
      "Epoch 2/40\n",
      "1228/1228 [==============================] - 8s 6ms/step - loss: 1.2956 - accuracy: 0.5092 - val_loss: 1.2448 - val_accuracy: 0.5360\n",
      "Epoch 3/40\n",
      "1228/1228 [==============================] - 8s 6ms/step - loss: 1.2246 - accuracy: 0.5404 - val_loss: 1.1997 - val_accuracy: 0.5515\n",
      "Epoch 4/40\n",
      "1228/1228 [==============================] - 8s 7ms/step - loss: 1.1890 - accuracy: 0.5516 - val_loss: 1.1736 - val_accuracy: 0.5581\n",
      "Epoch 5/40\n",
      "1228/1228 [==============================] - 8s 7ms/step - loss: 1.1670 - accuracy: 0.5581 - val_loss: 1.1584 - val_accuracy: 0.5642\n",
      "Epoch 6/40\n",
      "1228/1228 [==============================] - 8s 6ms/step - loss: 1.1528 - accuracy: 0.5636 - val_loss: 1.1542 - val_accuracy: 0.5689\n",
      "Epoch 7/40\n",
      "1228/1228 [==============================] - 8s 6ms/step - loss: 1.1415 - accuracy: 0.5679 - val_loss: 1.1384 - val_accuracy: 0.5704\n",
      "Epoch 8/40\n",
      "1228/1228 [==============================] - 8s 6ms/step - loss: 1.1338 - accuracy: 0.5699 - val_loss: 1.1525 - val_accuracy: 0.5622\n",
      "Epoch 9/40\n",
      "1228/1228 [==============================] - 8s 6ms/step - loss: 1.1270 - accuracy: 0.5733 - val_loss: 1.1320 - val_accuracy: 0.5742\n",
      "Epoch 10/40\n",
      "1228/1228 [==============================] - 8s 6ms/step - loss: 1.1216 - accuracy: 0.5737 - val_loss: 1.1293 - val_accuracy: 0.5723\n",
      "Epoch 11/40\n",
      "1228/1228 [==============================] - 8s 6ms/step - loss: 1.1167 - accuracy: 0.5768 - val_loss: 1.1192 - val_accuracy: 0.5766\n",
      "Epoch 12/40\n",
      "1228/1228 [==============================] - 8s 6ms/step - loss: 1.1121 - accuracy: 0.5786 - val_loss: 1.1179 - val_accuracy: 0.5762\n",
      "Epoch 13/40\n",
      "1228/1228 [==============================] - 8s 6ms/step - loss: 1.1053 - accuracy: 0.5806 - val_loss: 1.1106 - val_accuracy: 0.5787\n",
      "Epoch 15/40\n",
      "1228/1228 [==============================] - 8s 6ms/step - loss: 1.1023 - accuracy: 0.5823 - val_loss: 1.1090 - val_accuracy: 0.5797\n",
      "Epoch 16/40\n",
      "1228/1228 [==============================] - 8s 6ms/step - loss: 1.0992 - accuracy: 0.5824 - val_loss: 1.1075 - val_accuracy: 0.5768\n",
      "Epoch 17/40\n",
      "1228/1228 [==============================] - 8s 7ms/step - loss: 1.0964 - accuracy: 0.5831 - val_loss: 1.1053 - val_accuracy: 0.5792\n",
      "Epoch 18/40\n",
      "1228/1228 [==============================] - 8s 6ms/step - loss: 1.0946 - accuracy: 0.5840 - val_loss: 1.1028 - val_accuracy: 0.5814\n",
      "Epoch 19/40\n",
      "1228/1228 [==============================] - 8s 6ms/step - loss: 1.0919 - accuracy: 0.5849 - val_loss: 1.1308 - val_accuracy: 0.5706\n",
      "Epoch 20/40\n",
      "1228/1228 [==============================] - 8s 7ms/step - loss: 1.0899 - accuracy: 0.5857 - val_loss: 1.1037 - val_accuracy: 0.5787\n",
      "Epoch 21/40\n",
      "1228/1228 [==============================] - 9s 8ms/step - loss: 1.0886 - accuracy: 0.5864 - val_loss: 1.1044 - val_accuracy: 0.5818\n",
      "Epoch 22/40\n",
      "1228/1228 [==============================] - 8s 6ms/step - loss: 1.0861 - accuracy: 0.5870 - val_loss: 1.1222 - val_accuracy: 0.5796\n",
      "Epoch 23/40\n",
      "1228/1228 [==============================] - 8s 6ms/step - loss: 1.0843 - accuracy: 0.5875 - val_loss: 1.0960 - val_accuracy: 0.5812\n",
      "Epoch 24/40\n",
      "1228/1228 [==============================] - 8s 6ms/step - loss: 1.0822 - accuracy: 0.5879 - val_loss: 1.0947 - val_accuracy: 0.5818\n",
      "Epoch 25/40\n",
      "1228/1228 [==============================] - 8s 7ms/step - loss: 1.0803 - accuracy: 0.5888 - val_loss: 1.1100 - val_accuracy: 0.5748\n",
      "Epoch 26/40\n",
      "1228/1228 [==============================] - 8s 6ms/step - loss: 1.0782 - accuracy: 0.5879 - val_loss: 1.0942 - val_accuracy: 0.5843\n",
      "Epoch 27/40\n",
      "1228/1228 [==============================] - 8s 6ms/step - loss: 1.0770 - accuracy: 0.5904 - val_loss: 1.0911 - val_accuracy: 0.5849\n",
      "Epoch 28/40\n",
      "1228/1228 [==============================] - 8s 7ms/step - loss: 1.0749 - accuracy: 0.5901 - val_loss: 1.0962 - val_accuracy: 0.5855\n",
      "Epoch 29/40\n",
      "1228/1228 [==============================] - 8s 7ms/step - loss: 1.0739 - accuracy: 0.5912 - val_loss: 1.0886 - val_accuracy: 0.5861\n",
      "Epoch 30/40\n",
      "1228/1228 [==============================] - 8s 7ms/step - loss: 1.0722 - accuracy: 0.5918 - val_loss: 1.0986 - val_accuracy: 0.5861\n",
      "Epoch 31/40\n",
      "1228/1228 [==============================] - 8s 6ms/step - loss: 1.0713 - accuracy: 0.5915 - val_loss: 1.1000 - val_accuracy: 0.5855\n",
      "Epoch 32/40\n",
      "1228/1228 [==============================] - 8s 6ms/step - loss: 1.0689 - accuracy: 0.5927 - val_loss: 1.0854 - val_accuracy: 0.5832\n",
      "Epoch 33/40\n",
      "1228/1228 [==============================] - 8s 7ms/step - loss: 1.0672 - accuracy: 0.5925 - val_loss: 1.0896 - val_accuracy: 0.5876\n",
      "Epoch 34/40\n",
      "1228/1228 [==============================] - 8s 7ms/step - loss: 1.0662 - accuracy: 0.5931 - val_loss: 1.0823 - val_accuracy: 0.5861\n",
      "Epoch 35/40\n",
      "1228/1228 [==============================] - 8s 6ms/step - loss: 1.0653 - accuracy: 0.5935 - val_loss: 1.0825 - val_accuracy: 0.5875\n",
      "Epoch 36/40\n",
      "1228/1228 [==============================] - 8s 6ms/step - loss: 1.0630 - accuracy: 0.5950 - val_loss: 1.0858 - val_accuracy: 0.5869\n",
      "Epoch 37/40\n",
      "1228/1228 [==============================] - 8s 7ms/step - loss: 1.0617 - accuracy: 0.5951 - val_loss: 1.0802 - val_accuracy: 0.5892\n",
      "Epoch 38/40\n",
      "1228/1228 [==============================] - 8s 6ms/step - loss: 1.0613 - accuracy: 0.5950 - val_loss: 1.0810 - val_accuracy: 0.5865\n",
      "Epoch 39/40\n",
      "1228/1228 [==============================] - 8s 6ms/step - loss: 1.0590 - accuracy: 0.5954 - val_loss: 1.0777 - val_accuracy: 0.5905\n",
      "Epoch 40/40\n",
      "1228/1228 [==============================] - 8s 6ms/step - loss: 1.0585 - accuracy: 0.5957 - val_loss: 1.0809 - val_accuracy: 0.5881\n"
     ]
    }
   ],
   "source": [
    "history = model_7.fit(X_train, y_train, validation_split=0.2, batch_size = 32, epochs = 40)"
   ]
  },
  {
   "cell_type": "code",
   "execution_count": 162,
   "id": "87438bbb",
   "metadata": {
    "execution": {
     "iopub.execute_input": "2023-02-09T21:07:30.206831Z",
     "iopub.status.busy": "2023-02-09T21:07:30.206408Z",
     "iopub.status.idle": "2023-02-09T21:07:30.211607Z",
     "shell.execute_reply": "2023-02-09T21:07:30.210224Z",
     "shell.execute_reply.started": "2023-02-09T21:07:30.206787Z"
    }
   },
   "outputs": [],
   "source": [
    "# plt.plot(history.history['loss'])\n",
    "# plt.plot(history.history['val_loss'])\n",
    "\n",
    "# plt.title('model 7 loss')\n",
    "# plt.ylabel('loss')\n",
    "# plt.xlabel('epoch')\n",
    "# plt.legend(['train','valid'], loc='upper left')\n",
    "# plt.show()"
   ]
  },
  {
   "cell_type": "code",
   "execution_count": 163,
   "id": "6e9a1453",
   "metadata": {
    "execution": {
     "iopub.execute_input": "2023-02-09T21:07:32.119485Z",
     "iopub.status.busy": "2023-02-09T21:07:32.119135Z",
     "iopub.status.idle": "2023-02-09T21:07:32.347622Z",
     "shell.execute_reply": "2023-02-09T21:07:32.346563Z",
     "shell.execute_reply.started": "2023-02-09T21:07:32.119454Z"
    }
   },
   "outputs": [
    {
     "data": {
      "image/png": "[encoded data removed]",
      "text/plain": [
       "<Figure size 432x288 with 1 Axes>"
      ]
     },
     "metadata": {
      "needs_background": "light"
     },
     "output_type": "display_data"
    }
   ],
   "source": [
    "plt.plot(history.history['accuracy'])\n",
    "plt.plot(history.history['val_accuracy'])\n",
    "\n",
    "plt.title('model 7 accuracy')\n",
    "plt.ylabel('Accuracy')\n",
    "plt.xlabel('epoch')\n",
    "plt.legend(['train','valid'], loc='upper left')\n",
    "plt.show()"
   ]
  },
  {
   "attachments": {},
   "cell_type": "markdown",
   "id": "8ad2b86c",
   "metadata": {},
   "source": [
    "Toward the last epochs, val_accuracy curve started to fluctuate while train_accuracy continued to go up, showing the early sign of overfitting. The test accuracy score is higher but yet to our desired level (<60%), we are now going to use LSTM/GRU model to observe the difference."
   ]
  },
  {
   "cell_type": "code",
   "execution_count": 164,
   "id": "a6d4b06d",
   "metadata": {
    "execution": {
     "iopub.execute_input": "2023-02-09T21:09:16.981723Z",
     "iopub.status.busy": "2023-02-09T21:09:16.981357Z",
     "iopub.status.idle": "2023-02-09T21:09:19.169442Z",
     "shell.execute_reply": "2023-02-09T21:09:19.168425Z",
     "shell.execute_reply.started": "2023-02-09T21:09:16.981691Z"
    }
   },
   "outputs": [
    {
     "name": "stdout",
     "output_type": "stream",
     "text": [
      "384/384 [==============================] - 2s 6ms/step - loss: 1.0731 - accuracy: 0.5912\n"
     ]
    }
   ],
   "source": [
    "test_loss, test_acc = model_7.evaluate(X_test, y_test)"
   ]
  },
  {
   "attachments": {},
   "cell_type": "markdown",
   "id": "e512f1c0",
   "metadata": {},
   "source": [
    "4-3 LSTM/GRU model\n"
   ]
  },
  {
   "cell_type": "code",
   "execution_count": 166,
   "id": "dbb07d62",
   "metadata": {
    "execution": {
     "iopub.execute_input": "2023-02-09T21:10:00.696903Z",
     "iopub.status.busy": "2023-02-09T21:10:00.696326Z",
     "iopub.status.idle": "2023-02-09T21:10:00.842200Z",
     "shell.execute_reply": "2023-02-09T21:10:00.841334Z",
     "shell.execute_reply.started": "2023-02-09T21:10:00.696861Z"
    }
   },
   "outputs": [],
   "source": [
    "model_Ls = Sequential()\n",
    "embedding_layer = Embedding(vocab_size, 50, weights=[embedding_matrix], input_length=maxlen , trainable=False)\n",
    "\n",
    "model_Ls.add(embedding_layer)\n",
    "model_Ls.add(LSTM(32, activation='relu', kernel_initializer=\"he_normal\" ))\n",
    "\n",
    "model_Ls.add(Dense(16, activation='relu', kernel_initializer=\"he_normal\" ))\n",
    "model_Ls.add(Dense(16, activation='relu', kernel_initializer=\"he_normal\" ))\n",
    "model_Ls.add(Dense(8, activation='relu', kernel_initializer=\"he_normal\" ))\n",
    "model_Ls.add(Dense(8, activation='relu', kernel_initializer=\"he_normal\" ))\n",
    "\n",
    "model_Ls.add(Flatten())\n",
    "model_Ls.add(Dense(5, activation='softmax'))\n",
    "\n",
    "optimizer = tf.keras.optimizers.SGD(learning_rate=0.001)\n",
    "model_Ls.compile(optimizer = optimizer, loss = 'sparse_categorical_crossentropy', metrics = ['accuracy'])"
   ]
  },
  {
   "cell_type": "code",
   "execution_count": 168,
   "id": "b3b46918",
   "metadata": {
    "execution": {
     "iopub.execute_input": "2023-02-09T21:13:00.315877Z",
     "iopub.status.busy": "2023-02-09T21:13:00.315526Z",
     "iopub.status.idle": "2023-02-09T21:26:13.215426Z",
     "shell.execute_reply": "2023-02-09T21:26:13.214410Z",
     "shell.execute_reply.started": "2023-02-09T21:13:00.315847Z"
    }
   },
   "outputs": [
    {
     "name": "stdout",
     "output_type": "stream",
     "text": [
      "Epoch 1/10\n",
      "154/154 [==============================] - 80s 518ms/step - loss: 1.5902 - accuracy: 0.3578 - val_loss: 1.5858 - val_accuracy: 0.3639\n",
      "Epoch 2/10\n",
      "154/154 [==============================] - 79s 516ms/step - loss: 1.5832 - accuracy: 0.3578 - val_loss: 1.5788 - val_accuracy: 0.3639\n",
      "Epoch 3/10\n",
      "154/154 [==============================] - 80s 517ms/step - loss: 1.5767 - accuracy: 0.3578 - val_loss: 1.5723 - val_accuracy: 0.3639\n",
      "Epoch 4/10\n",
      "154/154 [==============================] - 79s 514ms/step - loss: 1.5706 - accuracy: 0.3578 - val_loss: 1.5663 - val_accuracy: 0.3639\n",
      "Epoch 5/10\n",
      "154/154 [==============================] - 79s 515ms/step - loss: 1.5649 - accuracy: 0.3578 - val_loss: 1.5606 - val_accuracy: 0.3639\n",
      "Epoch 6/10\n",
      "154/154 [==============================] - 79s 516ms/step - loss: 1.5597 - accuracy: 0.3578 - val_loss: 1.5553 - val_accuracy: 0.3639\n",
      "Epoch 7/10\n",
      "154/154 [==============================] - 80s 516ms/step - loss: 1.5547 - accuracy: 0.3578 - val_loss: 1.5503 - val_accuracy: 0.3639\n",
      "Epoch 8/10\n",
      "154/154 [==============================] - 79s 511ms/step - loss: 1.5501 - accuracy: 0.3578 - val_loss: 1.5457 - val_accuracy: 0.3639\n",
      "Epoch 9/10\n",
      "154/154 [==============================] - 79s 515ms/step - loss: 1.5459 - accuracy: 0.3578 - val_loss: 1.5414 - val_accuracy: 0.3639\n",
      "Epoch 10/10\n",
      "154/154 [==============================] - 79s 511ms/step - loss: 1.5419 - accuracy: 0.3578 - val_loss: 1.5374 - val_accuracy: 0.3639\n"
     ]
    }
   ],
   "source": [
    "history = model_Ls.fit(X_train, y_train, validation_split=0.2, batch_size = 256, epochs = 10)"
   ]
  },
  {
   "cell_type": "code",
   "execution_count": 169,
   "id": "799425a4",
   "metadata": {
    "execution": {
     "iopub.execute_input": "2023-02-09T21:27:08.177788Z",
     "iopub.status.busy": "2023-02-09T21:27:08.177419Z",
     "iopub.status.idle": "2023-02-09T21:27:08.379629Z",
     "shell.execute_reply": "2023-02-09T21:27:08.378784Z",
     "shell.execute_reply.started": "2023-02-09T21:27:08.177756Z"
    }
   },
   "outputs": [
    {
     "data": {
      "image/png": "[encoded data removed]",
      "text/plain": [
       "<Figure size 432x288 with 1 Axes>"
      ]
     },
     "metadata": {
      "needs_background": "light"
     },
     "output_type": "display_data"
    }
   ],
   "source": [
    "plt.plot(history.history['accuracy'])\n",
    "plt.plot(history.history['val_accuracy'])\n",
    "\n",
    "plt.title('model Ls accuracy')\n",
    "plt.ylabel('Accuracy')\n",
    "plt.xlabel('epoch')\n",
    "plt.legend(['train','valid'], loc='upper left')\n",
    "plt.show()"
   ]
  },
  {
   "cell_type": "code",
   "execution_count": null,
   "id": "2dddc1e3",
   "metadata": {},
   "outputs": [],
   "source": [
    "test_loss, test_acc = model_Ls.evaluate(X_test, y_test)"
   ]
  },
  {
   "cell_type": "code",
   "execution_count": 170,
   "id": "2ae5788b",
   "metadata": {
    "execution": {
     "iopub.execute_input": "2023-02-09T21:27:13.524481Z",
     "iopub.status.busy": "2023-02-09T21:27:13.524133Z",
     "iopub.status.idle": "2023-02-09T21:27:13.644505Z",
     "shell.execute_reply": "2023-02-09T21:27:13.643588Z",
     "shell.execute_reply.started": "2023-02-09T21:27:13.524452Z"
    }
   },
   "outputs": [],
   "source": [
    "model_Gr = Sequential()\n",
    "embedding_layer = Embedding(vocab_size, 50, weights=[embedding_matrix], input_length=maxlen , trainable=False)\n",
    "\n",
    "model_Gr.add(embedding_layer)\n",
    "model_Gr.add(GRU(16, activation='relu', kernel_initializer=\"he_normal\" ))\n",
    "\n",
    "model_Gr.add(Dense(16, activation='relu', kernel_initializer=\"he_normal\" ))\n",
    "model_Gr.add(Dense(16, activation='relu', kernel_initializer=\"he_normal\" ))\n",
    "model_Gr.add(Dense(8, activation='relu', kernel_initializer=\"he_normal\" ))\n",
    "model_Gr.add(Dense(8, activation='relu', kernel_initializer=\"he_normal\" ))\n",
    "\n",
    "model_Gr.add(Flatten())\n",
    "model_Gr.add(Dense(5, activation='softmax'))\n",
    "\n",
    "\n",
    "optimizer = tf.keras.optimizers.SGD(learning_rate=0.001)\n",
    "model_Gr.compile(optimizer = optimizer, loss = 'sparse_categorical_crossentropy', metrics = ['accuracy'])"
   ]
  },
  {
   "cell_type": "code",
   "execution_count": 171,
   "id": "bed17042",
   "metadata": {
    "execution": {
     "iopub.execute_input": "2023-02-09T21:27:21.897695Z",
     "iopub.status.busy": "2023-02-09T21:27:21.897263Z",
     "iopub.status.idle": "2023-02-09T21:44:44.960929Z",
     "shell.execute_reply": "2023-02-09T21:44:44.959981Z",
     "shell.execute_reply.started": "2023-02-09T21:27:21.897654Z"
    }
   },
   "outputs": [
    {
     "name": "stdout",
     "output_type": "stream",
     "text": [
      "Epoch 1/10\n",
      "154/154 [==============================] - 109s 702ms/step - loss: 1.6052 - accuracy: 0.3578 - val_loss: 1.6007 - val_accuracy: 0.3639\n",
      "Epoch 2/10\n",
      "154/154 [==============================] - 99s 643ms/step - loss: 1.5970 - accuracy: 0.3578 - val_loss: 1.5925 - val_accuracy: 0.3639\n",
      "Epoch 3/10\n",
      "154/154 [==============================] - 102s 664ms/step - loss: 1.5893 - accuracy: 0.3578 - val_loss: 1.5848 - val_accuracy: 0.3639\n",
      "Epoch 4/10\n",
      "154/154 [==============================] - 109s 711ms/step - loss: 1.5821 - accuracy: 0.3578 - val_loss: 1.5777 - val_accuracy: 0.3639\n",
      "Epoch 5/10\n",
      "154/154 [==============================] - 99s 646ms/step - loss: 1.5754 - accuracy: 0.3578 - val_loss: 1.5710 - val_accuracy: 0.3639\n",
      "Epoch 6/10\n",
      "154/154 [==============================] - 98s 636ms/step - loss: 1.5692 - accuracy: 0.3578 - val_loss: 1.5648 - val_accuracy: 0.3639\n",
      "Epoch 7/10\n",
      "154/154 [==============================] - 99s 644ms/step - loss: 1.5634 - accuracy: 0.3578 - val_loss: 1.5589 - val_accuracy: 0.3639\n",
      "Epoch 8/10\n",
      "154/154 [==============================] - 98s 639ms/step - loss: 1.5579 - accuracy: 0.3578 - val_loss: 1.5535 - val_accuracy: 0.3639\n",
      "Epoch 9/10\n",
      "154/154 [==============================] - 98s 638ms/step - loss: 1.5529 - accuracy: 0.3578 - val_loss: 1.5484 - val_accuracy: 0.3639\n",
      "Epoch 10/10\n",
      "154/154 [==============================] - 99s 640ms/step - loss: 1.5481 - accuracy: 0.3578 - val_loss: 1.5437 - val_accuracy: 0.3639\n"
     ]
    }
   ],
   "source": [
    "history = model_Gr.fit(X_train, y_train, validation_split=0.2, batch_size = 256, epochs = 10)"
   ]
  },
  {
   "cell_type": "code",
   "execution_count": 172,
   "id": "621c25ac",
   "metadata": {
    "execution": {
     "iopub.execute_input": "2023-02-09T21:45:31.229805Z",
     "iopub.status.busy": "2023-02-09T21:45:31.229447Z",
     "iopub.status.idle": "2023-02-09T21:45:31.425568Z",
     "shell.execute_reply": "2023-02-09T21:45:31.424703Z",
     "shell.execute_reply.started": "2023-02-09T21:45:31.229775Z"
    }
   },
   "outputs": [
    {
     "data": {
      "image/png": "[encoded data removed]",
      "text/plain": [
       "<Figure size 432x288 with 1 Axes>"
      ]
     },
     "metadata": {
      "needs_background": "light"
     },
     "output_type": "display_data"
    }
   ],
   "source": [
    "plt.plot(history.history['accuracy'])\n",
    "plt.plot(history.history['val_accuracy'])\n",
    "\n",
    "plt.title('model Ls accuracy')\n",
    "plt.ylabel('Accuracy')\n",
    "plt.xlabel('epoch')\n",
    "plt.legend(['train','valid'], loc='upper left')\n",
    "plt.show()"
   ]
  },
  {
   "cell_type": "code",
   "execution_count": 173,
   "id": "01d2d9e3",
   "metadata": {
    "execution": {
     "iopub.execute_input": "2023-02-09T21:45:35.963775Z",
     "iopub.status.busy": "2023-02-09T21:45:35.963428Z",
     "iopub.status.idle": "2023-02-09T21:45:53.747015Z",
     "shell.execute_reply": "2023-02-09T21:45:53.746117Z",
     "shell.execute_reply.started": "2023-02-09T21:45:35.963744Z"
    }
   },
   "outputs": [
    {
     "name": "stdout",
     "output_type": "stream",
     "text": [
      "384/384 [==============================] - 18s 46ms/step - loss: 1.5461 - accuracy: 0.3517\n"
     ]
    }
   ],
   "source": [
    "test_loss, test_acc = model_Gr.evaluate(X_test, y_test)"
   ]
  },
  {
   "attachments": {},
   "cell_type": "markdown",
   "id": "6ddeecb9",
   "metadata": {},
   "source": [
    "Here, we can see that both LSTM and GRU model do not perform better than our model 7. It could be explained that LSTM and GRU are more suitable for sequential data given its capability to model long-term dependencies in sequential data. For our dataset, the review is given by each customer individually and are more indepedent from each other."
   ]
  },
  {
   "cell_type": "markdown",
   "id": "2009cc4f",
   "metadata": {},
   "source": [
    "4-9- Continue fine tuning with model 7 and applying different optimizers"
   ]
  },
  {
   "cell_type": "code",
   "execution_count": 174,
   "id": "29615e9a",
   "metadata": {
    "execution": {
     "iopub.execute_input": "2023-02-09T21:53:44.965399Z",
     "iopub.status.busy": "2023-02-09T21:53:44.965053Z",
     "iopub.status.idle": "2023-02-09T21:53:44.974813Z",
     "shell.execute_reply": "2023-02-09T21:53:44.973747Z",
     "shell.execute_reply.started": "2023-02-09T21:53:44.965371Z"
    }
   },
   "outputs": [],
   "source": [
    "def build_model(seed=42):\n",
    "    tf.random.set_seed(seed)\n",
    "    return tf.keras.Sequential([\n",
    "        tf.keras.layers.Embedding(vocab_size, 50, weights=[embedding_matrix], input_length=maxlen , trainable=False),\n",
    "        tf.keras.layers.Dense(128, activation='relu', kernel_initializer=\"he_normal\"),\n",
    "        tf.keras.layers.Dense(64, activation='relu', kernel_initializer=\"he_normal\"),\n",
    "        tf.keras.layers.Dense(32, activation='relu', kernel_initializer=\"he_normal\"),\n",
    "        tf.keras.layers.Dense(16, activation='relu', kernel_initializer=\"he_normal\"),\n",
    "        tf.keras.layers.Dense(8, activation='relu', kernel_initializer=\"he_normal\"),\n",
    "        tf.keras.layers.Flatten(),\n",
    "        tf.keras.layers.Dense(5, activation=\"softmax\")\n",
    "    ])\n",
    "\n",
    "def build_and_train_model(optimizer):\n",
    "    model = build_model()\n",
    "    model.compile(loss=\"sparse_categorical_crossentropy\", optimizer=optimizer,\n",
    "                  metrics=[\"accuracy\"])\n",
    "    return model.fit(X_train, y_train, epochs=10,\n",
    "                     validation_split=0.2, \n",
    "                     verbose=0) "
   ]
  },
  {
   "cell_type": "markdown",
   "id": "60de3003",
   "metadata": {},
   "source": [
    "SGD"
   ]
  },
  {
   "cell_type": "code",
   "execution_count": 82,
   "id": "e8eaba02",
   "metadata": {
    "execution": {
     "iopub.execute_input": "2023-02-09T18:43:55.502110Z",
     "iopub.status.busy": "2023-02-09T18:43:55.501746Z",
     "iopub.status.idle": "2023-02-09T18:45:00.566555Z",
     "shell.execute_reply": "2023-02-09T18:45:00.565525Z",
     "shell.execute_reply.started": "2023-02-09T18:43:55.502083Z"
    }
   },
   "outputs": [],
   "source": [
    "optimizer = tf.keras.optimizers.SGD(learning_rate=0.001)\n",
    "\n",
    "history_sgd = build_and_train_model(optimizer)"
   ]
  },
  {
   "cell_type": "markdown",
   "id": "37102351",
   "metadata": {},
   "source": [
    "SGD with Momentum"
   ]
  },
  {
   "cell_type": "code",
   "execution_count": 83,
   "id": "8a010365",
   "metadata": {
    "execution": {
     "iopub.execute_input": "2023-02-09T18:45:00.568626Z",
     "iopub.status.busy": "2023-02-09T18:45:00.568287Z",
     "iopub.status.idle": "2023-02-09T18:46:05.368857Z",
     "shell.execute_reply": "2023-02-09T18:46:05.367747Z",
     "shell.execute_reply.started": "2023-02-09T18:45:00.568592Z"
    }
   },
   "outputs": [],
   "source": [
    "optimizer = tf.keras.optimizers.SGD(learning_rate=0.001, momentum=0.9)\n",
    "\n",
    "history_momentum = build_and_train_model(optimizer)"
   ]
  },
  {
   "cell_type": "markdown",
   "id": "9d0782b5",
   "metadata": {},
   "source": [
    "Nesterov"
   ]
  },
  {
   "cell_type": "code",
   "execution_count": 84,
   "id": "e4440c25",
   "metadata": {
    "execution": {
     "iopub.execute_input": "2023-02-09T18:46:05.371577Z",
     "iopub.status.busy": "2023-02-09T18:46:05.371164Z",
     "iopub.status.idle": "2023-02-09T18:47:10.038666Z",
     "shell.execute_reply": "2023-02-09T18:47:10.037657Z",
     "shell.execute_reply.started": "2023-02-09T18:46:05.371532Z"
    }
   },
   "outputs": [],
   "source": [
    "optimizer = tf.keras.optimizers.SGD(learning_rate=0.001, momentum=0.9,\n",
    "                                    nesterov=True)\n",
    "\n",
    "history_nesterov = build_and_train_model(optimizer)"
   ]
  },
  {
   "cell_type": "markdown",
   "id": "5e887a07",
   "metadata": {},
   "source": [
    "Ada grad"
   ]
  },
  {
   "cell_type": "code",
   "execution_count": 85,
   "id": "972461c9",
   "metadata": {
    "execution": {
     "iopub.execute_input": "2023-02-09T18:47:10.041639Z",
     "iopub.status.busy": "2023-02-09T18:47:10.040958Z",
     "iopub.status.idle": "2023-02-09T18:48:13.046548Z",
     "shell.execute_reply": "2023-02-09T18:48:13.045819Z",
     "shell.execute_reply.started": "2023-02-09T18:47:10.041600Z"
    }
   },
   "outputs": [],
   "source": [
    "optimizer = tf.keras.optimizers.Adagrad(learning_rate=0.001)\n",
    "\n",
    "history_adagrad = build_and_train_model(optimizer)"
   ]
  },
  {
   "cell_type": "markdown",
   "id": "245b648e",
   "metadata": {},
   "source": [
    "RMSProp"
   ]
  },
  {
   "cell_type": "code",
   "execution_count": 86,
   "id": "c33da92c",
   "metadata": {
    "execution": {
     "iopub.execute_input": "2023-02-09T18:48:13.048744Z",
     "iopub.status.busy": "2023-02-09T18:48:13.048106Z",
     "iopub.status.idle": "2023-02-09T18:49:23.083268Z",
     "shell.execute_reply": "2023-02-09T18:49:23.082257Z",
     "shell.execute_reply.started": "2023-02-09T18:48:13.048706Z"
    }
   },
   "outputs": [],
   "source": [
    "optimizer = tf.keras.optimizers.RMSprop(learning_rate=0.001, rho=0.9)\n",
    "\n",
    "history_rmsprop = build_and_train_model(optimizer)"
   ]
  },
  {
   "cell_type": "markdown",
   "id": "1758b9d1",
   "metadata": {},
   "source": [
    "Adam"
   ]
  },
  {
   "cell_type": "code",
   "execution_count": 87,
   "id": "87db3f37",
   "metadata": {
    "execution": {
     "iopub.execute_input": "2023-02-09T18:49:23.085342Z",
     "iopub.status.busy": "2023-02-09T18:49:23.084974Z",
     "iopub.status.idle": "2023-02-09T18:50:27.390020Z",
     "shell.execute_reply": "2023-02-09T18:50:27.388986Z",
     "shell.execute_reply.started": "2023-02-09T18:49:23.085306Z"
    }
   },
   "outputs": [],
   "source": [
    "optimizer = tf.keras.optimizers.Adam(learning_rate=0.001, beta_1=0.9,\n",
    "                                     beta_2=0.999)\n",
    "\n",
    "history_adam = build_and_train_model(optimizer)"
   ]
  },
  {
   "cell_type": "markdown",
   "id": "4d9af86c",
   "metadata": {},
   "source": [
    "Adamax"
   ]
  },
  {
   "cell_type": "code",
   "execution_count": 88,
   "id": "ffd44bf2",
   "metadata": {
    "execution": {
     "iopub.execute_input": "2023-02-09T18:50:27.392922Z",
     "iopub.status.busy": "2023-02-09T18:50:27.392292Z",
     "iopub.status.idle": "2023-02-09T18:51:31.067149Z",
     "shell.execute_reply": "2023-02-09T18:51:31.066179Z",
     "shell.execute_reply.started": "2023-02-09T18:50:27.392860Z"
    }
   },
   "outputs": [],
   "source": [
    "optimizer = tf.keras.optimizers.Adamax(learning_rate=0.001, beta_1=0.9,\n",
    "                                       beta_2=0.999)\n",
    "\n",
    "history_adamax = build_and_train_model(optimizer)"
   ]
  },
  {
   "cell_type": "markdown",
   "id": "0c685bc1",
   "metadata": {},
   "source": [
    "Nadam"
   ]
  },
  {
   "cell_type": "code",
   "execution_count": 89,
   "id": "e6b8a16a",
   "metadata": {
    "execution": {
     "iopub.execute_input": "2023-02-09T18:51:31.071466Z",
     "iopub.status.busy": "2023-02-09T18:51:31.070907Z",
     "iopub.status.idle": "2023-02-09T18:52:48.777960Z",
     "shell.execute_reply": "2023-02-09T18:52:48.776997Z",
     "shell.execute_reply.started": "2023-02-09T18:51:31.071427Z"
    }
   },
   "outputs": [],
   "source": [
    "optimizer = tf.keras.optimizers.Nadam(learning_rate=0.001, beta_1=0.9,\n",
    "                                      beta_2=0.999)\n",
    "\n",
    "history_nadam = build_and_train_model(optimizer)"
   ]
  },
  {
   "cell_type": "markdown",
   "id": "01841bf8",
   "metadata": {},
   "source": [
    "Visualize the learning curves of all the optimizers "
   ]
  },
  {
   "cell_type": "code",
   "execution_count": 90,
   "id": "c3ff19ee",
   "metadata": {
    "execution": {
     "iopub.execute_input": "2023-02-09T18:52:48.779974Z",
     "iopub.status.busy": "2023-02-09T18:52:48.779610Z",
     "iopub.status.idle": "2023-02-09T18:52:49.287808Z",
     "shell.execute_reply": "2023-02-09T18:52:49.286888Z",
     "shell.execute_reply.started": "2023-02-09T18:52:48.779912Z"
    }
   },
   "outputs": [
    {
     "data": {
      "image/png": "[encoded data removed]",
      "text/plain": [
       "<Figure size 864x576 with 1 Axes>"
      ]
     },
     "metadata": {
      "needs_background": "light"
     },
     "output_type": "display_data"
    },
    {
     "data": {
      "image/png": "[encoded data removed]",
      "text/plain": [
       "<Figure size 864x576 with 1 Axes>"
      ]
     },
     "metadata": {
      "needs_background": "light"
     },
     "output_type": "display_data"
    }
   ],
   "source": [
    "for loss in (\"accuracy\", \"val_accuracy\"):\n",
    "    plt.figure(figsize=(12, 8))\n",
    "    opt_names = \"SGD Momentum Nesterov AdaGrad RMSProp Adam Adamax Nadam AdamW\"\n",
    "    for history, opt_name in zip((history_sgd, history_momentum, history_nesterov,\n",
    "                                  history_adagrad, history_rmsprop, history_adam,\n",
    "                                  history_adamax, history_nadam,),\n",
    "                                 opt_names.split()):\n",
    "        plt.plot(history.history[loss], label=f\"{opt_name}\", linewidth=3)\n",
    "\n",
    "    plt.grid()\n",
    "    plt.xlabel(\"Epochs\")\n",
    "    plt.ylabel({\"accuracy\": \"Training accuracy\", \"val_accuracy\": \"Validation accuracy\"}[loss])\n",
    "    plt.legend(loc=\"upper left\")\n",
    "    plt.axis([0, 9, 0.1, 0.7])\n",
    "    plt.show()"
   ]
  },
  {
   "cell_type": "markdown",
   "id": "e1d39916",
   "metadata": {},
   "source": [
    " 4-10- Choosing Nadam,RMSPprop and Adam based on the above graph, train the model with these selected optimizers for more epochs"
   ]
  },
  {
   "cell_type": "code",
   "execution_count": 91,
   "id": "217f3b4c",
   "metadata": {
    "execution": {
     "iopub.execute_input": "2023-02-09T18:52:49.289687Z",
     "iopub.status.busy": "2023-02-09T18:52:49.289332Z",
     "iopub.status.idle": "2023-02-09T18:52:49.402836Z",
     "shell.execute_reply": "2023-02-09T18:52:49.401975Z",
     "shell.execute_reply.started": "2023-02-09T18:52:49.289651Z"
    }
   },
   "outputs": [],
   "source": [
    "model_7_1 = Sequential()\n",
    "embedding_layer = Embedding(vocab_size, 50, weights=[embedding_matrix], input_length=maxlen , trainable=False)\n",
    "\n",
    "model_7_1.add(embedding_layer)\n",
    "model_7_1.add(Dense(128, activation='relu', kernel_initializer=\"he_normal\" ))\n",
    "model_7_1.add(Dense(64, activation='relu', kernel_initializer=\"he_normal\" ))\n",
    "model_7_1.add(Dense(32, activation='relu', kernel_initializer=\"he_normal\" ))\n",
    "model_7_1.add(Dense(16, activation='relu', kernel_initializer=\"he_normal\" ))\n",
    "model_7_1.add(Dense(8, activation='relu', kernel_initializer=\"he_normal\" ))\n",
    "model_7_1.add(Flatten())\n",
    "model_7_1.add(Dense(5, activation='softmax'))\n",
    "\n",
    "optimizer = tf.keras.optimizers.Nadam(learning_rate=0.001)\n",
    "model_7_1.compile(optimizer = optimizer, loss = 'sparse_categorical_crossentropy', metrics = ['accuracy'])"
   ]
  },
  {
   "cell_type": "code",
   "execution_count": 176,
   "id": "afd7d1e0",
   "metadata": {
    "execution": {
     "iopub.execute_input": "2023-02-09T21:54:09.963449Z",
     "iopub.status.busy": "2023-02-09T21:54:09.963090Z",
     "iopub.status.idle": "2023-02-09T22:00:00.179922Z",
     "shell.execute_reply": "2023-02-09T22:00:00.178998Z",
     "shell.execute_reply.started": "2023-02-09T21:54:09.963418Z"
    }
   },
   "outputs": [
    {
     "name": "stdout",
     "output_type": "stream",
     "text": [
      "Epoch 1/40\n",
      "1228/1228 [==============================] - 8s 7ms/step - loss: 0.9751 - accuracy: 0.6259 - val_loss: 1.0409 - val_accuracy: 0.6044\n",
      "Epoch 2/40\n",
      "1228/1228 [==============================] - 9s 7ms/step - loss: 0.9702 - accuracy: 0.6271 - val_loss: 1.0508 - val_accuracy: 0.6033\n",
      "Epoch 3/40\n",
      "1228/1228 [==============================] - 9s 7ms/step - loss: 0.9670 - accuracy: 0.6289 - val_loss: 1.0498 - val_accuracy: 0.6037\n",
      "Epoch 4/40\n",
      "1228/1228 [==============================] - 9s 7ms/step - loss: 0.9630 - accuracy: 0.6297 - val_loss: 1.0521 - val_accuracy: 0.5956\n",
      "Epoch 5/40\n",
      "1228/1228 [==============================] - 10s 8ms/step - loss: 0.9586 - accuracy: 0.6311 - val_loss: 1.0455 - val_accuracy: 0.6019\n",
      "Epoch 6/40\n",
      "1228/1228 [==============================] - 9s 7ms/step - loss: 0.9575 - accuracy: 0.6310 - val_loss: 1.0724 - val_accuracy: 0.6043\n",
      "Epoch 7/40\n",
      "1228/1228 [==============================] - 10s 8ms/step - loss: 0.9542 - accuracy: 0.6339 - val_loss: 1.0568 - val_accuracy: 0.5976\n",
      "Epoch 8/40\n",
      "1228/1228 [==============================] - 9s 7ms/step - loss: 0.9504 - accuracy: 0.6359 - val_loss: 1.0535 - val_accuracy: 0.6027\n",
      "Epoch 9/40\n",
      "1228/1228 [==============================] - 10s 8ms/step - loss: 0.9487 - accuracy: 0.6360 - val_loss: 1.0522 - val_accuracy: 0.5993\n",
      "Epoch 10/40\n",
      "1228/1228 [==============================] - 9s 7ms/step - loss: 0.9470 - accuracy: 0.6349 - val_loss: 1.0610 - val_accuracy: 0.5998\n",
      "Epoch 11/40\n",
      "1228/1228 [==============================] - 9s 7ms/step - loss: 0.9425 - accuracy: 0.6368 - val_loss: 1.0723 - val_accuracy: 0.6003\n",
      "Epoch 12/40\n",
      "1228/1228 [==============================] - 9s 7ms/step - loss: 0.9406 - accuracy: 0.6376 - val_loss: 1.0576 - val_accuracy: 0.6007\n",
      "Epoch 13/40\n",
      "1228/1228 [==============================] - 8s 7ms/step - loss: 0.9378 - accuracy: 0.6388 - val_loss: 1.0667 - val_accuracy: 0.5946\n",
      "Epoch 14/40\n",
      "1228/1228 [==============================] - 9s 7ms/step - loss: 0.9352 - accuracy: 0.6416 - val_loss: 1.0692 - val_accuracy: 0.5942\n",
      "Epoch 15/40\n",
      "1228/1228 [==============================] - 8s 7ms/step - loss: 0.9329 - accuracy: 0.6427 - val_loss: 1.0698 - val_accuracy: 0.5970\n",
      "Epoch 16/40\n",
      "1228/1228 [==============================] - 9s 7ms/step - loss: 0.9310 - accuracy: 0.6431 - val_loss: 1.0747 - val_accuracy: 0.5950\n",
      "Epoch 17/40\n",
      "1228/1228 [==============================] - 9s 7ms/step - loss: 0.9295 - accuracy: 0.6424 - val_loss: 1.0756 - val_accuracy: 0.5942\n",
      "Epoch 18/40\n",
      "1228/1228 [==============================] - 9s 7ms/step - loss: 0.9269 - accuracy: 0.6427 - val_loss: 1.0813 - val_accuracy: 0.5912\n",
      "Epoch 19/40\n",
      "1228/1228 [==============================] - 9s 7ms/step - loss: 0.9252 - accuracy: 0.6440 - val_loss: 1.0830 - val_accuracy: 0.5937\n",
      "Epoch 20/40\n",
      "1228/1228 [==============================] - 9s 7ms/step - loss: 0.9235 - accuracy: 0.6449 - val_loss: 1.0829 - val_accuracy: 0.5931\n",
      "Epoch 21/40\n",
      "1228/1228 [==============================] - 9s 7ms/step - loss: 0.9193 - accuracy: 0.6463 - val_loss: 1.0879 - val_accuracy: 0.5950\n",
      "Epoch 22/40\n",
      "1228/1228 [==============================] - 8s 7ms/step - loss: 0.9200 - accuracy: 0.6476 - val_loss: 1.1008 - val_accuracy: 0.5977\n",
      "Epoch 23/40\n",
      "1228/1228 [==============================] - 9s 7ms/step - loss: 0.9185 - accuracy: 0.6469 - val_loss: 1.0830 - val_accuracy: 0.5922\n",
      "Epoch 24/40\n",
      "1228/1228 [==============================] - 9s 7ms/step - loss: 0.9164 - accuracy: 0.6485 - val_loss: 1.0886 - val_accuracy: 0.5935\n",
      "Epoch 25/40\n",
      "1228/1228 [==============================] - 9s 7ms/step - loss: 0.9154 - accuracy: 0.6476 - val_loss: 1.0940 - val_accuracy: 0.5903\n",
      "Epoch 26/40\n",
      "1228/1228 [==============================] - 9s 7ms/step - loss: 0.9119 - accuracy: 0.6489 - val_loss: 1.0993 - val_accuracy: 0.5985\n",
      "Epoch 27/40\n",
      "1228/1228 [==============================] - 8s 7ms/step - loss: 0.9138 - accuracy: 0.6477 - val_loss: 1.1032 - val_accuracy: 0.5919\n",
      "Epoch 28/40\n",
      "1228/1228 [==============================] - 9s 7ms/step - loss: 0.9091 - accuracy: 0.6496 - val_loss: 1.0984 - val_accuracy: 0.5941\n",
      "Epoch 29/40\n",
      "1228/1228 [==============================] - 8s 7ms/step - loss: 0.9085 - accuracy: 0.6508 - val_loss: 1.1019 - val_accuracy: 0.5935\n",
      "Epoch 30/40\n",
      "1228/1228 [==============================] - 8s 7ms/step - loss: 0.9072 - accuracy: 0.6510 - val_loss: 1.0950 - val_accuracy: 0.5955\n",
      "Epoch 31/40\n",
      "1228/1228 [==============================] - 8s 7ms/step - loss: 0.9051 - accuracy: 0.6519 - val_loss: 1.0975 - val_accuracy: 0.5925\n",
      "Epoch 32/40\n",
      "1228/1228 [==============================] - 9s 7ms/step - loss: 0.9035 - accuracy: 0.6511 - val_loss: 1.1167 - val_accuracy: 0.5922\n",
      "Epoch 33/40\n",
      "1228/1228 [==============================] - 8s 7ms/step - loss: 0.9022 - accuracy: 0.6524 - val_loss: 1.1115 - val_accuracy: 0.5930\n",
      "Epoch 34/40\n",
      "1228/1228 [==============================] - 8s 7ms/step - loss: 0.9020 - accuracy: 0.6542 - val_loss: 1.1123 - val_accuracy: 0.5925\n",
      "Epoch 35/40\n",
      "1228/1228 [==============================] - 9s 7ms/step - loss: 0.8983 - accuracy: 0.6552 - val_loss: 1.1302 - val_accuracy: 0.5901\n",
      "Epoch 36/40\n",
      "1228/1228 [==============================] - 9s 7ms/step - loss: 0.8990 - accuracy: 0.6552 - val_loss: 1.1064 - val_accuracy: 0.5970\n",
      "Epoch 37/40\n",
      "1228/1228 [==============================] - 9s 7ms/step - loss: 0.8974 - accuracy: 0.6557 - val_loss: 1.1222 - val_accuracy: 0.5864\n",
      "Epoch 38/40\n",
      "1228/1228 [==============================] - 8s 7ms/step - loss: 0.8966 - accuracy: 0.6556 - val_loss: 1.1278 - val_accuracy: 0.5956\n",
      "Epoch 39/40\n",
      "1228/1228 [==============================] - 9s 7ms/step - loss: 0.8952 - accuracy: 0.6560 - val_loss: 1.1337 - val_accuracy: 0.5892\n",
      "Epoch 40/40\n",
      "1228/1228 [==============================] - 8s 7ms/step - loss: 0.8938 - accuracy: 0.6568 - val_loss: 1.1425 - val_accuracy: 0.5825\n"
     ]
    }
   ],
   "source": [
    "history = model_7_1.fit(X_train, y_train, validation_split=0.2, batch_size = 32, epochs = 40)"
   ]
  },
  {
   "cell_type": "code",
   "execution_count": 175,
   "id": "929c772f",
   "metadata": {
    "execution": {
     "iopub.execute_input": "2023-02-09T21:54:02.042483Z",
     "iopub.status.busy": "2023-02-09T21:54:02.042071Z",
     "iopub.status.idle": "2023-02-09T21:54:02.047157Z",
     "shell.execute_reply": "2023-02-09T21:54:02.046205Z",
     "shell.execute_reply.started": "2023-02-09T21:54:02.042447Z"
    }
   },
   "outputs": [],
   "source": [
    "# plt.plot(history.history['loss'])\n",
    "# plt.plot(history.history['val_loss'])\n",
    "\n",
    "# plt.title('model 7 Nadam loss')\n",
    "# plt.ylabel('loss')\n",
    "# plt.xlabel('epoch')\n",
    "# plt.legend(['train','valid'], loc='upper left')\n",
    "# plt.show()"
   ]
  },
  {
   "cell_type": "code",
   "execution_count": 177,
   "id": "485c944e",
   "metadata": {
    "execution": {
     "iopub.execute_input": "2023-02-09T22:00:00.187285Z",
     "iopub.status.busy": "2023-02-09T22:00:00.184801Z",
     "iopub.status.idle": "2023-02-09T22:00:00.437872Z",
     "shell.execute_reply": "2023-02-09T22:00:00.436984Z",
     "shell.execute_reply.started": "2023-02-09T22:00:00.187236Z"
    }
   },
   "outputs": [
    {
     "data": {
      "image/png": "[encoded data removed]",
      "text/plain": [
       "<Figure size 432x288 with 1 Axes>"
      ]
     },
     "metadata": {
      "needs_background": "light"
     },
     "output_type": "display_data"
    }
   ],
   "source": [
    "plt.plot(history.history['accuracy'])\n",
    "plt.plot(history.history['val_accuracy'])\n",
    "\n",
    "plt.title('model 7_Nadam accuracy')\n",
    "plt.ylabel('Accuracy')\n",
    "plt.xlabel('epoch')\n",
    "plt.legend(['train','valid'], loc='upper left')\n",
    "plt.show()"
   ]
  },
  {
   "cell_type": "code",
   "execution_count": 95,
   "id": "2ce802b0",
   "metadata": {
    "execution": {
     "iopub.execute_input": "2023-02-09T18:54:15.231893Z",
     "iopub.status.busy": "2023-02-09T18:54:15.231555Z",
     "iopub.status.idle": "2023-02-09T18:54:16.779632Z",
     "shell.execute_reply": "2023-02-09T18:54:16.778981Z",
     "shell.execute_reply.started": "2023-02-09T18:54:15.231860Z"
    }
   },
   "outputs": [
    {
     "name": "stdout",
     "output_type": "stream",
     "text": [
      "384/384 [==============================] - 2s 4ms/step - loss: 1.0293 - accuracy: 0.6039\n"
     ]
    }
   ],
   "source": [
    "test_loss, test_acc = model_7_1.evaluate(X_test, y_test)"
   ]
  },
  {
   "cell_type": "code",
   "execution_count": 96,
   "id": "b70d5dca",
   "metadata": {
    "execution": {
     "iopub.execute_input": "2023-02-09T18:54:16.784430Z",
     "iopub.status.busy": "2023-02-09T18:54:16.782733Z",
     "iopub.status.idle": "2023-02-09T18:54:16.896710Z",
     "shell.execute_reply": "2023-02-09T18:54:16.895796Z",
     "shell.execute_reply.started": "2023-02-09T18:54:16.784394Z"
    }
   },
   "outputs": [],
   "source": [
    "model_7_2 = Sequential()\n",
    "embedding_layer = Embedding(vocab_size, 50, weights=[embedding_matrix], input_length=maxlen , trainable=False)\n",
    "\n",
    "model_7_2.add(embedding_layer)\n",
    "model_7_2.add(Dense(128, activation='relu', kernel_initializer=\"he_normal\" ))\n",
    "model_7_2.add(Dense(64, activation='relu', kernel_initializer=\"he_normal\" ))\n",
    "model_7_2.add(Dense(32, activation='relu', kernel_initializer=\"he_normal\" ))\n",
    "model_7_2.add(Dense(16, activation='relu', kernel_initializer=\"he_normal\" ))\n",
    "model_7_2.add(Dense(8, activation='relu', kernel_initializer=\"he_normal\" ))\n",
    "model_7_2.add(Flatten())\n",
    "model_7_2.add(Dense(5, activation='softmax'))\n",
    "\n",
    "optimizer = tf.keras.optimizers.Adam(learning_rate=0.001)\n",
    "model_7_2.compile(optimizer = optimizer, loss = 'sparse_categorical_crossentropy', metrics = ['accuracy'])"
   ]
  },
  {
   "cell_type": "code",
   "execution_count": 178,
   "id": "c5158371",
   "metadata": {
    "execution": {
     "iopub.execute_input": "2023-02-09T22:00:00.439418Z",
     "iopub.status.busy": "2023-02-09T22:00:00.439089Z",
     "iopub.status.idle": "2023-02-09T22:05:12.361300Z",
     "shell.execute_reply": "2023-02-09T22:05:12.360378Z",
     "shell.execute_reply.started": "2023-02-09T22:00:00.439383Z"
    }
   },
   "outputs": [
    {
     "name": "stdout",
     "output_type": "stream",
     "text": [
      "Epoch 1/40\n",
      "1228/1228 [==============================] - 8s 6ms/step - loss: 0.9737 - accuracy: 0.6260 - val_loss: 1.0542 - val_accuracy: 0.6000\n",
      "Epoch 2/40\n",
      "1228/1228 [==============================] - 8s 6ms/step - loss: 0.9678 - accuracy: 0.6284 - val_loss: 1.0537 - val_accuracy: 0.6009\n",
      "Epoch 3/40\n",
      "1228/1228 [==============================] - 8s 7ms/step - loss: 0.9642 - accuracy: 0.6300 - val_loss: 1.0474 - val_accuracy: 0.6029\n",
      "Epoch 4/40\n",
      "1228/1228 [==============================] - 8s 6ms/step - loss: 0.9602 - accuracy: 0.6302 - val_loss: 1.0519 - val_accuracy: 0.6024\n",
      "Epoch 5/40\n",
      "1228/1228 [==============================] - 8s 6ms/step - loss: 0.9556 - accuracy: 0.6315 - val_loss: 1.0525 - val_accuracy: 0.6021\n",
      "Epoch 6/40\n",
      "1228/1228 [==============================] - 8s 6ms/step - loss: 0.9539 - accuracy: 0.6344 - val_loss: 1.0797 - val_accuracy: 0.6055\n",
      "Epoch 7/40\n",
      "1228/1228 [==============================] - 8s 7ms/step - loss: 0.9487 - accuracy: 0.6362 - val_loss: 1.0609 - val_accuracy: 0.5972\n",
      "Epoch 8/40\n",
      "1228/1228 [==============================] - 8s 6ms/step - loss: 0.9465 - accuracy: 0.6370 - val_loss: 1.0624 - val_accuracy: 0.6016\n",
      "Epoch 9/40\n",
      "1228/1228 [==============================] - 8s 6ms/step - loss: 0.9466 - accuracy: 0.6367 - val_loss: 1.0624 - val_accuracy: 0.5996\n",
      "Epoch 10/40\n",
      "1228/1228 [==============================] - 8s 6ms/step - loss: 0.9419 - accuracy: 0.6379 - val_loss: 1.0691 - val_accuracy: 0.5944\n",
      "Epoch 11/40\n",
      "1228/1228 [==============================] - 8s 6ms/step - loss: 0.9390 - accuracy: 0.6382 - val_loss: 1.0779 - val_accuracy: 0.6018\n",
      "Epoch 12/40\n",
      "1228/1228 [==============================] - 8s 6ms/step - loss: 0.9379 - accuracy: 0.6400 - val_loss: 1.0734 - val_accuracy: 0.5970\n",
      "Epoch 13/40\n",
      "1228/1228 [==============================] - 8s 6ms/step - loss: 0.9338 - accuracy: 0.6411 - val_loss: 1.0767 - val_accuracy: 0.5907\n",
      "Epoch 14/40\n",
      "1228/1228 [==============================] - 7s 6ms/step - loss: 0.9314 - accuracy: 0.6423 - val_loss: 1.0767 - val_accuracy: 0.5968\n",
      "Epoch 15/40\n",
      "1228/1228 [==============================] - 8s 7ms/step - loss: 0.9292 - accuracy: 0.6431 - val_loss: 1.0806 - val_accuracy: 0.5956\n",
      "Epoch 16/40\n",
      "1228/1228 [==============================] - 8s 6ms/step - loss: 0.9275 - accuracy: 0.6428 - val_loss: 1.0886 - val_accuracy: 0.5923\n",
      "Epoch 17/40\n",
      "1228/1228 [==============================] - 8s 6ms/step - loss: 0.9258 - accuracy: 0.6434 - val_loss: 1.0848 - val_accuracy: 0.5928\n",
      "Epoch 18/40\n",
      "1228/1228 [==============================] - 8s 7ms/step - loss: 0.9235 - accuracy: 0.6460 - val_loss: 1.0922 - val_accuracy: 0.5884\n",
      "Epoch 19/40\n",
      "1228/1228 [==============================] - 8s 6ms/step - loss: 0.9206 - accuracy: 0.6470 - val_loss: 1.0954 - val_accuracy: 0.5959\n",
      "Epoch 20/40\n",
      "1228/1228 [==============================] - 8s 6ms/step - loss: 0.9191 - accuracy: 0.6452 - val_loss: 1.0972 - val_accuracy: 0.5895\n",
      "Epoch 21/40\n",
      "1228/1228 [==============================] - 8s 6ms/step - loss: 0.9173 - accuracy: 0.6455 - val_loss: 1.0883 - val_accuracy: 0.5974\n",
      "Epoch 22/40\n",
      "1228/1228 [==============================] - 8s 6ms/step - loss: 0.9147 - accuracy: 0.6475 - val_loss: 1.1076 - val_accuracy: 0.5954\n",
      "Epoch 23/40\n",
      "1228/1228 [==============================] - 8s 7ms/step - loss: 0.9146 - accuracy: 0.6480 - val_loss: 1.1051 - val_accuracy: 0.5893\n",
      "Epoch 24/40\n",
      "1228/1228 [==============================] - 8s 6ms/step - loss: 0.9117 - accuracy: 0.6477 - val_loss: 1.1028 - val_accuracy: 0.5929\n",
      "Epoch 25/40\n",
      "1228/1228 [==============================] - 8s 6ms/step - loss: 0.9097 - accuracy: 0.6486 - val_loss: 1.1079 - val_accuracy: 0.5894\n",
      "Epoch 26/40\n",
      "1228/1228 [==============================] - 8s 6ms/step - loss: 0.9094 - accuracy: 0.6504 - val_loss: 1.1038 - val_accuracy: 0.5966\n",
      "Epoch 27/40\n",
      "1228/1228 [==============================] - 8s 7ms/step - loss: 0.9081 - accuracy: 0.6509 - val_loss: 1.1035 - val_accuracy: 0.5902\n",
      "Epoch 28/40\n",
      "1228/1228 [==============================] - 8s 6ms/step - loss: 0.9054 - accuracy: 0.6528 - val_loss: 1.1123 - val_accuracy: 0.5952\n",
      "Epoch 29/40\n",
      "1228/1228 [==============================] - 8s 6ms/step - loss: 0.9037 - accuracy: 0.6528 - val_loss: 1.1184 - val_accuracy: 0.5956\n",
      "Epoch 30/40\n",
      "1228/1228 [==============================] - 8s 6ms/step - loss: 0.9022 - accuracy: 0.6547 - val_loss: 1.1122 - val_accuracy: 0.5950\n",
      "Epoch 31/40\n",
      "1228/1228 [==============================] - 8s 7ms/step - loss: 0.9016 - accuracy: 0.6539 - val_loss: 1.1200 - val_accuracy: 0.5882\n",
      "Epoch 32/40\n",
      "1228/1228 [==============================] - 8s 6ms/step - loss: 0.9015 - accuracy: 0.6545 - val_loss: 1.1145 - val_accuracy: 0.5930\n",
      "Epoch 33/40\n",
      "1228/1228 [==============================] - 8s 6ms/step - loss: 0.8973 - accuracy: 0.6548 - val_loss: 1.1138 - val_accuracy: 0.5935\n",
      "Epoch 34/40\n",
      "1228/1228 [==============================] - 8s 6ms/step - loss: 0.8966 - accuracy: 0.6547 - val_loss: 1.1155 - val_accuracy: 0.5971\n",
      "Epoch 35/40\n",
      "1228/1228 [==============================] - 8s 7ms/step - loss: 0.8959 - accuracy: 0.6553 - val_loss: 1.1289 - val_accuracy: 0.5939\n",
      "Epoch 36/40\n",
      "1228/1228 [==============================] - 8s 6ms/step - loss: 0.8941 - accuracy: 0.6568 - val_loss: 1.1267 - val_accuracy: 0.5901\n",
      "Epoch 37/40\n",
      "1228/1228 [==============================] - 7s 6ms/step - loss: 0.8906 - accuracy: 0.6586 - val_loss: 1.1304 - val_accuracy: 0.5861\n",
      "Epoch 38/40\n",
      "1228/1228 [==============================] - 8s 6ms/step - loss: 0.8899 - accuracy: 0.6576 - val_loss: 1.1367 - val_accuracy: 0.5907\n",
      "Epoch 39/40\n",
      "1228/1228 [==============================] - 8s 6ms/step - loss: 0.8881 - accuracy: 0.6598 - val_loss: 1.1292 - val_accuracy: 0.5932\n",
      "Epoch 40/40\n",
      "1228/1228 [==============================] - 8s 6ms/step - loss: 0.8876 - accuracy: 0.6595 - val_loss: 1.1650 - val_accuracy: 0.5747\n"
     ]
    }
   ],
   "source": [
    "history = model_7_2.fit(X_train, y_train, validation_split=0.2, batch_size = 32, epochs = 40)"
   ]
  },
  {
   "cell_type": "code",
   "execution_count": 179,
   "id": "7e5e93ca",
   "metadata": {},
   "outputs": [
    {
     "data": {
      "text/plain": [
       "[<matplotlib.lines.Line2D at 0x7f6e003b1e50>]"
      ]
     },
     "execution_count": 179,
     "metadata": {},
     "output_type": "execute_result"
    },
    {
     "data": {
      "image/png": "[encoded data removed]",
      "text/plain": [
       "<Figure size 432x288 with 1 Axes>"
      ]
     },
     "metadata": {
      "needs_background": "light"
     },
     "output_type": "display_data"
    }
   ],
   "source": [
    "# plt.plot(history.history['loss'])\n",
    "# plt.plot(history.history['val_loss'])\n",
    "\n",
    "# plt.title('model 7_2 loss')\n",
    "# plt.ylabel('loss')\n",
    "# plt.xlabel('epoch')\n",
    "# plt.legend(['train','valid'], loc='upper left')\n",
    "# plt.show()"
   ]
  },
  {
   "cell_type": "code",
   "execution_count": 180,
   "id": "dfa6089f",
   "metadata": {
    "execution": {
     "iopub.execute_input": "2023-02-09T22:05:12.592873Z",
     "iopub.status.busy": "2023-02-09T22:05:12.592277Z",
     "iopub.status.idle": "2023-02-09T22:05:12.804826Z",
     "shell.execute_reply": "2023-02-09T22:05:12.803861Z",
     "shell.execute_reply.started": "2023-02-09T22:05:12.592836Z"
    }
   },
   "outputs": [
    {
     "data": {
      "image/png": "[encoded data removed]",
      "text/plain": [
       "<Figure size 432x288 with 1 Axes>"
      ]
     },
     "metadata": {
      "needs_background": "light"
     },
     "output_type": "display_data"
    }
   ],
   "source": [
    "plt.plot(history.history['accuracy'])\n",
    "plt.plot(history.history['val_accuracy'])\n",
    "\n",
    "plt.title('model 7_2 accuracy')\n",
    "plt.ylabel('Accuracy')\n",
    "plt.xlabel('epoch')\n",
    "plt.legend(['train','valid'], loc='upper left')\n",
    "plt.show()"
   ]
  },
  {
   "cell_type": "code",
   "execution_count": 181,
   "id": "50b9cad5",
   "metadata": {
    "execution": {
     "iopub.execute_input": "2023-02-09T22:05:12.807024Z",
     "iopub.status.busy": "2023-02-09T22:05:12.806165Z",
     "iopub.status.idle": "2023-02-09T22:05:14.523339Z",
     "shell.execute_reply": "2023-02-09T22:05:14.522476Z",
     "shell.execute_reply.started": "2023-02-09T22:05:12.806988Z"
    }
   },
   "outputs": [
    {
     "name": "stdout",
     "output_type": "stream",
     "text": [
      "384/384 [==============================] - 2s 4ms/step - loss: 1.1308 - accuracy: 0.5768\n"
     ]
    }
   ],
   "source": [
    "test_loss, test_acc = model_7_2.evaluate(X_test, y_test)"
   ]
  },
  {
   "cell_type": "code",
   "execution_count": 101,
   "id": "dd6a5d85",
   "metadata": {
    "execution": {
     "iopub.execute_input": "2023-02-09T18:55:37.008563Z",
     "iopub.status.busy": "2023-02-09T18:55:37.008278Z",
     "iopub.status.idle": "2023-02-09T18:55:37.128497Z",
     "shell.execute_reply": "2023-02-09T18:55:37.127607Z",
     "shell.execute_reply.started": "2023-02-09T18:55:37.008537Z"
    }
   },
   "outputs": [],
   "source": [
    "model_7_3 = Sequential()\n",
    "embedding_layer = Embedding(vocab_size, 50, weights=[embedding_matrix], input_length=maxlen , trainable=False)\n",
    "\n",
    "model_7_3.add(embedding_layer)\n",
    "model_7_3.add(Dense(128, activation='relu', kernel_initializer=\"he_normal\" ))\n",
    "model_7_3.add(Dense(64, activation='relu', kernel_initializer=\"he_normal\" ))\n",
    "model_7_3.add(Dense(32, activation='relu', kernel_initializer=\"he_normal\" ))\n",
    "model_7_3.add(Dense(16, activation='relu', kernel_initializer=\"he_normal\" ))\n",
    "model_7_3.add(Dense(8, activation='relu', kernel_initializer=\"he_normal\" ))\n",
    "model_7_3.add(Flatten())\n",
    "model_7_3.add(Dense(5, activation='softmax'))\n",
    "\n",
    "optimizer = tf.keras.optimizers.RMSprop(learning_rate=0.001)\n",
    "model_7_3.compile(optimizer = optimizer, loss = 'sparse_categorical_crossentropy', metrics = ['accuracy'])"
   ]
  },
  {
   "cell_type": "code",
   "execution_count": 182,
   "id": "0a14e296",
   "metadata": {
    "execution": {
     "iopub.execute_input": "2023-02-09T22:05:14.526854Z",
     "iopub.status.busy": "2023-02-09T22:05:14.526551Z",
     "iopub.status.idle": "2023-02-09T22:10:29.564312Z",
     "shell.execute_reply": "2023-02-09T22:10:29.563397Z",
     "shell.execute_reply.started": "2023-02-09T22:05:14.526819Z"
    }
   },
   "outputs": [
    {
     "name": "stdout",
     "output_type": "stream",
     "text": [
      "Epoch 1/40\n",
      "1228/1228 [==============================] - 8s 6ms/step - loss: 0.9905 - accuracy: 0.6208 - val_loss: 1.0446 - val_accuracy: 0.6063\n",
      "Epoch 2/40\n",
      "1228/1228 [==============================] - 8s 6ms/step - loss: 0.9862 - accuracy: 0.6231 - val_loss: 1.0458 - val_accuracy: 0.6072\n",
      "Epoch 3/40\n",
      "1228/1228 [==============================] - 8s 7ms/step - loss: 0.9839 - accuracy: 0.6237 - val_loss: 1.0450 - val_accuracy: 0.6049\n",
      "Epoch 4/40\n",
      "1228/1228 [==============================] - 8s 6ms/step - loss: 0.9810 - accuracy: 0.6224 - val_loss: 1.0442 - val_accuracy: 0.6050\n",
      "Epoch 5/40\n",
      "1228/1228 [==============================] - 8s 6ms/step - loss: 0.9804 - accuracy: 0.6231 - val_loss: 1.0416 - val_accuracy: 0.6065\n",
      "Epoch 6/40\n",
      "1228/1228 [==============================] - 8s 6ms/step - loss: 0.9776 - accuracy: 0.6263 - val_loss: 1.0867 - val_accuracy: 0.6095\n",
      "Epoch 7/40\n",
      "1228/1228 [==============================] - 8s 7ms/step - loss: 0.9749 - accuracy: 0.6260 - val_loss: 1.0486 - val_accuracy: 0.6114\n",
      "Epoch 8/40\n",
      "1228/1228 [==============================] - 8s 6ms/step - loss: 0.9734 - accuracy: 0.6294 - val_loss: 1.0583 - val_accuracy: 0.5947\n",
      "Epoch 9/40\n",
      "1228/1228 [==============================] - 8s 6ms/step - loss: 0.9714 - accuracy: 0.6290 - val_loss: 1.0553 - val_accuracy: 0.6077\n",
      "Epoch 10/40\n",
      "1228/1228 [==============================] - 8s 6ms/step - loss: 0.9698 - accuracy: 0.6277 - val_loss: 1.0689 - val_accuracy: 0.6011\n",
      "Epoch 11/40\n",
      "1228/1228 [==============================] - 8s 7ms/step - loss: 0.9661 - accuracy: 0.6297 - val_loss: 1.0597 - val_accuracy: 0.6061\n",
      "Epoch 12/40\n",
      "1228/1228 [==============================] - 8s 6ms/step - loss: 0.9657 - accuracy: 0.6295 - val_loss: 1.0581 - val_accuracy: 0.6077\n",
      "Epoch 13/40\n",
      "1228/1228 [==============================] - 8s 7ms/step - loss: 0.9641 - accuracy: 0.6313 - val_loss: 1.0488 - val_accuracy: 0.6012\n",
      "Epoch 14/40\n",
      "1228/1228 [==============================] - 8s 6ms/step - loss: 0.9632 - accuracy: 0.6302 - val_loss: 1.0511 - val_accuracy: 0.5970\n",
      "Epoch 15/40\n",
      "1228/1228 [==============================] - 8s 6ms/step - loss: 0.9615 - accuracy: 0.6315 - val_loss: 1.0509 - val_accuracy: 0.6021\n",
      "Epoch 16/40\n",
      "1228/1228 [==============================] - 8s 7ms/step - loss: 0.9613 - accuracy: 0.6333 - val_loss: 1.0597 - val_accuracy: 0.6047\n",
      "Epoch 17/40\n",
      "1228/1228 [==============================] - 8s 6ms/step - loss: 0.9588 - accuracy: 0.6312 - val_loss: 1.0605 - val_accuracy: 0.6003\n",
      "Epoch 18/40\n",
      "1228/1228 [==============================] - 8s 6ms/step - loss: 0.9566 - accuracy: 0.6331 - val_loss: 1.0598 - val_accuracy: 0.6033\n",
      "Epoch 19/40\n",
      "1228/1228 [==============================] - 8s 7ms/step - loss: 0.9594 - accuracy: 0.6329 - val_loss: 1.0823 - val_accuracy: 0.5851\n",
      "Epoch 20/40\n",
      "1228/1228 [==============================] - 8s 6ms/step - loss: 0.9575 - accuracy: 0.6333 - val_loss: 1.0610 - val_accuracy: 0.6049\n",
      "Epoch 21/40\n",
      "1228/1228 [==============================] - 8s 6ms/step - loss: 0.9564 - accuracy: 0.6332 - val_loss: 1.0509 - val_accuracy: 0.6054\n",
      "Epoch 22/40\n",
      "1228/1228 [==============================] - 8s 6ms/step - loss: 0.9560 - accuracy: 0.6329 - val_loss: 1.0897 - val_accuracy: 0.6085\n",
      "Epoch 23/40\n",
      "1228/1228 [==============================] - 8s 7ms/step - loss: 0.9543 - accuracy: 0.6348 - val_loss: 1.0675 - val_accuracy: 0.5916\n",
      "Epoch 24/40\n",
      "1228/1228 [==============================] - 8s 6ms/step - loss: 0.9550 - accuracy: 0.6342 - val_loss: 1.0617 - val_accuracy: 0.6008\n",
      "Epoch 25/40\n",
      "1228/1228 [==============================] - 8s 6ms/step - loss: 0.9543 - accuracy: 0.6338 - val_loss: 1.0794 - val_accuracy: 0.5979\n",
      "Epoch 26/40\n",
      "1228/1228 [==============================] - 8s 6ms/step - loss: 0.9515 - accuracy: 0.6348 - val_loss: 1.0869 - val_accuracy: 0.5978\n",
      "Epoch 27/40\n",
      "1228/1228 [==============================] - 8s 6ms/step - loss: 0.9530 - accuracy: 0.6361 - val_loss: 1.0597 - val_accuracy: 0.6033\n",
      "Epoch 28/40\n",
      "1228/1228 [==============================] - 8s 6ms/step - loss: 0.9537 - accuracy: 0.6339 - val_loss: 1.0686 - val_accuracy: 0.5955\n",
      "Epoch 29/40\n",
      "1228/1228 [==============================] - 8s 6ms/step - loss: 0.9527 - accuracy: 0.6371 - val_loss: 1.0671 - val_accuracy: 0.6047\n",
      "Epoch 30/40\n",
      "1228/1228 [==============================] - 8s 6ms/step - loss: 0.9504 - accuracy: 0.6343 - val_loss: 1.0696 - val_accuracy: 0.6065\n",
      "Epoch 31/40\n",
      "1228/1228 [==============================] - 8s 7ms/step - loss: 0.9505 - accuracy: 0.6363 - val_loss: 1.0729 - val_accuracy: 0.6064\n",
      "Epoch 32/40\n",
      "1228/1228 [==============================] - 8s 6ms/step - loss: 0.9498 - accuracy: 0.6370 - val_loss: 1.0853 - val_accuracy: 0.5987\n",
      "Epoch 33/40\n",
      "1228/1228 [==============================] - 8s 6ms/step - loss: 0.9507 - accuracy: 0.6355 - val_loss: 1.0772 - val_accuracy: 0.6031\n",
      "Epoch 34/40\n",
      "1228/1228 [==============================] - 8s 6ms/step - loss: 0.9502 - accuracy: 0.6376 - val_loss: 1.0700 - val_accuracy: 0.5996\n",
      "Epoch 35/40\n",
      "1228/1228 [==============================] - 8s 7ms/step - loss: 0.9488 - accuracy: 0.6358 - val_loss: 1.0680 - val_accuracy: 0.5992\n",
      "Epoch 36/40\n",
      "1228/1228 [==============================] - 8s 6ms/step - loss: 0.9501 - accuracy: 0.6364 - val_loss: 1.0822 - val_accuracy: 0.6003\n",
      "Epoch 37/40\n",
      "1228/1228 [==============================] - 8s 6ms/step - loss: 0.9496 - accuracy: 0.6383 - val_loss: 1.0696 - val_accuracy: 0.6009\n",
      "Epoch 38/40\n",
      "1228/1228 [==============================] - 8s 6ms/step - loss: 0.9490 - accuracy: 0.6363 - val_loss: 1.0686 - val_accuracy: 0.5984\n",
      "Epoch 39/40\n",
      "1228/1228 [==============================] - 8s 7ms/step - loss: 0.9490 - accuracy: 0.6351 - val_loss: 1.0862 - val_accuracy: 0.6003\n",
      "Epoch 40/40\n",
      "1228/1228 [==============================] - 8s 6ms/step - loss: 0.9489 - accuracy: 0.6356 - val_loss: 1.0933 - val_accuracy: 0.5811\n"
     ]
    }
   ],
   "source": [
    "history = model_7_3.fit(X_train, y_train, validation_split=0.2, batch_size = 32, epochs = 40)"
   ]
  },
  {
   "cell_type": "code",
   "execution_count": 183,
   "id": "08757bbe",
   "metadata": {},
   "outputs": [
    {
     "data": {
      "text/plain": [
       "[<matplotlib.lines.Line2D at 0x7f6e00124710>]"
      ]
     },
     "execution_count": 183,
     "metadata": {},
     "output_type": "execute_result"
    },
    {
     "data": {
      "image/png": "[encoded data removed]",
      "text/plain": [
       "<Figure size 432x288 with 1 Axes>"
      ]
     },
     "metadata": {
      "needs_background": "light"
     },
     "output_type": "display_data"
    }
   ],
   "source": [
    "# plt.plot(history.history['loss'])\n",
    "# plt.plot(history.history['val_loss'])\n",
    "\n",
    "# plt.title('model 7_3 loss')\n",
    "# plt.ylabel('loss')\n",
    "# plt.xlabel('epoch')\n",
    "# plt.legend(['train','valid'], loc='upper left')\n",
    "# plt.show()"
   ]
  },
  {
   "cell_type": "code",
   "execution_count": 187,
   "id": "3b0d7d9e",
   "metadata": {
    "execution": {
     "iopub.execute_input": "2023-02-09T22:21:51.399704Z",
     "iopub.status.busy": "2023-02-09T22:21:51.399333Z",
     "iopub.status.idle": "2023-02-09T22:21:51.616966Z",
     "shell.execute_reply": "2023-02-09T22:21:51.616003Z",
     "shell.execute_reply.started": "2023-02-09T22:21:51.399673Z"
    }
   },
   "outputs": [
    {
     "data": {
      "image/png": "[encoded data removed]",
      "text/plain": [
       "<Figure size 432x288 with 1 Axes>"
      ]
     },
     "metadata": {
      "needs_background": "light"
     },
     "output_type": "display_data"
    }
   ],
   "source": [
    "plt.plot(history.history['accuracy'])\n",
    "plt.plot(history.history['val_accuracy'])\n",
    "\n",
    "plt.title('model 7_3 accuracy')\n",
    "plt.ylabel('Accuracy')\n",
    "plt.xlabel('epoch')\n",
    "plt.legend(['train','valid'], loc='upper left')\n",
    "plt.show()"
   ]
  },
  {
   "cell_type": "code",
   "execution_count": 184,
   "id": "65c48dd1",
   "metadata": {
    "execution": {
     "iopub.execute_input": "2023-02-09T22:10:29.761232Z",
     "iopub.status.busy": "2023-02-09T22:10:29.760844Z",
     "iopub.status.idle": "2023-02-09T22:10:31.594697Z",
     "shell.execute_reply": "2023-02-09T22:10:31.593760Z",
     "shell.execute_reply.started": "2023-02-09T22:10:29.761197Z"
    }
   },
   "outputs": [
    {
     "name": "stdout",
     "output_type": "stream",
     "text": [
      "384/384 [==============================] - 2s 5ms/step - loss: 1.0875 - accuracy: 0.5832\n"
     ]
    }
   ],
   "source": [
    "test_loss, test_acc = model_7_3.evaluate(X_test, y_test)"
   ]
  },
  {
   "attachments": {},
   "cell_type": "markdown",
   "id": "640dd0c7",
   "metadata": {},
   "source": [
    "A significant increase in model 7 train_accuracy (65%, 65%, 63%) compare to the previous result (59%) as the model converged more quickly with these 3 selected optimizer. Howere, the same impact is not reflected in val_accuracy and test accuracy. All 3 learning curve graph \"model 7_1\",\"model 7_2\", \"model 7_3\" shown a clear sign of overfitting as the val_accuracy decrease toward the last epoch and widen the gap between train and validation. "
   ]
  },
  {
   "cell_type": "markdown",
   "id": "ce855ff7",
   "metadata": {},
   "source": [
    "# 4-12 Keras Random Search Tuner"
   ]
  },
  {
   "attachments": {},
   "cell_type": "markdown",
   "id": "c3089dfe",
   "metadata": {},
   "source": [
    "In this section, after defining train,test and valid dataset, we import keras_tuner and write a function that builds, compiles and returns a keras model.The function must take a kt.HyperParameters object as an argument,in which hyperparameters are defined with their range of possible values. The hyperparameter values are randomply pick to build and compile the model. The combination of hyperparameter values, that provide the highest accurarcy score for model, is then selected to create the best model.\n",
    " For our project, the following hyperparameters are selected for fine tunning:\n",
    " * Number of hidden layer\n",
    " * Number of nodes in each layer\n",
    " * Learning rate\n",
    " * Type of optimizers\n",
    "\n",
    "We will run 'build model' function with 8 trial for our dataset. For each trial, this function pick a random value of the predefined range for each hyperparameter and after running 8 different architecture with different set of hyperparameters, the best model is selected based on val_accuracy score.\n"
   ]
  },
  {
   "cell_type": "code",
   "execution_count": 188,
   "id": "dc1ea552",
   "metadata": {
    "execution": {
     "iopub.execute_input": "2023-02-09T22:22:17.733897Z",
     "iopub.status.busy": "2023-02-09T22:22:17.733548Z",
     "iopub.status.idle": "2023-02-09T22:22:17.748515Z",
     "shell.execute_reply": "2023-02-09T22:22:17.747386Z",
     "shell.execute_reply.started": "2023-02-09T22:22:17.733867Z"
    }
   },
   "outputs": [],
   "source": [
    "X = list(spotify['Cleaned_Review'])\n",
    "y = spotify['Rating']"
   ]
  },
  {
   "cell_type": "code",
   "execution_count": 189,
   "id": "ee7deeeb",
   "metadata": {
    "execution": {
     "iopub.execute_input": "2023-02-09T22:22:20.583838Z",
     "iopub.status.busy": "2023-02-09T22:22:20.583483Z",
     "iopub.status.idle": "2023-02-09T22:22:20.624382Z",
     "shell.execute_reply": "2023-02-09T22:22:20.623298Z",
     "shell.execute_reply.started": "2023-02-09T22:22:20.583809Z"
    }
   },
   "outputs": [],
   "source": [
    "X_train_full, X_test, y_train_full, y_test = train_test_split(X, y, test_size=0.20, random_state=42)\n",
    "X_train, X_valid, y_train, y_valid = train_test_split(X_train_full, y_train_full, test_size=0.2, random_state=42)"
   ]
  },
  {
   "cell_type": "code",
   "execution_count": 191,
   "id": "d2803f79",
   "metadata": {
    "execution": {
     "iopub.execute_input": "2023-02-09T22:22:29.979703Z",
     "iopub.status.busy": "2023-02-09T22:22:29.979338Z",
     "iopub.status.idle": "2023-02-09T22:22:30.007044Z",
     "shell.execute_reply": "2023-02-09T22:22:30.005867Z",
     "shell.execute_reply.started": "2023-02-09T22:22:29.979672Z"
    }
   },
   "outputs": [],
   "source": [
    "y_test = y_test.map(lambda x: x % 5)\n",
    "y_train = y_train.map(lambda x: x % 5)\n",
    "y_valid = y_valid.map(lambda x: x % 5)"
   ]
  },
  {
   "cell_type": "code",
   "execution_count": 192,
   "id": "4f2c9c2d",
   "metadata": {
    "execution": {
     "iopub.execute_input": "2023-02-09T22:22:33.804590Z",
     "iopub.status.busy": "2023-02-09T22:22:33.804235Z",
     "iopub.status.idle": "2023-02-09T22:22:35.465774Z",
     "shell.execute_reply": "2023-02-09T22:22:35.464743Z",
     "shell.execute_reply.started": "2023-02-09T22:22:33.804559Z"
    }
   },
   "outputs": [],
   "source": [
    "num_words_ = 5000\n",
    "oov_tok = \"<OOV>\"\n",
    "tokenizer = Tokenizer(num_words=num_words_, oov_token=oov_tok)\n",
    "tokenizer.fit_on_texts(X_train)\n",
    "X_train = tokenizer.texts_to_sequences(X_train)\n",
    "X_test = tokenizer.texts_to_sequences(X_test)\n",
    "X_valid = tokenizer.texts_to_sequences(X_valid)\n"
   ]
  },
  {
   "cell_type": "code",
   "execution_count": 193,
   "id": "cfdf20b8",
   "metadata": {
    "execution": {
     "iopub.execute_input": "2023-02-09T22:22:36.982115Z",
     "iopub.status.busy": "2023-02-09T22:22:36.981556Z",
     "iopub.status.idle": "2023-02-09T22:22:37.384913Z",
     "shell.execute_reply": "2023-02-09T22:22:37.383946Z",
     "shell.execute_reply.started": "2023-02-09T22:22:36.982076Z"
    }
   },
   "outputs": [],
   "source": [
    "vocab_size = len(tokenizer.word_index) + 1\n",
    "\n",
    "maxlen = 300\n",
    "trunc_type='post'\n",
    "padding_type='post'\n",
    "\n",
    "X_valid = pad_sequences(X_valid, maxlen=maxlen, truncating= trunc_type, padding=padding_type)\n",
    "X_train = pad_sequences(X_train, maxlen=maxlen, truncating= trunc_type, padding=padding_type)\n",
    "X_test = pad_sequences(X_test, padding=padding_type, maxlen=maxlen, truncating= trunc_type)"
   ]
  },
  {
   "cell_type": "code",
   "execution_count": 195,
   "id": "8d4d47c1",
   "metadata": {
    "execution": {
     "iopub.execute_input": "2023-02-09T22:22:59.823304Z",
     "iopub.status.busy": "2023-02-09T22:22:59.822910Z",
     "iopub.status.idle": "2023-02-09T22:23:03.657849Z",
     "shell.execute_reply": "2023-02-09T22:23:03.656874Z",
     "shell.execute_reply.started": "2023-02-09T22:22:59.823273Z"
    }
   },
   "outputs": [],
   "source": [
    "from numpy import array\n",
    "from numpy import asarray\n",
    "from numpy import zeros\n",
    "\n",
    "embeddings_dictionary = dict()\n",
    "glove_file = open('/kaggle/input/glove6b50dtxt/glove.6B.50d.txt', encoding=\"utf8\")\n",
    "\n",
    "for line in glove_file:\n",
    "    records = line.split()\n",
    "    word = records[0]\n",
    "    vector_dimensions = asarray(records[1:], dtype='float32')\n",
    "    embeddings_dictionary [word] = vector_dimensions\n",
    "glove_file.close()\n",
    "\n",
    "\n",
    "embedding_matrix = zeros((vocab_size, 50))\n",
    "for word, index in tokenizer.word_index.items():\n",
    "    embedding_vector = embeddings_dictionary.get(word)\n",
    "    if embedding_vector is not None:\n",
    "        embedding_matrix[index] = embedding_vector"
   ]
  },
  {
   "cell_type": "code",
   "execution_count": 196,
   "id": "2a917f25",
   "metadata": {
    "execution": {
     "iopub.execute_input": "2023-02-09T22:23:05.258091Z",
     "iopub.status.busy": "2023-02-09T22:23:05.257730Z",
     "iopub.status.idle": "2023-02-09T22:23:05.269365Z",
     "shell.execute_reply": "2023-02-09T22:23:05.268249Z",
     "shell.execute_reply.started": "2023-02-09T22:23:05.258060Z"
    }
   },
   "outputs": [],
   "source": [
    "import keras_tuner as kt\n",
    "embedding_layer = Embedding(vocab_size, 50, weights=[embedding_matrix], input_length=maxlen , trainable=False)\n",
    "def build_model(hp):\n",
    "    n_hidden = hp.Int(\"n_hidden\", min_value=1, max_value=12, default=4)\n",
    "    n_neurons = hp.Int(\"n_neurons\", min_value=8, max_value=256)\n",
    "    learning_rate = hp.Float(\"learning_rate\", min_value=1e-4, max_value=1e-2, sampling=\"log\")\n",
    "    optimizer = hp.Choice(\"optimizer\", values=[\"nadam\", \"adam\", \"RMSprop\"])\n",
    "    if optimizer == \"nadam\":\n",
    "        optimizer = tf.keras.optimizers.Nadam(learning_rate=learning_rate)\n",
    "    elif optimizer == \"adam\":\n",
    "        optimizer = tf.keras.optimizers.Adam(learning_rate=learning_rate)\n",
    "    else:\n",
    "        optimizer = tf.keras.optimizers.RMSprop(learning_rate=learning_rate)\n",
    "        \n",
    "    model = tf.keras.Sequential()\n",
    "    model.add(embedding_layer)\n",
    "    for _ in range(n_hidden):\n",
    "        model.add(tf.keras.layers.Dense(n_neurons, activation=\"relu\"))\n",
    "    model.add(tf.keras.layers.Flatten())    \n",
    "    model.add(tf.keras.layers.Dense(5, activation=\"softmax\"))\n",
    "    model.compile(loss=\"sparse_categorical_crossentropy\", optimizer=optimizer, metrics=['accuracy'])\n",
    "    return model"
   ]
  },
  {
   "cell_type": "code",
   "execution_count": 197,
   "id": "f3ea88b3",
   "metadata": {
    "execution": {
     "iopub.execute_input": "2023-02-09T22:23:08.940733Z",
     "iopub.status.busy": "2023-02-09T22:23:08.940364Z",
     "iopub.status.idle": "2023-02-09T22:40:56.419714Z",
     "shell.execute_reply": "2023-02-09T22:40:56.418642Z",
     "shell.execute_reply.started": "2023-02-09T22:23:08.940702Z"
    }
   },
   "outputs": [
    {
     "name": "stdout",
     "output_type": "stream",
     "text": [
      "Trial 8 Complete [00h 03m 23s]\n",
      "val_accuracy: 0.5933014154434204\n",
      "\n",
      "Best val_accuracy So Far: 0.5954392552375793\n",
      "Total elapsed time: 00h 17m 47s\n"
     ]
    }
   ],
   "source": [
    "random_search_tuner = kt.RandomSearch(build_model, objective=\"val_accuracy\", max_trials=8, overwrite=True,\n",
    "directory=\"spotify\", project_name=\"my_rnd_search\", seed=42)\n",
    "random_search_tuner.search(X_train, y_train, epochs=10, validation_data=(X_valid, y_valid))\n"
   ]
  },
  {
   "cell_type": "code",
   "execution_count": 198,
   "id": "0476674f",
   "metadata": {
    "execution": {
     "iopub.execute_input": "2023-02-09T22:40:56.422521Z",
     "iopub.status.busy": "2023-02-09T22:40:56.421784Z",
     "iopub.status.idle": "2023-02-09T22:40:58.230566Z",
     "shell.execute_reply": "2023-02-09T22:40:58.229612Z",
     "shell.execute_reply.started": "2023-02-09T22:40:56.422471Z"
    }
   },
   "outputs": [],
   "source": [
    "top3_models = random_search_tuner.get_best_models(num_models=3)\n",
    "best_model = top3_models[0]"
   ]
  },
  {
   "cell_type": "code",
   "execution_count": 201,
   "id": "33221e2f",
   "metadata": {
    "execution": {
     "iopub.execute_input": "2023-02-09T22:46:51.329233Z",
     "iopub.status.busy": "2023-02-09T22:46:51.328859Z",
     "iopub.status.idle": "2023-02-09T22:46:51.335695Z",
     "shell.execute_reply": "2023-02-09T22:46:51.334724Z",
     "shell.execute_reply.started": "2023-02-09T22:46:51.329203Z"
    }
   },
   "outputs": [
    {
     "name": "stdout",
     "output_type": "stream",
     "text": [
      "Trial summary\n",
      "Hyperparameters:\n",
      "n_hidden: 7\n",
      "n_neurons: 64\n",
      "learning_rate: 0.00041268008323824807\n",
      "optimizer: adam\n",
      "Score: 0.5954392552375793\n"
     ]
    }
   ],
   "source": [
    "best_trial = random_search_tuner.oracle.get_best_trials(num_trials=1)[0]\n",
    "best_trial.summary()"
   ]
  },
  {
   "cell_type": "code",
   "execution_count": 199,
   "id": "b5ae6a3f",
   "metadata": {
    "execution": {
     "iopub.execute_input": "2023-02-09T22:40:58.232378Z",
     "iopub.status.busy": "2023-02-09T22:40:58.232039Z",
     "iopub.status.idle": "2023-02-09T22:46:35.060671Z",
     "shell.execute_reply": "2023-02-09T22:46:35.059925Z",
     "shell.execute_reply.started": "2023-02-09T22:40:58.232345Z"
    }
   },
   "outputs": [
    {
     "name": "stdout",
     "output_type": "stream",
     "text": [
      "Epoch 1/40\n",
      "1228/1228 [==============================] - 9s 7ms/step - loss: 0.9735 - accuracy: 0.6280\n",
      "Epoch 2/40\n",
      "1228/1228 [==============================] - 9s 7ms/step - loss: 0.9632 - accuracy: 0.6321\n",
      "Epoch 3/40\n",
      "1228/1228 [==============================] - 8s 7ms/step - loss: 0.9549 - accuracy: 0.6348\n",
      "Epoch 4/40\n",
      "1228/1228 [==============================] - 8s 7ms/step - loss: 0.9470 - accuracy: 0.6393\n",
      "Epoch 5/40\n",
      "1228/1228 [==============================] - 8s 7ms/step - loss: 0.9363 - accuracy: 0.6438\n",
      "Epoch 6/40\n",
      "1228/1228 [==============================] - 9s 7ms/step - loss: 0.9299 - accuracy: 0.6450\n",
      "Epoch 7/40\n",
      "1228/1228 [==============================] - 8s 7ms/step - loss: 0.9207 - accuracy: 0.6512\n",
      "Epoch 8/40\n",
      "1228/1228 [==============================] - 8s 7ms/step - loss: 0.9129 - accuracy: 0.6537\n",
      "Epoch 9/40\n",
      "1228/1228 [==============================] - 9s 7ms/step - loss: 0.9059 - accuracy: 0.6572\n",
      "Epoch 10/40\n",
      "1228/1228 [==============================] - 8s 7ms/step - loss: 0.8985 - accuracy: 0.6592\n",
      "Epoch 11/40\n",
      "1228/1228 [==============================] - 8s 7ms/step - loss: 0.8896 - accuracy: 0.6628\n",
      "Epoch 12/40\n",
      "1228/1228 [==============================] - 8s 7ms/step - loss: 0.8823 - accuracy: 0.6665\n",
      "Epoch 13/40\n",
      "1228/1228 [==============================] - 9s 7ms/step - loss: 0.8759 - accuracy: 0.6705\n",
      "Epoch 14/40\n",
      "1228/1228 [==============================] - 8s 7ms/step - loss: 0.8676 - accuracy: 0.6726\n",
      "Epoch 15/40\n",
      "1228/1228 [==============================] - 8s 7ms/step - loss: 0.8590 - accuracy: 0.6755\n",
      "Epoch 16/40\n",
      "1228/1228 [==============================] - 8s 7ms/step - loss: 0.8505 - accuracy: 0.6791\n",
      "Epoch 17/40\n",
      "1228/1228 [==============================] - 9s 7ms/step - loss: 0.8451 - accuracy: 0.6809\n",
      "Epoch 18/40\n",
      "1228/1228 [==============================] - 8s 7ms/step - loss: 0.8378 - accuracy: 0.6839\n",
      "Epoch 19/40\n",
      "1228/1228 [==============================] - 8s 7ms/step - loss: 0.8295 - accuracy: 0.6871\n",
      "Epoch 20/40\n",
      "1228/1228 [==============================] - 8s 7ms/step - loss: 0.8235 - accuracy: 0.6893\n",
      "Epoch 21/40\n",
      "1228/1228 [==============================] - 9s 7ms/step - loss: 0.8157 - accuracy: 0.6935\n",
      "Epoch 22/40\n",
      "1228/1228 [==============================] - 8s 7ms/step - loss: 0.8091 - accuracy: 0.6988\n",
      "Epoch 23/40\n",
      "1228/1228 [==============================] - 8s 7ms/step - loss: 0.8039 - accuracy: 0.6998\n",
      "Epoch 24/40\n",
      "1228/1228 [==============================] - 8s 7ms/step - loss: 0.7956 - accuracy: 0.7009\n",
      "Epoch 25/40\n",
      "1228/1228 [==============================] - 9s 7ms/step - loss: 0.7887 - accuracy: 0.7051\n",
      "Epoch 26/40\n",
      "1228/1228 [==============================] - 8s 7ms/step - loss: 0.7832 - accuracy: 0.7071\n",
      "Epoch 27/40\n",
      "1228/1228 [==============================] - 8s 7ms/step - loss: 0.7780 - accuracy: 0.7093\n",
      "Epoch 28/40\n",
      "1228/1228 [==============================] - 9s 7ms/step - loss: 0.7699 - accuracy: 0.7124\n",
      "Epoch 29/40\n",
      "1228/1228 [==============================] - 8s 7ms/step - loss: 0.7637 - accuracy: 0.7150\n",
      "Epoch 30/40\n",
      "1228/1228 [==============================] - 8s 7ms/step - loss: 0.7581 - accuracy: 0.7178\n",
      "Epoch 31/40\n",
      "1228/1228 [==============================] - 8s 7ms/step - loss: 0.7528 - accuracy: 0.7187\n",
      "Epoch 32/40\n",
      "1228/1228 [==============================] - 9s 7ms/step - loss: 0.7459 - accuracy: 0.7232\n",
      "Epoch 33/40\n",
      "1228/1228 [==============================] - 8s 7ms/step - loss: 0.7407 - accuracy: 0.7234\n",
      "Epoch 34/40\n",
      "1228/1228 [==============================] - 8s 7ms/step - loss: 0.7360 - accuracy: 0.7252\n",
      "Epoch 35/40\n",
      "1228/1228 [==============================] - 8s 7ms/step - loss: 0.7307 - accuracy: 0.7281\n",
      "Epoch 36/40\n",
      "1228/1228 [==============================] - 9s 7ms/step - loss: 0.7259 - accuracy: 0.7283\n",
      "Epoch 37/40\n",
      "1228/1228 [==============================] - 8s 7ms/step - loss: 0.7191 - accuracy: 0.7327\n",
      "Epoch 38/40\n",
      "1228/1228 [==============================] - 8s 7ms/step - loss: 0.7154 - accuracy: 0.7355\n",
      "Epoch 39/40\n",
      "1228/1228 [==============================] - 8s 7ms/step - loss: 0.7104 - accuracy: 0.7356\n",
      "Epoch 40/40\n",
      "1228/1228 [==============================] - 9s 7ms/step - loss: 0.7063 - accuracy: 0.7375\n"
     ]
    },
    {
     "data": {
      "text/plain": [
       "<keras.callbacks.History at 0x7f71b5880610>"
      ]
     },
     "execution_count": 199,
     "metadata": {},
     "output_type": "execute_result"
    }
   ],
   "source": [
    "best_model.fit(X_train, y_train, epochs=40)"
   ]
  },
  {
   "cell_type": "code",
   "execution_count": 200,
   "id": "10a6161c",
   "metadata": {
    "execution": {
     "iopub.execute_input": "2023-02-09T22:46:35.063439Z",
     "iopub.status.busy": "2023-02-09T22:46:35.062828Z",
     "iopub.status.idle": "2023-02-09T22:46:37.353413Z",
     "shell.execute_reply": "2023-02-09T22:46:37.352505Z",
     "shell.execute_reply.started": "2023-02-09T22:46:35.063403Z"
    }
   },
   "outputs": [
    {
     "name": "stdout",
     "output_type": "stream",
     "text": [
      "384/384 [==============================] - 2s 5ms/step - loss: 1.4485 - accuracy: 0.5671\n"
     ]
    }
   ],
   "source": [
    "test_loss, test_acc = best_model.evaluate(X_test, y_test)"
   ]
  },
  {
   "attachments": {},
   "cell_type": "markdown",
   "id": "01be540a",
   "metadata": {},
   "source": [
    "With the use of keras tuner, even higher train accuracy score is achieved, but still does not improve the test accuracy. The model becomes too complex and learns the trainning data too well but cannot predict the new and unseen data. "
   ]
  },
  {
   "attachments": {},
   "cell_type": "markdown",
   "id": "e93ea268",
   "metadata": {},
   "source": [
    "# 5- Benchmarking with traditional Machine Learning model"
   ]
  },
  {
   "attachments": {},
   "cell_type": "markdown",
   "id": "d5795871",
   "metadata": {},
   "source": [
    "In here, we performed an extra step to compare between our deep learning model with other \"traditional\" machine learning model to see if our network overtrained the data and the prediction can simply be done by simpler model"
   ]
  },
  {
   "attachments": {},
   "cell_type": "markdown",
   "id": "836598e7",
   "metadata": {},
   "source": [
    "For our ML model, we used TF-IDF Vectorizer to process our text and examine the accuracy score with LogisticRegression(), DecisionTreeClassifier(), MultinomialNB(), RandomForestClassifier() alogrithm"
   ]
  },
  {
   "cell_type": "code",
   "execution_count": 26,
   "id": "4cc30025",
   "metadata": {},
   "outputs": [],
   "source": [
    "from sklearn.linear_model import LogisticRegression\n",
    "from sklearn.tree import DecisionTreeClassifier\n",
    "from sklearn.svm import SVC\n",
    "from sklearn.ensemble import RandomForestClassifier\n",
    "from sklearn.naive_bayes import MultinomialNB\n",
    "from sklearn.model_selection import GridSearchCV\n",
    "from sklearn import metrics\n",
    "from sklearn.metrics import accuracy_score"
   ]
  },
  {
   "cell_type": "code",
   "execution_count": 27,
   "id": "98040a50",
   "metadata": {},
   "outputs": [],
   "source": [
    "X = list(spotify['Cleaned_Review'])\n",
    "y = spotify['Rating']"
   ]
  },
  {
   "cell_type": "code",
   "execution_count": 28,
   "id": "cbd14d67",
   "metadata": {},
   "outputs": [],
   "source": [
    "from sklearn.feature_extraction.text import TfidfVectorizer   \n",
    "v = TfidfVectorizer()\n",
    "x_tfidf = v.fit_transform((spotify['Cleaned_Review'].values))"
   ]
  },
  {
   "cell_type": "code",
   "execution_count": 29,
   "id": "95da9c28",
   "metadata": {},
   "outputs": [],
   "source": [
    "X_train,X_test,y_train,y_test=train_test_split(x_tfidf,y,test_size=0.3)"
   ]
  },
  {
   "cell_type": "code",
   "execution_count": 30,
   "id": "aca69c07",
   "metadata": {},
   "outputs": [
    {
     "name": "stderr",
     "output_type": "stream",
     "text": [
      "C:\\Users\\PC\\anaconda3\\lib\\site-packages\\sklearn\\linear_model\\_logistic.py:444: ConvergenceWarning: lbfgs failed to converge (status=1):\n",
      "STOP: TOTAL NO. of ITERATIONS REACHED LIMIT.\n",
      "\n",
      "Increase the number of iterations (max_iter) or scale the data as shown in:\n",
      "    https://scikit-learn.org/stable/modules/preprocessing.html\n",
      "Please also refer to the documentation for alternative solver options:\n",
      "    https://scikit-learn.org/stable/modules/linear_model.html#logistic-regression\n",
      "  n_iter_i = _check_optimize_result(\n"
     ]
    }
   ],
   "source": [
    "results = []\n",
    "algorithms = [LogisticRegression(), DecisionTreeClassifier(), MultinomialNB(), RandomForestClassifier()]\n",
    "\n",
    "\n",
    "for model in algorithms:\n",
    "    model.fit(X_train,y_train)\n",
    "    predictions = model.predict(X_test)\n",
    "    score = accuracy_score(y_test, predictions)\n",
    "    results.append(score)"
   ]
  },
  {
   "cell_type": "code",
   "execution_count": 31,
   "id": "93b92163",
   "metadata": {},
   "outputs": [
    {
     "data": {
      "text/html": [
       "<div>\n",
       "<style scoped>\n",
       "    .dataframe tbody tr th:only-of-type {\n",
       "        vertical-align: middle;\n",
       "    }\n",
       "\n",
       "    .dataframe tbody tr th {\n",
       "        vertical-align: top;\n",
       "    }\n",
       "\n",
       "    .dataframe thead th {\n",
       "        text-align: right;\n",
       "    }\n",
       "</style>\n",
       "<table border=\"1\" class=\"dataframe\">\n",
       "  <thead>\n",
       "    <tr style=\"text-align: right;\">\n",
       "      <th></th>\n",
       "      <th>Model</th>\n",
       "      <th>Accuracy</th>\n",
       "    </tr>\n",
       "  </thead>\n",
       "  <tbody>\n",
       "    <tr>\n",
       "      <th>0</th>\n",
       "      <td>LogisticRegression()</td>\n",
       "      <td>0.608915</td>\n",
       "    </tr>\n",
       "    <tr>\n",
       "      <th>1</th>\n",
       "      <td>DecisionTreeClassifier()</td>\n",
       "      <td>0.476762</td>\n",
       "    </tr>\n",
       "    <tr>\n",
       "      <th>2</th>\n",
       "      <td>MultinomialNB()</td>\n",
       "      <td>0.585731</td>\n",
       "    </tr>\n",
       "    <tr>\n",
       "      <th>3</th>\n",
       "      <td>RandomForestClassifier()</td>\n",
       "      <td>0.581876</td>\n",
       "    </tr>\n",
       "  </tbody>\n",
       "</table>\n",
       "</div>"
      ],
      "text/plain": [
       "                      Model  Accuracy\n",
       "0      LogisticRegression()  0.608915\n",
       "1  DecisionTreeClassifier()  0.476762\n",
       "2           MultinomialNB()  0.585731\n",
       "3  RandomForestClassifier()  0.581876"
      ]
     },
     "execution_count": 31,
     "metadata": {},
     "output_type": "execute_result"
    }
   ],
   "source": [
    "model =[]\n",
    "for i in algorithms:\n",
    "    model.append(str(i))\n",
    "Spotify_1 = pd.DataFrame(zip(model, results), columns=['Model','Accuracy'])\n",
    "Spotify_1"
   ]
  },
  {
   "attachments": {},
   "cell_type": "markdown",
   "id": "d49cb118",
   "metadata": {},
   "source": [
    "Except for Decision Tree Classifier , all other ML model (without hyperparameter fine tunning) achieve a similar accuracy score with our DL model. It suggest that further research is needed to improve our DL for this given task."
   ]
  },
  {
   "attachments": {},
   "cell_type": "markdown",
   "id": "bbf17f4b",
   "metadata": {},
   "source": [
    "# 6- Summary"
   ]
  },
  {
   "attachments": {},
   "cell_type": "markdown",
   "id": "8e2f5ed7",
   "metadata": {},
   "source": [
    "Overall, the accuracy score (aprx 60%) is not a satisfied level in practice. However, the project has provided a great learning experience for us in term of understanding the course material and practicing our coding skill."
   ]
  },
  {
   "attachments": {},
   "cell_type": "markdown",
   "id": "d1aff954",
   "metadata": {},
   "source": [
    "We have build and examine our DL model by increasing level of complexity, changing alogrithm, performing fine-tuning with different optimizers and random search. Through these practice, we were able to achieve higher accuracy score in trainning but perform poorly on new and unseen data. For further improvement, we could apply a serveral regularization techniques such as dropout, early stopping to mitigate overfitting. Another practice would be considered is to revise our data preprocessing by using other dictionary or the whole corpus instead of Glove, OR scraping more customer review for our dataset."
   ]
  }
 ],
 "metadata": {
  "kernelspec": {
   "display_name": "Python 3 (ipykernel)",
   "language": "python",
   "name": "python3"
  },
  "language_info": {
   "codemirror_mode": {
    "name": "ipython",
    "version": 3
   },
   "file_extension": ".py",
   "mimetype": "text/x-python",
   "name": "python",
   "nbconvert_exporter": "python",
   "pygments_lexer": "ipython3",
   "version": "3.9.12"
  }
 },
 "nbformat": 4,
 "nbformat_minor": 5
}
